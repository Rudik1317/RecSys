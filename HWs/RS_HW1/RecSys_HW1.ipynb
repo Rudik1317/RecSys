{
  "nbformat": 4,
  "nbformat_minor": 0,
  "metadata": {
    "colab": {
      "provenance": [],
      "collapsed_sections": [
        "4Hpb-T5fxy6A",
        "jdZswSRbx2Fu",
        "-f5sqmdtx3zI",
        "a189v7dt2Ia0",
        "sQ3cuqYy2C4_",
        "dLalwMRykPY4",
        "deHynRWkECWC",
        "SbvA37tPyGiw",
        "nRRlCuWCE2Jb",
        "FlwcxMskX93w",
        "VgQoEk6T19pC",
        "mzJmKe3619u7",
        "VwSc9lUx4wEZ",
        "UhydTQfvBQF1"
      ]
    },
    "kernelspec": {
      "name": "python3",
      "display_name": "Python 3"
    },
    "language_info": {
      "name": "python"
    }
  },
  "cells": [
    {
      "cell_type": "markdown",
      "source": [
        "# Task 1"
      ],
      "metadata": {
        "id": "Y7Vjfh5CJTrQ"
      }
    },
    {
      "cell_type": "markdown",
      "source": [
        "It is often stated, that pure content-based recommendation models provide very\n",
        "low level of personalization to users.\n",
        "\n",
        "Prove this claim using a standard **regression-based** formulation for the\n",
        "case when a single global model is learned in the form:\n",
        "\n",
        "$r=θ*x + ϵ$\n",
        "\n",
        "where vector x encodes some features of both users and items (e.g., user at-\n",
        "tributes and item characteristics), and θ are the corresponding learnable weights of the regression model. Recall that top-n personalized recommendations task is stated as a selection of the top-n most relevant items for a user:\n",
        "\n",
        "$toprec(u, n) = \\arg max_{i}^{n} (r_{ui}) $\n",
        "\n",
        "where rui is the relevance score assigned by the model to item i for user u.\n",
        "\n",
        "**Optional:** Propose the other algorithms or feature preprocessing techniques,\n",
        "which could provide higher personalization level than the regression-based model\n",
        "described above. The algorithm should take vector x, which encodes some\n",
        "features of both users and items (e.g., user attributes and item characteristics)\n",
        "as an input and return corresponding relevance of the item for the user."
      ],
      "metadata": {
        "id": "ydSBuMjSJX-T"
      }
    },
    {
      "cell_type": "markdown",
      "source": [
        "In this case, the model is trained to minimize the error\n",
        "\n",
        "$‖r − 𝑋𝒘‖^2 → min$\n",
        "\n",
        "To understand why this provides a low level of personalization, note that in this model, all users share the same learnable weights (𝒘). So while this model can generalize and recommend items based on user-item features, it doesn't incorporate the unique preferences of individual users beyond these attributes. The model looks for generalize relationships between users and their applications to a movie.\n",
        "\n",
        "As a result, the model's predictions may not accurately reflect the personal preferences or tastes of individual users. The lack of personalized user-specific information in the model can limit its ability to provide highly personalized recommendations.\n",
        "\n",
        "In contrast, other recommendation approaches, such as collaborative filtering, consider the interactions and behavior of users to capture individual preferences and provide more personalized recommendations"
      ],
      "metadata": {
        "id": "ZC1uvp42LlZS"
      }
    },
    {
      "cell_type": "markdown",
      "source": [
        "**Optional**\n",
        "\n",
        "*Collaborative Filtering*:\n",
        "   - User-Based Collaborative Filtering (UBCF): the algorithm identifies users that are similar to the queried user and recommend items that those similar users have liked or interacted with.\n",
        "   - Item-Based Collaborative Filtering (IBCF): the system identifies items that are similar to the items that the queried user has already rated/liked and recommends those items.\n",
        "\n",
        "*Matrix Factorization*: Matrix factorization methods, such as Singular Value Decomposition (SVD) or Alternating Least Squares (ALS), factorize the user-item interaction matrix into lower-dimensional matrices to capture latent factors.  By embedding users and items in a lower-dimensional space, these methods can learn personalized representations and provide personalized recommendations."
      ],
      "metadata": {
        "id": "RDiX32eCH6ZQ"
      }
    },
    {
      "cell_type": "markdown",
      "source": [
        "# Task 2"
      ],
      "metadata": {
        "id": "KKuse2LyJWh8"
      }
    },
    {
      "cell_type": "markdown",
      "source": [
        "### Preparations"
      ],
      "metadata": {
        "id": "4Hpb-T5fxy6A"
      }
    },
    {
      "cell_type": "markdown",
      "source": [
        "#### Imports"
      ],
      "metadata": {
        "id": "jdZswSRbx2Fu"
      }
    },
    {
      "cell_type": "code",
      "source": [
        "!pip install shap -q\n",
        "!pip install -q --upgrade git+https://github.com/evfro/polara.git@develop#egg=polara"
      ],
      "metadata": {
        "id": "fmjEX3s5yfz9",
        "colab": {
          "base_uri": "https://localhost:8080/"
        },
        "outputId": "16b4e3eb-6522-4b12-e6ae-465e435b884c"
      },
      "execution_count": 1,
      "outputs": [
        {
          "output_type": "stream",
          "name": "stdout",
          "text": [
            "  Preparing metadata (setup.py) ... \u001b[?25l\u001b[?25hdone\n"
          ]
        }
      ]
    },
    {
      "cell_type": "code",
      "source": [
        "import os\n",
        "import ast\n",
        "import re\n",
        "import numpy as np\n",
        "import pandas as pd\n",
        "from scipy.sparse import diags\n",
        "from scipy.sparse.linalg import norm as sparse_norm\n",
        "from tqdm import tqdm\n",
        "tqdm.pandas()\n",
        "\n",
        "from sklearn.feature_extraction.text import TfidfVectorizer, CountVectorizer\n",
        "from sklearn.linear_model import LinearRegression, LogisticRegression, Ridge\n",
        "from sklearn.metrics import accuracy_score\n",
        "from sklearn.pipeline import Pipeline, TransformerMixin\n",
        "from sklearn.preprocessing import StandardScaler\n",
        "\n",
        "import matplotlib.pyplot as plt\n",
        "from polara import get_movielens_data\n",
        "import shap\n",
        "\n",
        "import seaborn as sns # for better visual aesthetics\n",
        "sns.set_theme(style='white', context='paper')\n",
        "%config InlineBackend.figure_format = \"svg\"\n",
        "\n",
        "seed=45"
      ],
      "metadata": {
        "id": "8GlsNx3lx3Zb"
      },
      "execution_count": 2,
      "outputs": []
    },
    {
      "cell_type": "code",
      "source": [],
      "metadata": {
        "id": "9DkzvzUmqDk7"
      },
      "execution_count": 2,
      "outputs": []
    },
    {
      "cell_type": "markdown",
      "source": [
        "#### Mount GoogleDrive and change directory"
      ],
      "metadata": {
        "id": "-f5sqmdtx3zI"
      }
    },
    {
      "cell_type": "code",
      "source": [
        "import os\n",
        "\n",
        "def find_path(name, path='/content'):\n",
        "    '''\n",
        "    поиск файла или папки\n",
        "    '''\n",
        "    result = []\n",
        "    for root, dirs, files in os.walk(path):\n",
        "        if name in files+dirs:\n",
        "          result.append([os.path.join(root, name), root])\n",
        "    return result\n",
        "\n",
        "if len(find_path('MyDrive')) == 0 and True:\n",
        "  from google.colab import drive\n",
        "  drive.mount('/content/drive')\n",
        "\n",
        "os.chdir(find_path('RS_HW1')[0][0])"
      ],
      "metadata": {
        "id": "ZYQ4rhofx7-4"
      },
      "execution_count": 3,
      "outputs": []
    },
    {
      "cell_type": "markdown",
      "source": [
        "### Data processing"
      ],
      "metadata": {
        "id": "a189v7dt2Ia0"
      }
    },
    {
      "cell_type": "markdown",
      "source": [
        "#### Data download"
      ],
      "metadata": {
        "id": "sQ3cuqYy2C4_"
      }
    },
    {
      "cell_type": "markdown",
      "source": [
        "Little preprocesing:\n",
        "* Drop unusfull columns\n",
        "* Convert all possible columns to numeric type\n",
        "  * user_name to user_id\n",
        "  * dates to years\n",
        "  * string ranks to numbers"
      ],
      "metadata": {
        "id": "8l5SqR3kjgcr"
      }
    },
    {
      "cell_type": "code",
      "source": [
        "filePreScriptor = 'Копия '"
      ],
      "metadata": {
        "id": "s7Zyiw-_3NRI"
      },
      "execution_count": 46,
      "outputs": []
    },
    {
      "cell_type": "code",
      "source": [
        "%%time\n",
        "anime_data = pd.read_csv(filePreScriptor+'animes.gz', na_filter=False).drop(['img_url', 'link'], axis=1)\n",
        "anime_data.aired = anime_data.aired.apply(lambda r:  int(re.search(r'\\b\\d{4}\\b', r+\" 0000\")[0]))\n",
        "anime_data.ranked = anime_data.ranked.replace('','0').apply(lambda r:  float(r))\n",
        "anime_data['anime_id_old'] = anime_data.anime_id\n",
        "anime_data['tokens']=anime_data.assign(tokens = lambda x: x[['title', 'synopsis']].apply('; '.join, axis=1))[['tokens']]\n",
        "anime_data['tokens_all']=anime_data.assign(tokens = lambda x: x[['title', 'genre', 'synopsis']].apply('; '.join, axis=1))[['tokens']]\n",
        "anime_data.anime_id = anime_data.groupby(['anime_id'], sort=False).ngroup()\n",
        "#anime_info_dict = {anime_id_old: [int(anime_id), int(aired), int(episodes), int(popularity), ranked] for anime_id_old, anime_id, aired, episodes, popularity, ranked in anime_data[[\"anime_id_old\", \"anime_id\", \"aired\", \"episodes\", \"popularity\", \"ranked\"]].values}\n",
        "anime_info_dict = {anime_id_old: [int(anime_id)] for anime_id_old, anime_id in anime_data[[\"anime_id_old\", \"anime_id\"]].values}\n",
        "display(anime_data.head())"
      ],
      "metadata": {
        "id": "0oxtpNuX2UgN",
        "colab": {
          "base_uri": "https://localhost:8080/",
          "height": 0
        },
        "outputId": "68af4019-b94d-4498-877d-4eaac917c32d"
      },
      "execution_count": 47,
      "outputs": [
        {
          "output_type": "display_data",
          "data": {
            "text/plain": [
              "   anime_id                            title  \\\n",
              "0         0                     Cowboy Bebop   \n",
              "1         1  Cowboy Bebop: Tengoku no Tobira   \n",
              "2         2                           Trigun   \n",
              "3         3               Witch Hunter Robin   \n",
              "4         4                   Bouken Ou Beet   \n",
              "\n",
              "                                            synopsis  \\\n",
              "0  In the year 2071, humanity has colonized sever...   \n",
              "1  Another day, another bounty—such is the life o...   \n",
              "2  Vash the Stampede is the man with a $$60,000,0...   \n",
              "3  Witches are individuals with special powers li...   \n",
              "4  It is the dark century and the people are suff...   \n",
              "\n",
              "                                               genre  aired  episodes  \\\n",
              "0    Action, Adventure, Comedy, Drama, Sci-Fi, Space   1998        26   \n",
              "1              Action, Drama, Mystery, Sci-Fi, Space   2001         1   \n",
              "2  Action, Sci-Fi, Adventure, Comedy, Drama, Shounen   1998        26   \n",
              "3  Action, Magic, Police, Supernatural, Drama, My...   2002        26   \n",
              "4          Adventure, Fantasy, Shounen, Supernatural   2004        52   \n",
              "\n",
              "   members  popularity  ranked  score  anime_id_old  \\\n",
              "0   930311          39    26.0   8.81             1   \n",
              "1   223199         475   149.0   8.40             5   \n",
              "2   460146         158   256.0   8.28             6   \n",
              "3    85182        1278  2487.0   7.32             7   \n",
              "4    12319        3968  3704.0   7.02             8   \n",
              "\n",
              "                                              tokens  \\\n",
              "0  Cowboy Bebop; In the year 2071, humanity has c...   \n",
              "1  Cowboy Bebop: Tengoku no Tobira; Another day, ...   \n",
              "2  Trigun; Vash the Stampede is the man with a $$...   \n",
              "3  Witch Hunter Robin; Witches are individuals wi...   \n",
              "4  Bouken Ou Beet; It is the dark century and the...   \n",
              "\n",
              "                                          tokens_all  \n",
              "0  Cowboy Bebop; Action, Adventure, Comedy, Drama...  \n",
              "1  Cowboy Bebop: Tengoku no Tobira; Action, Drama...  \n",
              "2  Trigun; Action, Sci-Fi, Adventure, Comedy, Dra...  \n",
              "3  Witch Hunter Robin; Action, Magic, Police, Sup...  \n",
              "4  Bouken Ou Beet; Adventure, Fantasy, Shounen, S...  "
            ],
            "text/html": [
              "\n",
              "  <div id=\"df-4eca77ec-7805-46b2-9198-2df4a12247bd\" class=\"colab-df-container\">\n",
              "    <div>\n",
              "<style scoped>\n",
              "    .dataframe tbody tr th:only-of-type {\n",
              "        vertical-align: middle;\n",
              "    }\n",
              "\n",
              "    .dataframe tbody tr th {\n",
              "        vertical-align: top;\n",
              "    }\n",
              "\n",
              "    .dataframe thead th {\n",
              "        text-align: right;\n",
              "    }\n",
              "</style>\n",
              "<table border=\"1\" class=\"dataframe\">\n",
              "  <thead>\n",
              "    <tr style=\"text-align: right;\">\n",
              "      <th></th>\n",
              "      <th>anime_id</th>\n",
              "      <th>title</th>\n",
              "      <th>synopsis</th>\n",
              "      <th>genre</th>\n",
              "      <th>aired</th>\n",
              "      <th>episodes</th>\n",
              "      <th>members</th>\n",
              "      <th>popularity</th>\n",
              "      <th>ranked</th>\n",
              "      <th>score</th>\n",
              "      <th>anime_id_old</th>\n",
              "      <th>tokens</th>\n",
              "      <th>tokens_all</th>\n",
              "    </tr>\n",
              "  </thead>\n",
              "  <tbody>\n",
              "    <tr>\n",
              "      <th>0</th>\n",
              "      <td>0</td>\n",
              "      <td>Cowboy Bebop</td>\n",
              "      <td>In the year 2071, humanity has colonized sever...</td>\n",
              "      <td>Action, Adventure, Comedy, Drama, Sci-Fi, Space</td>\n",
              "      <td>1998</td>\n",
              "      <td>26</td>\n",
              "      <td>930311</td>\n",
              "      <td>39</td>\n",
              "      <td>26.0</td>\n",
              "      <td>8.81</td>\n",
              "      <td>1</td>\n",
              "      <td>Cowboy Bebop; In the year 2071, humanity has c...</td>\n",
              "      <td>Cowboy Bebop; Action, Adventure, Comedy, Drama...</td>\n",
              "    </tr>\n",
              "    <tr>\n",
              "      <th>1</th>\n",
              "      <td>1</td>\n",
              "      <td>Cowboy Bebop: Tengoku no Tobira</td>\n",
              "      <td>Another day, another bounty—such is the life o...</td>\n",
              "      <td>Action, Drama, Mystery, Sci-Fi, Space</td>\n",
              "      <td>2001</td>\n",
              "      <td>1</td>\n",
              "      <td>223199</td>\n",
              "      <td>475</td>\n",
              "      <td>149.0</td>\n",
              "      <td>8.40</td>\n",
              "      <td>5</td>\n",
              "      <td>Cowboy Bebop: Tengoku no Tobira; Another day, ...</td>\n",
              "      <td>Cowboy Bebop: Tengoku no Tobira; Action, Drama...</td>\n",
              "    </tr>\n",
              "    <tr>\n",
              "      <th>2</th>\n",
              "      <td>2</td>\n",
              "      <td>Trigun</td>\n",
              "      <td>Vash the Stampede is the man with a $$60,000,0...</td>\n",
              "      <td>Action, Sci-Fi, Adventure, Comedy, Drama, Shounen</td>\n",
              "      <td>1998</td>\n",
              "      <td>26</td>\n",
              "      <td>460146</td>\n",
              "      <td>158</td>\n",
              "      <td>256.0</td>\n",
              "      <td>8.28</td>\n",
              "      <td>6</td>\n",
              "      <td>Trigun; Vash the Stampede is the man with a $$...</td>\n",
              "      <td>Trigun; Action, Sci-Fi, Adventure, Comedy, Dra...</td>\n",
              "    </tr>\n",
              "    <tr>\n",
              "      <th>3</th>\n",
              "      <td>3</td>\n",
              "      <td>Witch Hunter Robin</td>\n",
              "      <td>Witches are individuals with special powers li...</td>\n",
              "      <td>Action, Magic, Police, Supernatural, Drama, My...</td>\n",
              "      <td>2002</td>\n",
              "      <td>26</td>\n",
              "      <td>85182</td>\n",
              "      <td>1278</td>\n",
              "      <td>2487.0</td>\n",
              "      <td>7.32</td>\n",
              "      <td>7</td>\n",
              "      <td>Witch Hunter Robin; Witches are individuals wi...</td>\n",
              "      <td>Witch Hunter Robin; Action, Magic, Police, Sup...</td>\n",
              "    </tr>\n",
              "    <tr>\n",
              "      <th>4</th>\n",
              "      <td>4</td>\n",
              "      <td>Bouken Ou Beet</td>\n",
              "      <td>It is the dark century and the people are suff...</td>\n",
              "      <td>Adventure, Fantasy, Shounen, Supernatural</td>\n",
              "      <td>2004</td>\n",
              "      <td>52</td>\n",
              "      <td>12319</td>\n",
              "      <td>3968</td>\n",
              "      <td>3704.0</td>\n",
              "      <td>7.02</td>\n",
              "      <td>8</td>\n",
              "      <td>Bouken Ou Beet; It is the dark century and the...</td>\n",
              "      <td>Bouken Ou Beet; Adventure, Fantasy, Shounen, S...</td>\n",
              "    </tr>\n",
              "  </tbody>\n",
              "</table>\n",
              "</div>\n",
              "    <div class=\"colab-df-buttons\">\n",
              "\n",
              "  <div class=\"colab-df-container\">\n",
              "    <button class=\"colab-df-convert\" onclick=\"convertToInteractive('df-4eca77ec-7805-46b2-9198-2df4a12247bd')\"\n",
              "            title=\"Convert this dataframe to an interactive table.\"\n",
              "            style=\"display:none;\">\n",
              "\n",
              "  <svg xmlns=\"http://www.w3.org/2000/svg\" height=\"24px\" viewBox=\"0 -960 960 960\">\n",
              "    <path d=\"M120-120v-720h720v720H120Zm60-500h600v-160H180v160Zm220 220h160v-160H400v160Zm0 220h160v-160H400v160ZM180-400h160v-160H180v160Zm440 0h160v-160H620v160ZM180-180h160v-160H180v160Zm440 0h160v-160H620v160Z\"/>\n",
              "  </svg>\n",
              "    </button>\n",
              "\n",
              "  <style>\n",
              "    .colab-df-container {\n",
              "      display:flex;\n",
              "      gap: 12px;\n",
              "    }\n",
              "\n",
              "    .colab-df-convert {\n",
              "      background-color: #E8F0FE;\n",
              "      border: none;\n",
              "      border-radius: 50%;\n",
              "      cursor: pointer;\n",
              "      display: none;\n",
              "      fill: #1967D2;\n",
              "      height: 32px;\n",
              "      padding: 0 0 0 0;\n",
              "      width: 32px;\n",
              "    }\n",
              "\n",
              "    .colab-df-convert:hover {\n",
              "      background-color: #E2EBFA;\n",
              "      box-shadow: 0px 1px 2px rgba(60, 64, 67, 0.3), 0px 1px 3px 1px rgba(60, 64, 67, 0.15);\n",
              "      fill: #174EA6;\n",
              "    }\n",
              "\n",
              "    .colab-df-buttons div {\n",
              "      margin-bottom: 4px;\n",
              "    }\n",
              "\n",
              "    [theme=dark] .colab-df-convert {\n",
              "      background-color: #3B4455;\n",
              "      fill: #D2E3FC;\n",
              "    }\n",
              "\n",
              "    [theme=dark] .colab-df-convert:hover {\n",
              "      background-color: #434B5C;\n",
              "      box-shadow: 0px 1px 3px 1px rgba(0, 0, 0, 0.15);\n",
              "      filter: drop-shadow(0px 1px 2px rgba(0, 0, 0, 0.3));\n",
              "      fill: #FFFFFF;\n",
              "    }\n",
              "  </style>\n",
              "\n",
              "    <script>\n",
              "      const buttonEl =\n",
              "        document.querySelector('#df-4eca77ec-7805-46b2-9198-2df4a12247bd button.colab-df-convert');\n",
              "      buttonEl.style.display =\n",
              "        google.colab.kernel.accessAllowed ? 'block' : 'none';\n",
              "\n",
              "      async function convertToInteractive(key) {\n",
              "        const element = document.querySelector('#df-4eca77ec-7805-46b2-9198-2df4a12247bd');\n",
              "        const dataTable =\n",
              "          await google.colab.kernel.invokeFunction('convertToInteractive',\n",
              "                                                    [key], {});\n",
              "        if (!dataTable) return;\n",
              "\n",
              "        const docLinkHtml = 'Like what you see? Visit the ' +\n",
              "          '<a target=\"_blank\" href=https://colab.research.google.com/notebooks/data_table.ipynb>data table notebook</a>'\n",
              "          + ' to learn more about interactive tables.';\n",
              "        element.innerHTML = '';\n",
              "        dataTable['output_type'] = 'display_data';\n",
              "        await google.colab.output.renderOutput(dataTable, element);\n",
              "        const docLink = document.createElement('div');\n",
              "        docLink.innerHTML = docLinkHtml;\n",
              "        element.appendChild(docLink);\n",
              "      }\n",
              "    </script>\n",
              "  </div>\n",
              "\n",
              "\n",
              "<div id=\"df-192b6610-cc31-481d-82c0-8cdd85940304\">\n",
              "  <button class=\"colab-df-quickchart\" onclick=\"quickchart('df-192b6610-cc31-481d-82c0-8cdd85940304')\"\n",
              "            title=\"Suggest charts.\"\n",
              "            style=\"display:none;\">\n",
              "\n",
              "<svg xmlns=\"http://www.w3.org/2000/svg\" height=\"24px\"viewBox=\"0 0 24 24\"\n",
              "     width=\"24px\">\n",
              "    <g>\n",
              "        <path d=\"M19 3H5c-1.1 0-2 .9-2 2v14c0 1.1.9 2 2 2h14c1.1 0 2-.9 2-2V5c0-1.1-.9-2-2-2zM9 17H7v-7h2v7zm4 0h-2V7h2v10zm4 0h-2v-4h2v4z\"/>\n",
              "    </g>\n",
              "</svg>\n",
              "  </button>\n",
              "\n",
              "<style>\n",
              "  .colab-df-quickchart {\n",
              "      --bg-color: #E8F0FE;\n",
              "      --fill-color: #1967D2;\n",
              "      --hover-bg-color: #E2EBFA;\n",
              "      --hover-fill-color: #174EA6;\n",
              "      --disabled-fill-color: #AAA;\n",
              "      --disabled-bg-color: #DDD;\n",
              "  }\n",
              "\n",
              "  [theme=dark] .colab-df-quickchart {\n",
              "      --bg-color: #3B4455;\n",
              "      --fill-color: #D2E3FC;\n",
              "      --hover-bg-color: #434B5C;\n",
              "      --hover-fill-color: #FFFFFF;\n",
              "      --disabled-bg-color: #3B4455;\n",
              "      --disabled-fill-color: #666;\n",
              "  }\n",
              "\n",
              "  .colab-df-quickchart {\n",
              "    background-color: var(--bg-color);\n",
              "    border: none;\n",
              "    border-radius: 50%;\n",
              "    cursor: pointer;\n",
              "    display: none;\n",
              "    fill: var(--fill-color);\n",
              "    height: 32px;\n",
              "    padding: 0;\n",
              "    width: 32px;\n",
              "  }\n",
              "\n",
              "  .colab-df-quickchart:hover {\n",
              "    background-color: var(--hover-bg-color);\n",
              "    box-shadow: 0 1px 2px rgba(60, 64, 67, 0.3), 0 1px 3px 1px rgba(60, 64, 67, 0.15);\n",
              "    fill: var(--button-hover-fill-color);\n",
              "  }\n",
              "\n",
              "  .colab-df-quickchart-complete:disabled,\n",
              "  .colab-df-quickchart-complete:disabled:hover {\n",
              "    background-color: var(--disabled-bg-color);\n",
              "    fill: var(--disabled-fill-color);\n",
              "    box-shadow: none;\n",
              "  }\n",
              "\n",
              "  .colab-df-spinner {\n",
              "    border: 2px solid var(--fill-color);\n",
              "    border-color: transparent;\n",
              "    border-bottom-color: var(--fill-color);\n",
              "    animation:\n",
              "      spin 1s steps(1) infinite;\n",
              "  }\n",
              "\n",
              "  @keyframes spin {\n",
              "    0% {\n",
              "      border-color: transparent;\n",
              "      border-bottom-color: var(--fill-color);\n",
              "      border-left-color: var(--fill-color);\n",
              "    }\n",
              "    20% {\n",
              "      border-color: transparent;\n",
              "      border-left-color: var(--fill-color);\n",
              "      border-top-color: var(--fill-color);\n",
              "    }\n",
              "    30% {\n",
              "      border-color: transparent;\n",
              "      border-left-color: var(--fill-color);\n",
              "      border-top-color: var(--fill-color);\n",
              "      border-right-color: var(--fill-color);\n",
              "    }\n",
              "    40% {\n",
              "      border-color: transparent;\n",
              "      border-right-color: var(--fill-color);\n",
              "      border-top-color: var(--fill-color);\n",
              "    }\n",
              "    60% {\n",
              "      border-color: transparent;\n",
              "      border-right-color: var(--fill-color);\n",
              "    }\n",
              "    80% {\n",
              "      border-color: transparent;\n",
              "      border-right-color: var(--fill-color);\n",
              "      border-bottom-color: var(--fill-color);\n",
              "    }\n",
              "    90% {\n",
              "      border-color: transparent;\n",
              "      border-bottom-color: var(--fill-color);\n",
              "    }\n",
              "  }\n",
              "</style>\n",
              "\n",
              "  <script>\n",
              "    async function quickchart(key) {\n",
              "      const quickchartButtonEl =\n",
              "        document.querySelector('#' + key + ' button');\n",
              "      quickchartButtonEl.disabled = true;  // To prevent multiple clicks.\n",
              "      quickchartButtonEl.classList.add('colab-df-spinner');\n",
              "      try {\n",
              "        const charts = await google.colab.kernel.invokeFunction(\n",
              "            'suggestCharts', [key], {});\n",
              "      } catch (error) {\n",
              "        console.error('Error during call to suggestCharts:', error);\n",
              "      }\n",
              "      quickchartButtonEl.classList.remove('colab-df-spinner');\n",
              "      quickchartButtonEl.classList.add('colab-df-quickchart-complete');\n",
              "    }\n",
              "    (() => {\n",
              "      let quickchartButtonEl =\n",
              "        document.querySelector('#df-192b6610-cc31-481d-82c0-8cdd85940304 button');\n",
              "      quickchartButtonEl.style.display =\n",
              "        google.colab.kernel.accessAllowed ? 'block' : 'none';\n",
              "    })();\n",
              "  </script>\n",
              "</div>\n",
              "    </div>\n",
              "  </div>\n"
            ]
          },
          "metadata": {}
        },
        {
          "output_type": "stream",
          "name": "stdout",
          "text": [
            "CPU times: user 600 ms, sys: 17 ms, total: 617 ms\n",
            "Wall time: 637 ms\n"
          ]
        }
      ]
    },
    {
      "cell_type": "code",
      "source": [
        "%%time\n",
        "\n",
        "user_data = pd.read_csv(filePreScriptor+'profiles.gz', na_filter=False).drop(['link'], axis=1)\n",
        "user_data.birthday = user_data.birthday.apply(lambda r:  int(re.search(r'\\b\\d{4}\\b', r+\" 0000\")[0]))\n",
        "user_data['user_name'] = user_data.user_id\n",
        "user_data.gender = user_data.groupby(['gender'], sort=False).ngroup()\n",
        "user_data.user_id = user_data.groupby(['user_id'], sort=False).ngroup()\n",
        "#user_info_dict = {name: [int(id), int(gender), int(birthday)] for name, id, gender, birthday in user_data[[\"user_name\", \"user_id\", \"gender\", \"birthday\"]].values}\n",
        "user_info_dict = {name: [int(id)] for name, id in user_data[[\"user_name\", \"user_id\"]].values}\n",
        "display(user_data.head())\n",
        "\n",
        "assert len(set(user_data.user_id)) == len(set(user_data.user_name)) == user_data.shape[0]\n",
        "assert len(set(user_data.gender)) == 4"
      ],
      "metadata": {
        "id": "WUHpFVqr3QYr",
        "colab": {
          "base_uri": "https://localhost:8080/",
          "height": 0
        },
        "outputId": "d2899fa4-f95f-4d75-cb47-0bc8bfa09748"
      },
      "execution_count": 48,
      "outputs": [
        {
          "output_type": "display_data",
          "data": {
            "text/plain": [
              "   user_id  gender  birthday  \\\n",
              "0        0       0      1994   \n",
              "1        1       1      2000   \n",
              "2        2       2         0   \n",
              "3        3       0         0   \n",
              "4        4       0      1999   \n",
              "\n",
              "                                     favorites_anime        user_name  \n",
              "0  [226, 235, 269, 457, 1482, 1698, 2904, 4981, 5...   DesolatePsyche  \n",
              "1  [853, 918, 3588, 6956, 9253, 11061, 13601, 205...        baekbeans  \n",
              "2  [512, 918, 1943, 2904, 9989, 11741, 17074, 232...             skrn  \n",
              "3                     [849, 2904, 3588, 5680, 37349]     edgewalker00  \n",
              "4  [235, 849, 2167, 4181, 4382, 5680, 7791, 9617,...  aManOfCulture99  "
            ],
            "text/html": [
              "\n",
              "  <div id=\"df-a73ee260-6296-46c5-b3bb-0616049cfaed\" class=\"colab-df-container\">\n",
              "    <div>\n",
              "<style scoped>\n",
              "    .dataframe tbody tr th:only-of-type {\n",
              "        vertical-align: middle;\n",
              "    }\n",
              "\n",
              "    .dataframe tbody tr th {\n",
              "        vertical-align: top;\n",
              "    }\n",
              "\n",
              "    .dataframe thead th {\n",
              "        text-align: right;\n",
              "    }\n",
              "</style>\n",
              "<table border=\"1\" class=\"dataframe\">\n",
              "  <thead>\n",
              "    <tr style=\"text-align: right;\">\n",
              "      <th></th>\n",
              "      <th>user_id</th>\n",
              "      <th>gender</th>\n",
              "      <th>birthday</th>\n",
              "      <th>favorites_anime</th>\n",
              "      <th>user_name</th>\n",
              "    </tr>\n",
              "  </thead>\n",
              "  <tbody>\n",
              "    <tr>\n",
              "      <th>0</th>\n",
              "      <td>0</td>\n",
              "      <td>0</td>\n",
              "      <td>1994</td>\n",
              "      <td>[226, 235, 269, 457, 1482, 1698, 2904, 4981, 5...</td>\n",
              "      <td>DesolatePsyche</td>\n",
              "    </tr>\n",
              "    <tr>\n",
              "      <th>1</th>\n",
              "      <td>1</td>\n",
              "      <td>1</td>\n",
              "      <td>2000</td>\n",
              "      <td>[853, 918, 3588, 6956, 9253, 11061, 13601, 205...</td>\n",
              "      <td>baekbeans</td>\n",
              "    </tr>\n",
              "    <tr>\n",
              "      <th>2</th>\n",
              "      <td>2</td>\n",
              "      <td>2</td>\n",
              "      <td>0</td>\n",
              "      <td>[512, 918, 1943, 2904, 9989, 11741, 17074, 232...</td>\n",
              "      <td>skrn</td>\n",
              "    </tr>\n",
              "    <tr>\n",
              "      <th>3</th>\n",
              "      <td>3</td>\n",
              "      <td>0</td>\n",
              "      <td>0</td>\n",
              "      <td>[849, 2904, 3588, 5680, 37349]</td>\n",
              "      <td>edgewalker00</td>\n",
              "    </tr>\n",
              "    <tr>\n",
              "      <th>4</th>\n",
              "      <td>4</td>\n",
              "      <td>0</td>\n",
              "      <td>1999</td>\n",
              "      <td>[235, 849, 2167, 4181, 4382, 5680, 7791, 9617,...</td>\n",
              "      <td>aManOfCulture99</td>\n",
              "    </tr>\n",
              "  </tbody>\n",
              "</table>\n",
              "</div>\n",
              "    <div class=\"colab-df-buttons\">\n",
              "\n",
              "  <div class=\"colab-df-container\">\n",
              "    <button class=\"colab-df-convert\" onclick=\"convertToInteractive('df-a73ee260-6296-46c5-b3bb-0616049cfaed')\"\n",
              "            title=\"Convert this dataframe to an interactive table.\"\n",
              "            style=\"display:none;\">\n",
              "\n",
              "  <svg xmlns=\"http://www.w3.org/2000/svg\" height=\"24px\" viewBox=\"0 -960 960 960\">\n",
              "    <path d=\"M120-120v-720h720v720H120Zm60-500h600v-160H180v160Zm220 220h160v-160H400v160Zm0 220h160v-160H400v160ZM180-400h160v-160H180v160Zm440 0h160v-160H620v160ZM180-180h160v-160H180v160Zm440 0h160v-160H620v160Z\"/>\n",
              "  </svg>\n",
              "    </button>\n",
              "\n",
              "  <style>\n",
              "    .colab-df-container {\n",
              "      display:flex;\n",
              "      gap: 12px;\n",
              "    }\n",
              "\n",
              "    .colab-df-convert {\n",
              "      background-color: #E8F0FE;\n",
              "      border: none;\n",
              "      border-radius: 50%;\n",
              "      cursor: pointer;\n",
              "      display: none;\n",
              "      fill: #1967D2;\n",
              "      height: 32px;\n",
              "      padding: 0 0 0 0;\n",
              "      width: 32px;\n",
              "    }\n",
              "\n",
              "    .colab-df-convert:hover {\n",
              "      background-color: #E2EBFA;\n",
              "      box-shadow: 0px 1px 2px rgba(60, 64, 67, 0.3), 0px 1px 3px 1px rgba(60, 64, 67, 0.15);\n",
              "      fill: #174EA6;\n",
              "    }\n",
              "\n",
              "    .colab-df-buttons div {\n",
              "      margin-bottom: 4px;\n",
              "    }\n",
              "\n",
              "    [theme=dark] .colab-df-convert {\n",
              "      background-color: #3B4455;\n",
              "      fill: #D2E3FC;\n",
              "    }\n",
              "\n",
              "    [theme=dark] .colab-df-convert:hover {\n",
              "      background-color: #434B5C;\n",
              "      box-shadow: 0px 1px 3px 1px rgba(0, 0, 0, 0.15);\n",
              "      filter: drop-shadow(0px 1px 2px rgba(0, 0, 0, 0.3));\n",
              "      fill: #FFFFFF;\n",
              "    }\n",
              "  </style>\n",
              "\n",
              "    <script>\n",
              "      const buttonEl =\n",
              "        document.querySelector('#df-a73ee260-6296-46c5-b3bb-0616049cfaed button.colab-df-convert');\n",
              "      buttonEl.style.display =\n",
              "        google.colab.kernel.accessAllowed ? 'block' : 'none';\n",
              "\n",
              "      async function convertToInteractive(key) {\n",
              "        const element = document.querySelector('#df-a73ee260-6296-46c5-b3bb-0616049cfaed');\n",
              "        const dataTable =\n",
              "          await google.colab.kernel.invokeFunction('convertToInteractive',\n",
              "                                                    [key], {});\n",
              "        if (!dataTable) return;\n",
              "\n",
              "        const docLinkHtml = 'Like what you see? Visit the ' +\n",
              "          '<a target=\"_blank\" href=https://colab.research.google.com/notebooks/data_table.ipynb>data table notebook</a>'\n",
              "          + ' to learn more about interactive tables.';\n",
              "        element.innerHTML = '';\n",
              "        dataTable['output_type'] = 'display_data';\n",
              "        await google.colab.output.renderOutput(dataTable, element);\n",
              "        const docLink = document.createElement('div');\n",
              "        docLink.innerHTML = docLinkHtml;\n",
              "        element.appendChild(docLink);\n",
              "      }\n",
              "    </script>\n",
              "  </div>\n",
              "\n",
              "\n",
              "<div id=\"df-86f39b7f-5cff-460b-ba3e-271f84f5c1af\">\n",
              "  <button class=\"colab-df-quickchart\" onclick=\"quickchart('df-86f39b7f-5cff-460b-ba3e-271f84f5c1af')\"\n",
              "            title=\"Suggest charts.\"\n",
              "            style=\"display:none;\">\n",
              "\n",
              "<svg xmlns=\"http://www.w3.org/2000/svg\" height=\"24px\"viewBox=\"0 0 24 24\"\n",
              "     width=\"24px\">\n",
              "    <g>\n",
              "        <path d=\"M19 3H5c-1.1 0-2 .9-2 2v14c0 1.1.9 2 2 2h14c1.1 0 2-.9 2-2V5c0-1.1-.9-2-2-2zM9 17H7v-7h2v7zm4 0h-2V7h2v10zm4 0h-2v-4h2v4z\"/>\n",
              "    </g>\n",
              "</svg>\n",
              "  </button>\n",
              "\n",
              "<style>\n",
              "  .colab-df-quickchart {\n",
              "      --bg-color: #E8F0FE;\n",
              "      --fill-color: #1967D2;\n",
              "      --hover-bg-color: #E2EBFA;\n",
              "      --hover-fill-color: #174EA6;\n",
              "      --disabled-fill-color: #AAA;\n",
              "      --disabled-bg-color: #DDD;\n",
              "  }\n",
              "\n",
              "  [theme=dark] .colab-df-quickchart {\n",
              "      --bg-color: #3B4455;\n",
              "      --fill-color: #D2E3FC;\n",
              "      --hover-bg-color: #434B5C;\n",
              "      --hover-fill-color: #FFFFFF;\n",
              "      --disabled-bg-color: #3B4455;\n",
              "      --disabled-fill-color: #666;\n",
              "  }\n",
              "\n",
              "  .colab-df-quickchart {\n",
              "    background-color: var(--bg-color);\n",
              "    border: none;\n",
              "    border-radius: 50%;\n",
              "    cursor: pointer;\n",
              "    display: none;\n",
              "    fill: var(--fill-color);\n",
              "    height: 32px;\n",
              "    padding: 0;\n",
              "    width: 32px;\n",
              "  }\n",
              "\n",
              "  .colab-df-quickchart:hover {\n",
              "    background-color: var(--hover-bg-color);\n",
              "    box-shadow: 0 1px 2px rgba(60, 64, 67, 0.3), 0 1px 3px 1px rgba(60, 64, 67, 0.15);\n",
              "    fill: var(--button-hover-fill-color);\n",
              "  }\n",
              "\n",
              "  .colab-df-quickchart-complete:disabled,\n",
              "  .colab-df-quickchart-complete:disabled:hover {\n",
              "    background-color: var(--disabled-bg-color);\n",
              "    fill: var(--disabled-fill-color);\n",
              "    box-shadow: none;\n",
              "  }\n",
              "\n",
              "  .colab-df-spinner {\n",
              "    border: 2px solid var(--fill-color);\n",
              "    border-color: transparent;\n",
              "    border-bottom-color: var(--fill-color);\n",
              "    animation:\n",
              "      spin 1s steps(1) infinite;\n",
              "  }\n",
              "\n",
              "  @keyframes spin {\n",
              "    0% {\n",
              "      border-color: transparent;\n",
              "      border-bottom-color: var(--fill-color);\n",
              "      border-left-color: var(--fill-color);\n",
              "    }\n",
              "    20% {\n",
              "      border-color: transparent;\n",
              "      border-left-color: var(--fill-color);\n",
              "      border-top-color: var(--fill-color);\n",
              "    }\n",
              "    30% {\n",
              "      border-color: transparent;\n",
              "      border-left-color: var(--fill-color);\n",
              "      border-top-color: var(--fill-color);\n",
              "      border-right-color: var(--fill-color);\n",
              "    }\n",
              "    40% {\n",
              "      border-color: transparent;\n",
              "      border-right-color: var(--fill-color);\n",
              "      border-top-color: var(--fill-color);\n",
              "    }\n",
              "    60% {\n",
              "      border-color: transparent;\n",
              "      border-right-color: var(--fill-color);\n",
              "    }\n",
              "    80% {\n",
              "      border-color: transparent;\n",
              "      border-right-color: var(--fill-color);\n",
              "      border-bottom-color: var(--fill-color);\n",
              "    }\n",
              "    90% {\n",
              "      border-color: transparent;\n",
              "      border-bottom-color: var(--fill-color);\n",
              "    }\n",
              "  }\n",
              "</style>\n",
              "\n",
              "  <script>\n",
              "    async function quickchart(key) {\n",
              "      const quickchartButtonEl =\n",
              "        document.querySelector('#' + key + ' button');\n",
              "      quickchartButtonEl.disabled = true;  // To prevent multiple clicks.\n",
              "      quickchartButtonEl.classList.add('colab-df-spinner');\n",
              "      try {\n",
              "        const charts = await google.colab.kernel.invokeFunction(\n",
              "            'suggestCharts', [key], {});\n",
              "      } catch (error) {\n",
              "        console.error('Error during call to suggestCharts:', error);\n",
              "      }\n",
              "      quickchartButtonEl.classList.remove('colab-df-spinner');\n",
              "      quickchartButtonEl.classList.add('colab-df-quickchart-complete');\n",
              "    }\n",
              "    (() => {\n",
              "      let quickchartButtonEl =\n",
              "        document.querySelector('#df-86f39b7f-5cff-460b-ba3e-271f84f5c1af button');\n",
              "      quickchartButtonEl.style.display =\n",
              "        google.colab.kernel.accessAllowed ? 'block' : 'none';\n",
              "    })();\n",
              "  </script>\n",
              "</div>\n",
              "    </div>\n",
              "  </div>\n"
            ]
          },
          "metadata": {}
        },
        {
          "output_type": "stream",
          "name": "stdout",
          "text": [
            "CPU times: user 325 ms, sys: 4.97 ms, total: 330 ms\n",
            "Wall time: 342 ms\n"
          ]
        }
      ]
    },
    {
      "cell_type": "code",
      "source": [
        "import astropy\n",
        "\n",
        "# reindex old favorites indeces\n",
        "def reindex_anime_ids(favorites_string:str, anime_info_dict):\n",
        "    favorites_list = ast.literal_eval(favorites_string)\n",
        "    return [anime_info_dict[a][0] for a in favorites_list]\n",
        "user_data.favorites_anime = user_data.favorites_anime.progress_apply(lambda r: reindex_anime_ids(r, anime_info_dict))"
      ],
      "metadata": {
        "id": "9JdPOAFGLVK1",
        "colab": {
          "base_uri": "https://localhost:8080/"
        },
        "outputId": "e7877362-e79e-4645-ad08-af0905975391"
      },
      "execution_count": 49,
      "outputs": [
        {
          "output_type": "stream",
          "name": "stderr",
          "text": [
            "100%|██████████| 37458/37458 [00:00<00:00, 44043.36it/s]\n"
          ]
        }
      ]
    },
    {
      "cell_type": "code",
      "source": [
        "%%time\n",
        "from statistics import mean\n",
        "\n",
        "review_data = pd.read_csv(os.path.join(filePreScriptor+'reviews.gz')).drop([\"link\", \"score\"], axis=1)\n",
        "#set new ids\n",
        "review_data.user_id = review_data.user_id.apply(lambda u: user_info_dict[u][0])\n",
        "review_data.anime_id = review_data.anime_id.apply(lambda a: anime_info_dict[a][0])\n",
        "display(review_data.head())\n",
        "\n",
        "assert len(set(review_data.user_id)) == len(set(user_data.user_name)) == user_data.shape[0]"
      ],
      "metadata": {
        "id": "b9sqSHyp0KOF",
        "colab": {
          "base_uri": "https://localhost:8080/",
          "height": 0
        },
        "outputId": "4111e9c0-f3d2-4f34-a223-ebdc166dfe76"
      },
      "execution_count": 50,
      "outputs": [
        {
          "output_type": "display_data",
          "data": {
            "text/plain": [
              "      uid  user_id  anime_id  \\\n",
              "0  255938        0     12165   \n",
              "1  259117        1     12420   \n",
              "2  253664        2      9832   \n",
              "3    8254        3      2638   \n",
              "4  291149        4      3513   \n",
              "\n",
              "                                                text  \\\n",
              "0  First things first. My \"reviews\" system is exp...   \n",
              "1  Let me start off by saying that Made in Abyss ...   \n",
              "2  Art 9/10: It is great, especially the actions ...   \n",
              "3  Story \\r\\ntaking place 1 yr from where season ...   \n",
              "4  Kyoto Animations greatest strength is being ab...   \n",
              "\n",
              "                                              scores  \n",
              "0  {'Overall': '8', 'Story': '8', 'Animation': '8...  \n",
              "1  {'Overall': '10', 'Story': '10', 'Animation': ...  \n",
              "2  {'Overall': '7', 'Story': '7', 'Animation': '9...  \n",
              "3  {'Overall': '9', 'Story': '9', 'Animation': '9...  \n",
              "4  {'Overall': '10', 'Story': '10', 'Animation': ...  "
            ],
            "text/html": [
              "\n",
              "  <div id=\"df-1c606d8c-fa69-4bbe-8032-7d40694ee51a\" class=\"colab-df-container\">\n",
              "    <div>\n",
              "<style scoped>\n",
              "    .dataframe tbody tr th:only-of-type {\n",
              "        vertical-align: middle;\n",
              "    }\n",
              "\n",
              "    .dataframe tbody tr th {\n",
              "        vertical-align: top;\n",
              "    }\n",
              "\n",
              "    .dataframe thead th {\n",
              "        text-align: right;\n",
              "    }\n",
              "</style>\n",
              "<table border=\"1\" class=\"dataframe\">\n",
              "  <thead>\n",
              "    <tr style=\"text-align: right;\">\n",
              "      <th></th>\n",
              "      <th>uid</th>\n",
              "      <th>user_id</th>\n",
              "      <th>anime_id</th>\n",
              "      <th>text</th>\n",
              "      <th>scores</th>\n",
              "    </tr>\n",
              "  </thead>\n",
              "  <tbody>\n",
              "    <tr>\n",
              "      <th>0</th>\n",
              "      <td>255938</td>\n",
              "      <td>0</td>\n",
              "      <td>12165</td>\n",
              "      <td>First things first. My \"reviews\" system is exp...</td>\n",
              "      <td>{'Overall': '8', 'Story': '8', 'Animation': '8...</td>\n",
              "    </tr>\n",
              "    <tr>\n",
              "      <th>1</th>\n",
              "      <td>259117</td>\n",
              "      <td>1</td>\n",
              "      <td>12420</td>\n",
              "      <td>Let me start off by saying that Made in Abyss ...</td>\n",
              "      <td>{'Overall': '10', 'Story': '10', 'Animation': ...</td>\n",
              "    </tr>\n",
              "    <tr>\n",
              "      <th>2</th>\n",
              "      <td>253664</td>\n",
              "      <td>2</td>\n",
              "      <td>9832</td>\n",
              "      <td>Art 9/10: It is great, especially the actions ...</td>\n",
              "      <td>{'Overall': '7', 'Story': '7', 'Animation': '9...</td>\n",
              "    </tr>\n",
              "    <tr>\n",
              "      <th>3</th>\n",
              "      <td>8254</td>\n",
              "      <td>3</td>\n",
              "      <td>2638</td>\n",
              "      <td>Story \\r\\ntaking place 1 yr from where season ...</td>\n",
              "      <td>{'Overall': '9', 'Story': '9', 'Animation': '9...</td>\n",
              "    </tr>\n",
              "    <tr>\n",
              "      <th>4</th>\n",
              "      <td>291149</td>\n",
              "      <td>4</td>\n",
              "      <td>3513</td>\n",
              "      <td>Kyoto Animations greatest strength is being ab...</td>\n",
              "      <td>{'Overall': '10', 'Story': '10', 'Animation': ...</td>\n",
              "    </tr>\n",
              "  </tbody>\n",
              "</table>\n",
              "</div>\n",
              "    <div class=\"colab-df-buttons\">\n",
              "\n",
              "  <div class=\"colab-df-container\">\n",
              "    <button class=\"colab-df-convert\" onclick=\"convertToInteractive('df-1c606d8c-fa69-4bbe-8032-7d40694ee51a')\"\n",
              "            title=\"Convert this dataframe to an interactive table.\"\n",
              "            style=\"display:none;\">\n",
              "\n",
              "  <svg xmlns=\"http://www.w3.org/2000/svg\" height=\"24px\" viewBox=\"0 -960 960 960\">\n",
              "    <path d=\"M120-120v-720h720v720H120Zm60-500h600v-160H180v160Zm220 220h160v-160H400v160Zm0 220h160v-160H400v160ZM180-400h160v-160H180v160Zm440 0h160v-160H620v160ZM180-180h160v-160H180v160Zm440 0h160v-160H620v160Z\"/>\n",
              "  </svg>\n",
              "    </button>\n",
              "\n",
              "  <style>\n",
              "    .colab-df-container {\n",
              "      display:flex;\n",
              "      gap: 12px;\n",
              "    }\n",
              "\n",
              "    .colab-df-convert {\n",
              "      background-color: #E8F0FE;\n",
              "      border: none;\n",
              "      border-radius: 50%;\n",
              "      cursor: pointer;\n",
              "      display: none;\n",
              "      fill: #1967D2;\n",
              "      height: 32px;\n",
              "      padding: 0 0 0 0;\n",
              "      width: 32px;\n",
              "    }\n",
              "\n",
              "    .colab-df-convert:hover {\n",
              "      background-color: #E2EBFA;\n",
              "      box-shadow: 0px 1px 2px rgba(60, 64, 67, 0.3), 0px 1px 3px 1px rgba(60, 64, 67, 0.15);\n",
              "      fill: #174EA6;\n",
              "    }\n",
              "\n",
              "    .colab-df-buttons div {\n",
              "      margin-bottom: 4px;\n",
              "    }\n",
              "\n",
              "    [theme=dark] .colab-df-convert {\n",
              "      background-color: #3B4455;\n",
              "      fill: #D2E3FC;\n",
              "    }\n",
              "\n",
              "    [theme=dark] .colab-df-convert:hover {\n",
              "      background-color: #434B5C;\n",
              "      box-shadow: 0px 1px 3px 1px rgba(0, 0, 0, 0.15);\n",
              "      filter: drop-shadow(0px 1px 2px rgba(0, 0, 0, 0.3));\n",
              "      fill: #FFFFFF;\n",
              "    }\n",
              "  </style>\n",
              "\n",
              "    <script>\n",
              "      const buttonEl =\n",
              "        document.querySelector('#df-1c606d8c-fa69-4bbe-8032-7d40694ee51a button.colab-df-convert');\n",
              "      buttonEl.style.display =\n",
              "        google.colab.kernel.accessAllowed ? 'block' : 'none';\n",
              "\n",
              "      async function convertToInteractive(key) {\n",
              "        const element = document.querySelector('#df-1c606d8c-fa69-4bbe-8032-7d40694ee51a');\n",
              "        const dataTable =\n",
              "          await google.colab.kernel.invokeFunction('convertToInteractive',\n",
              "                                                    [key], {});\n",
              "        if (!dataTable) return;\n",
              "\n",
              "        const docLinkHtml = 'Like what you see? Visit the ' +\n",
              "          '<a target=\"_blank\" href=https://colab.research.google.com/notebooks/data_table.ipynb>data table notebook</a>'\n",
              "          + ' to learn more about interactive tables.';\n",
              "        element.innerHTML = '';\n",
              "        dataTable['output_type'] = 'display_data';\n",
              "        await google.colab.output.renderOutput(dataTable, element);\n",
              "        const docLink = document.createElement('div');\n",
              "        docLink.innerHTML = docLinkHtml;\n",
              "        element.appendChild(docLink);\n",
              "      }\n",
              "    </script>\n",
              "  </div>\n",
              "\n",
              "\n",
              "<div id=\"df-3177a6cc-376a-4a42-8922-212d2fd0d923\">\n",
              "  <button class=\"colab-df-quickchart\" onclick=\"quickchart('df-3177a6cc-376a-4a42-8922-212d2fd0d923')\"\n",
              "            title=\"Suggest charts.\"\n",
              "            style=\"display:none;\">\n",
              "\n",
              "<svg xmlns=\"http://www.w3.org/2000/svg\" height=\"24px\"viewBox=\"0 0 24 24\"\n",
              "     width=\"24px\">\n",
              "    <g>\n",
              "        <path d=\"M19 3H5c-1.1 0-2 .9-2 2v14c0 1.1.9 2 2 2h14c1.1 0 2-.9 2-2V5c0-1.1-.9-2-2-2zM9 17H7v-7h2v7zm4 0h-2V7h2v10zm4 0h-2v-4h2v4z\"/>\n",
              "    </g>\n",
              "</svg>\n",
              "  </button>\n",
              "\n",
              "<style>\n",
              "  .colab-df-quickchart {\n",
              "      --bg-color: #E8F0FE;\n",
              "      --fill-color: #1967D2;\n",
              "      --hover-bg-color: #E2EBFA;\n",
              "      --hover-fill-color: #174EA6;\n",
              "      --disabled-fill-color: #AAA;\n",
              "      --disabled-bg-color: #DDD;\n",
              "  }\n",
              "\n",
              "  [theme=dark] .colab-df-quickchart {\n",
              "      --bg-color: #3B4455;\n",
              "      --fill-color: #D2E3FC;\n",
              "      --hover-bg-color: #434B5C;\n",
              "      --hover-fill-color: #FFFFFF;\n",
              "      --disabled-bg-color: #3B4455;\n",
              "      --disabled-fill-color: #666;\n",
              "  }\n",
              "\n",
              "  .colab-df-quickchart {\n",
              "    background-color: var(--bg-color);\n",
              "    border: none;\n",
              "    border-radius: 50%;\n",
              "    cursor: pointer;\n",
              "    display: none;\n",
              "    fill: var(--fill-color);\n",
              "    height: 32px;\n",
              "    padding: 0;\n",
              "    width: 32px;\n",
              "  }\n",
              "\n",
              "  .colab-df-quickchart:hover {\n",
              "    background-color: var(--hover-bg-color);\n",
              "    box-shadow: 0 1px 2px rgba(60, 64, 67, 0.3), 0 1px 3px 1px rgba(60, 64, 67, 0.15);\n",
              "    fill: var(--button-hover-fill-color);\n",
              "  }\n",
              "\n",
              "  .colab-df-quickchart-complete:disabled,\n",
              "  .colab-df-quickchart-complete:disabled:hover {\n",
              "    background-color: var(--disabled-bg-color);\n",
              "    fill: var(--disabled-fill-color);\n",
              "    box-shadow: none;\n",
              "  }\n",
              "\n",
              "  .colab-df-spinner {\n",
              "    border: 2px solid var(--fill-color);\n",
              "    border-color: transparent;\n",
              "    border-bottom-color: var(--fill-color);\n",
              "    animation:\n",
              "      spin 1s steps(1) infinite;\n",
              "  }\n",
              "\n",
              "  @keyframes spin {\n",
              "    0% {\n",
              "      border-color: transparent;\n",
              "      border-bottom-color: var(--fill-color);\n",
              "      border-left-color: var(--fill-color);\n",
              "    }\n",
              "    20% {\n",
              "      border-color: transparent;\n",
              "      border-left-color: var(--fill-color);\n",
              "      border-top-color: var(--fill-color);\n",
              "    }\n",
              "    30% {\n",
              "      border-color: transparent;\n",
              "      border-left-color: var(--fill-color);\n",
              "      border-top-color: var(--fill-color);\n",
              "      border-right-color: var(--fill-color);\n",
              "    }\n",
              "    40% {\n",
              "      border-color: transparent;\n",
              "      border-right-color: var(--fill-color);\n",
              "      border-top-color: var(--fill-color);\n",
              "    }\n",
              "    60% {\n",
              "      border-color: transparent;\n",
              "      border-right-color: var(--fill-color);\n",
              "    }\n",
              "    80% {\n",
              "      border-color: transparent;\n",
              "      border-right-color: var(--fill-color);\n",
              "      border-bottom-color: var(--fill-color);\n",
              "    }\n",
              "    90% {\n",
              "      border-color: transparent;\n",
              "      border-bottom-color: var(--fill-color);\n",
              "    }\n",
              "  }\n",
              "</style>\n",
              "\n",
              "  <script>\n",
              "    async function quickchart(key) {\n",
              "      const quickchartButtonEl =\n",
              "        document.querySelector('#' + key + ' button');\n",
              "      quickchartButtonEl.disabled = true;  // To prevent multiple clicks.\n",
              "      quickchartButtonEl.classList.add('colab-df-spinner');\n",
              "      try {\n",
              "        const charts = await google.colab.kernel.invokeFunction(\n",
              "            'suggestCharts', [key], {});\n",
              "      } catch (error) {\n",
              "        console.error('Error during call to suggestCharts:', error);\n",
              "      }\n",
              "      quickchartButtonEl.classList.remove('colab-df-spinner');\n",
              "      quickchartButtonEl.classList.add('colab-df-quickchart-complete');\n",
              "    }\n",
              "    (() => {\n",
              "      let quickchartButtonEl =\n",
              "        document.querySelector('#df-3177a6cc-376a-4a42-8922-212d2fd0d923 button');\n",
              "      quickchartButtonEl.style.display =\n",
              "        google.colab.kernel.accessAllowed ? 'block' : 'none';\n",
              "    })();\n",
              "  </script>\n",
              "</div>\n",
              "    </div>\n",
              "  </div>\n"
            ]
          },
          "metadata": {}
        },
        {
          "output_type": "stream",
          "name": "stdout",
          "text": [
            "CPU times: user 8.72 s, sys: 998 ms, total: 9.72 s\n",
            "Wall time: 10.3 s\n"
          ]
        }
      ]
    },
    {
      "cell_type": "markdown",
      "source": [
        "#### Add aditional features to user-item table"
      ],
      "metadata": {
        "id": "dLalwMRykPY4"
      }
    },
    {
      "cell_type": "markdown",
      "source": [
        "After we have prepared the initial tables by removing unnecessary columns and converting possible data into numbers, we will now add features that can be used in training to the main review table"
      ],
      "metadata": {
        "id": "y4AXH8X0J9rR"
      }
    },
    {
      "cell_type": "code",
      "source": [
        "%%time\n",
        "#add scores columns\n",
        "review_data[\"score_mean\"] = review_data.scores.apply(lambda r: mean(list(map(int, re.findall(r\"\\d+\", r)))[1:]))\n",
        "scores_matrix = list(review_data.scores.apply(lambda r: list(map(int, re.findall(r\"\\d+\", r)))))\n",
        "scores_columns = re.findall(r\"'(.*?)'\", review_data.scores[0])[0:-1:2]\n",
        "df_scores = pd.DataFrame(scores_matrix, columns=map(str.lower, scores_columns))\n",
        "review_data = pd.concat((review_data, df_scores), axis=1)"
      ],
      "metadata": {
        "id": "bnRy7kcCq2qX",
        "colab": {
          "base_uri": "https://localhost:8080/"
        },
        "outputId": "1624c888-241a-45fd-c2cb-cfd0665d25be"
      },
      "execution_count": 51,
      "outputs": [
        {
          "output_type": "stream",
          "name": "stdout",
          "text": [
            "CPU times: user 2.7 s, sys: 12.3 ms, total: 2.71 s\n",
            "Wall time: 2.75 s\n"
          ]
        }
      ]
    },
    {
      "cell_type": "code",
      "source": [
        "%%time\n",
        "# add users features\n",
        "df_users_features = user_data[['gender', 'birthday']]\n",
        "review_data = pd.concat((review_data, review_data.user_id.progress_apply(lambda u: df_users_features.iloc[u])), axis=1)"
      ],
      "metadata": {
        "id": "z_CqmjVTkUgc",
        "colab": {
          "base_uri": "https://localhost:8080/"
        },
        "outputId": "511da8ae-94e2-4afd-8e7e-49a1ec68a9b9"
      },
      "execution_count": 52,
      "outputs": [
        {
          "output_type": "stream",
          "name": "stderr",
          "text": [
            "100%|██████████| 109297/109297 [00:11<00:00, 9549.33it/s] "
          ]
        },
        {
          "output_type": "stream",
          "name": "stdout",
          "text": [
            "CPU times: user 10.4 s, sys: 317 ms, total: 10.7 s\n",
            "Wall time: 11.5 s\n"
          ]
        },
        {
          "output_type": "stream",
          "name": "stderr",
          "text": [
            "\n"
          ]
        }
      ]
    },
    {
      "cell_type": "code",
      "source": [
        "%%time\n",
        "# add anime features\n",
        "#title\tsynopsis\tgenre\taired\tepisodes\tmembers\tpopularity\tranked\tscore\tanime_id_old\n",
        "df_anime_features = anime_data[[\"aired\",\t\"episodes\", \"members\",\t\"popularity\",\t\"ranked\",\t\"score\", \"genre\", \"tokens\", \"tokens_all\"]]\n",
        "review_data = pd.concat((review_data, review_data.anime_id.progress_apply(lambda a: df_anime_features.iloc[a]), ), axis=1)"
      ],
      "metadata": {
        "id": "9zl3NpfcusR7",
        "colab": {
          "base_uri": "https://localhost:8080/"
        },
        "outputId": "cb1e854f-ebb5-4ee4-a249-037ae722935f"
      },
      "execution_count": 53,
      "outputs": [
        {
          "output_type": "stream",
          "name": "stderr",
          "text": [
            "100%|██████████| 109297/109297 [00:22<00:00, 4961.27it/s] "
          ]
        },
        {
          "output_type": "stream",
          "name": "stdout",
          "text": [
            "CPU times: user 18.5 s, sys: 261 ms, total: 18.8 s\n",
            "Wall time: 22.1 s\n"
          ]
        },
        {
          "output_type": "stream",
          "name": "stderr",
          "text": [
            "\n"
          ]
        }
      ]
    },
    {
      "cell_type": "code",
      "source": [
        "display(review_data.head())"
      ],
      "metadata": {
        "id": "YmbkPamtswui",
        "colab": {
          "base_uri": "https://localhost:8080/",
          "height": 0
        },
        "outputId": "0fab3bf4-d095-4ed0-93ac-c51e8d84d9e4"
      },
      "execution_count": 54,
      "outputs": [
        {
          "output_type": "display_data",
          "data": {
            "text/plain": [
              "      uid  user_id  anime_id  \\\n",
              "0  255938        0     12165   \n",
              "1  259117        1     12420   \n",
              "2  253664        2      9832   \n",
              "3    8254        3      2638   \n",
              "4  291149        4      3513   \n",
              "\n",
              "                                                text  \\\n",
              "0  First things first. My \"reviews\" system is exp...   \n",
              "1  Let me start off by saying that Made in Abyss ...   \n",
              "2  Art 9/10: It is great, especially the actions ...   \n",
              "3  Story \\r\\ntaking place 1 yr from where season ...   \n",
              "4  Kyoto Animations greatest strength is being ab...   \n",
              "\n",
              "                                              scores  score_mean  overall  \\\n",
              "0  {'Overall': '8', 'Story': '8', 'Animation': '8...         8.6        8   \n",
              "1  {'Overall': '10', 'Story': '10', 'Animation': ...        10.0       10   \n",
              "2  {'Overall': '7', 'Story': '7', 'Animation': '9...         8.0        7   \n",
              "3  {'Overall': '9', 'Story': '9', 'Animation': '9...         9.4        9   \n",
              "4  {'Overall': '10', 'Story': '10', 'Animation': ...         9.4       10   \n",
              "\n",
              "   story  animation  sound  ...  birthday  aired  episodes  members  \\\n",
              "0      8          8     10  ...      1994   2017        12   139309   \n",
              "1     10         10     10  ...      2000   2017        13   581663   \n",
              "2      7          9      8  ...         0   2015        25   489888   \n",
              "3      9          9     10  ...         0   2008        25   992196   \n",
              "4     10          8      9  ...      1999   2008        24   740101   \n",
              "\n",
              "   popularity  ranked  score  \\\n",
              "0         800    15.0   8.94   \n",
              "1          98    23.0   8.83   \n",
              "2         141    25.0   8.82   \n",
              "3          27    17.0   8.93   \n",
              "4          64    12.0   8.97   \n",
              "\n",
              "                                               genre  \\\n",
              "0  Action, Comedy, Historical, Parody, Samurai, S...   \n",
              "1         Sci-Fi, Adventure, Mystery, Drama, Fantasy   \n",
              "2             Comedy, Sports, Drama, School, Shounen   \n",
              "3  Action, Military, Sci-Fi, Super Power, Drama, ...   \n",
              "4  Slice of Life, Comedy, Supernatural, Drama, Ro...   \n",
              "\n",
              "                                              tokens  \\\n",
              "0  Gintama.; After joining the resistance against...   \n",
              "1  Made in Abyss; The Abyss—a gaping chasm stretc...   \n",
              "2  Haikyuu!! Second Season; Following their parti...   \n",
              "3  Code Geass: Hangyaku no Lelouch R2; One year h...   \n",
              "4  Clannad: After Story; Clannad: After Story , t...   \n",
              "\n",
              "                                          tokens_all  \n",
              "0  Gintama.; Action, Comedy, Historical, Parody, ...  \n",
              "1  Made in Abyss; Sci-Fi, Adventure, Mystery, Dra...  \n",
              "2  Haikyuu!! Second Season; Comedy, Sports, Drama...  \n",
              "3  Code Geass: Hangyaku no Lelouch R2; Action, Mi...  \n",
              "4  Clannad: After Story; Slice of Life, Comedy, S...  \n",
              "\n",
              "[5 rows x 23 columns]"
            ],
            "text/html": [
              "\n",
              "  <div id=\"df-8032cd94-24b1-4a22-9dfb-b475c6d2cca7\" class=\"colab-df-container\">\n",
              "    <div>\n",
              "<style scoped>\n",
              "    .dataframe tbody tr th:only-of-type {\n",
              "        vertical-align: middle;\n",
              "    }\n",
              "\n",
              "    .dataframe tbody tr th {\n",
              "        vertical-align: top;\n",
              "    }\n",
              "\n",
              "    .dataframe thead th {\n",
              "        text-align: right;\n",
              "    }\n",
              "</style>\n",
              "<table border=\"1\" class=\"dataframe\">\n",
              "  <thead>\n",
              "    <tr style=\"text-align: right;\">\n",
              "      <th></th>\n",
              "      <th>uid</th>\n",
              "      <th>user_id</th>\n",
              "      <th>anime_id</th>\n",
              "      <th>text</th>\n",
              "      <th>scores</th>\n",
              "      <th>score_mean</th>\n",
              "      <th>overall</th>\n",
              "      <th>story</th>\n",
              "      <th>animation</th>\n",
              "      <th>sound</th>\n",
              "      <th>...</th>\n",
              "      <th>birthday</th>\n",
              "      <th>aired</th>\n",
              "      <th>episodes</th>\n",
              "      <th>members</th>\n",
              "      <th>popularity</th>\n",
              "      <th>ranked</th>\n",
              "      <th>score</th>\n",
              "      <th>genre</th>\n",
              "      <th>tokens</th>\n",
              "      <th>tokens_all</th>\n",
              "    </tr>\n",
              "  </thead>\n",
              "  <tbody>\n",
              "    <tr>\n",
              "      <th>0</th>\n",
              "      <td>255938</td>\n",
              "      <td>0</td>\n",
              "      <td>12165</td>\n",
              "      <td>First things first. My \"reviews\" system is exp...</td>\n",
              "      <td>{'Overall': '8', 'Story': '8', 'Animation': '8...</td>\n",
              "      <td>8.6</td>\n",
              "      <td>8</td>\n",
              "      <td>8</td>\n",
              "      <td>8</td>\n",
              "      <td>10</td>\n",
              "      <td>...</td>\n",
              "      <td>1994</td>\n",
              "      <td>2017</td>\n",
              "      <td>12</td>\n",
              "      <td>139309</td>\n",
              "      <td>800</td>\n",
              "      <td>15.0</td>\n",
              "      <td>8.94</td>\n",
              "      <td>Action, Comedy, Historical, Parody, Samurai, S...</td>\n",
              "      <td>Gintama.; After joining the resistance against...</td>\n",
              "      <td>Gintama.; Action, Comedy, Historical, Parody, ...</td>\n",
              "    </tr>\n",
              "    <tr>\n",
              "      <th>1</th>\n",
              "      <td>259117</td>\n",
              "      <td>1</td>\n",
              "      <td>12420</td>\n",
              "      <td>Let me start off by saying that Made in Abyss ...</td>\n",
              "      <td>{'Overall': '10', 'Story': '10', 'Animation': ...</td>\n",
              "      <td>10.0</td>\n",
              "      <td>10</td>\n",
              "      <td>10</td>\n",
              "      <td>10</td>\n",
              "      <td>10</td>\n",
              "      <td>...</td>\n",
              "      <td>2000</td>\n",
              "      <td>2017</td>\n",
              "      <td>13</td>\n",
              "      <td>581663</td>\n",
              "      <td>98</td>\n",
              "      <td>23.0</td>\n",
              "      <td>8.83</td>\n",
              "      <td>Sci-Fi, Adventure, Mystery, Drama, Fantasy</td>\n",
              "      <td>Made in Abyss; The Abyss—a gaping chasm stretc...</td>\n",
              "      <td>Made in Abyss; Sci-Fi, Adventure, Mystery, Dra...</td>\n",
              "    </tr>\n",
              "    <tr>\n",
              "      <th>2</th>\n",
              "      <td>253664</td>\n",
              "      <td>2</td>\n",
              "      <td>9832</td>\n",
              "      <td>Art 9/10: It is great, especially the actions ...</td>\n",
              "      <td>{'Overall': '7', 'Story': '7', 'Animation': '9...</td>\n",
              "      <td>8.0</td>\n",
              "      <td>7</td>\n",
              "      <td>7</td>\n",
              "      <td>9</td>\n",
              "      <td>8</td>\n",
              "      <td>...</td>\n",
              "      <td>0</td>\n",
              "      <td>2015</td>\n",
              "      <td>25</td>\n",
              "      <td>489888</td>\n",
              "      <td>141</td>\n",
              "      <td>25.0</td>\n",
              "      <td>8.82</td>\n",
              "      <td>Comedy, Sports, Drama, School, Shounen</td>\n",
              "      <td>Haikyuu!! Second Season; Following their parti...</td>\n",
              "      <td>Haikyuu!! Second Season; Comedy, Sports, Drama...</td>\n",
              "    </tr>\n",
              "    <tr>\n",
              "      <th>3</th>\n",
              "      <td>8254</td>\n",
              "      <td>3</td>\n",
              "      <td>2638</td>\n",
              "      <td>Story \\r\\ntaking place 1 yr from where season ...</td>\n",
              "      <td>{'Overall': '9', 'Story': '9', 'Animation': '9...</td>\n",
              "      <td>9.4</td>\n",
              "      <td>9</td>\n",
              "      <td>9</td>\n",
              "      <td>9</td>\n",
              "      <td>10</td>\n",
              "      <td>...</td>\n",
              "      <td>0</td>\n",
              "      <td>2008</td>\n",
              "      <td>25</td>\n",
              "      <td>992196</td>\n",
              "      <td>27</td>\n",
              "      <td>17.0</td>\n",
              "      <td>8.93</td>\n",
              "      <td>Action, Military, Sci-Fi, Super Power, Drama, ...</td>\n",
              "      <td>Code Geass: Hangyaku no Lelouch R2; One year h...</td>\n",
              "      <td>Code Geass: Hangyaku no Lelouch R2; Action, Mi...</td>\n",
              "    </tr>\n",
              "    <tr>\n",
              "      <th>4</th>\n",
              "      <td>291149</td>\n",
              "      <td>4</td>\n",
              "      <td>3513</td>\n",
              "      <td>Kyoto Animations greatest strength is being ab...</td>\n",
              "      <td>{'Overall': '10', 'Story': '10', 'Animation': ...</td>\n",
              "      <td>9.4</td>\n",
              "      <td>10</td>\n",
              "      <td>10</td>\n",
              "      <td>8</td>\n",
              "      <td>9</td>\n",
              "      <td>...</td>\n",
              "      <td>1999</td>\n",
              "      <td>2008</td>\n",
              "      <td>24</td>\n",
              "      <td>740101</td>\n",
              "      <td>64</td>\n",
              "      <td>12.0</td>\n",
              "      <td>8.97</td>\n",
              "      <td>Slice of Life, Comedy, Supernatural, Drama, Ro...</td>\n",
              "      <td>Clannad: After Story; Clannad: After Story , t...</td>\n",
              "      <td>Clannad: After Story; Slice of Life, Comedy, S...</td>\n",
              "    </tr>\n",
              "  </tbody>\n",
              "</table>\n",
              "<p>5 rows × 23 columns</p>\n",
              "</div>\n",
              "    <div class=\"colab-df-buttons\">\n",
              "\n",
              "  <div class=\"colab-df-container\">\n",
              "    <button class=\"colab-df-convert\" onclick=\"convertToInteractive('df-8032cd94-24b1-4a22-9dfb-b475c6d2cca7')\"\n",
              "            title=\"Convert this dataframe to an interactive table.\"\n",
              "            style=\"display:none;\">\n",
              "\n",
              "  <svg xmlns=\"http://www.w3.org/2000/svg\" height=\"24px\" viewBox=\"0 -960 960 960\">\n",
              "    <path d=\"M120-120v-720h720v720H120Zm60-500h600v-160H180v160Zm220 220h160v-160H400v160Zm0 220h160v-160H400v160ZM180-400h160v-160H180v160Zm440 0h160v-160H620v160ZM180-180h160v-160H180v160Zm440 0h160v-160H620v160Z\"/>\n",
              "  </svg>\n",
              "    </button>\n",
              "\n",
              "  <style>\n",
              "    .colab-df-container {\n",
              "      display:flex;\n",
              "      gap: 12px;\n",
              "    }\n",
              "\n",
              "    .colab-df-convert {\n",
              "      background-color: #E8F0FE;\n",
              "      border: none;\n",
              "      border-radius: 50%;\n",
              "      cursor: pointer;\n",
              "      display: none;\n",
              "      fill: #1967D2;\n",
              "      height: 32px;\n",
              "      padding: 0 0 0 0;\n",
              "      width: 32px;\n",
              "    }\n",
              "\n",
              "    .colab-df-convert:hover {\n",
              "      background-color: #E2EBFA;\n",
              "      box-shadow: 0px 1px 2px rgba(60, 64, 67, 0.3), 0px 1px 3px 1px rgba(60, 64, 67, 0.15);\n",
              "      fill: #174EA6;\n",
              "    }\n",
              "\n",
              "    .colab-df-buttons div {\n",
              "      margin-bottom: 4px;\n",
              "    }\n",
              "\n",
              "    [theme=dark] .colab-df-convert {\n",
              "      background-color: #3B4455;\n",
              "      fill: #D2E3FC;\n",
              "    }\n",
              "\n",
              "    [theme=dark] .colab-df-convert:hover {\n",
              "      background-color: #434B5C;\n",
              "      box-shadow: 0px 1px 3px 1px rgba(0, 0, 0, 0.15);\n",
              "      filter: drop-shadow(0px 1px 2px rgba(0, 0, 0, 0.3));\n",
              "      fill: #FFFFFF;\n",
              "    }\n",
              "  </style>\n",
              "\n",
              "    <script>\n",
              "      const buttonEl =\n",
              "        document.querySelector('#df-8032cd94-24b1-4a22-9dfb-b475c6d2cca7 button.colab-df-convert');\n",
              "      buttonEl.style.display =\n",
              "        google.colab.kernel.accessAllowed ? 'block' : 'none';\n",
              "\n",
              "      async function convertToInteractive(key) {\n",
              "        const element = document.querySelector('#df-8032cd94-24b1-4a22-9dfb-b475c6d2cca7');\n",
              "        const dataTable =\n",
              "          await google.colab.kernel.invokeFunction('convertToInteractive',\n",
              "                                                    [key], {});\n",
              "        if (!dataTable) return;\n",
              "\n",
              "        const docLinkHtml = 'Like what you see? Visit the ' +\n",
              "          '<a target=\"_blank\" href=https://colab.research.google.com/notebooks/data_table.ipynb>data table notebook</a>'\n",
              "          + ' to learn more about interactive tables.';\n",
              "        element.innerHTML = '';\n",
              "        dataTable['output_type'] = 'display_data';\n",
              "        await google.colab.output.renderOutput(dataTable, element);\n",
              "        const docLink = document.createElement('div');\n",
              "        docLink.innerHTML = docLinkHtml;\n",
              "        element.appendChild(docLink);\n",
              "      }\n",
              "    </script>\n",
              "  </div>\n",
              "\n",
              "\n",
              "<div id=\"df-e2eddf70-73b3-4601-9427-5eacb4532a98\">\n",
              "  <button class=\"colab-df-quickchart\" onclick=\"quickchart('df-e2eddf70-73b3-4601-9427-5eacb4532a98')\"\n",
              "            title=\"Suggest charts.\"\n",
              "            style=\"display:none;\">\n",
              "\n",
              "<svg xmlns=\"http://www.w3.org/2000/svg\" height=\"24px\"viewBox=\"0 0 24 24\"\n",
              "     width=\"24px\">\n",
              "    <g>\n",
              "        <path d=\"M19 3H5c-1.1 0-2 .9-2 2v14c0 1.1.9 2 2 2h14c1.1 0 2-.9 2-2V5c0-1.1-.9-2-2-2zM9 17H7v-7h2v7zm4 0h-2V7h2v10zm4 0h-2v-4h2v4z\"/>\n",
              "    </g>\n",
              "</svg>\n",
              "  </button>\n",
              "\n",
              "<style>\n",
              "  .colab-df-quickchart {\n",
              "      --bg-color: #E8F0FE;\n",
              "      --fill-color: #1967D2;\n",
              "      --hover-bg-color: #E2EBFA;\n",
              "      --hover-fill-color: #174EA6;\n",
              "      --disabled-fill-color: #AAA;\n",
              "      --disabled-bg-color: #DDD;\n",
              "  }\n",
              "\n",
              "  [theme=dark] .colab-df-quickchart {\n",
              "      --bg-color: #3B4455;\n",
              "      --fill-color: #D2E3FC;\n",
              "      --hover-bg-color: #434B5C;\n",
              "      --hover-fill-color: #FFFFFF;\n",
              "      --disabled-bg-color: #3B4455;\n",
              "      --disabled-fill-color: #666;\n",
              "  }\n",
              "\n",
              "  .colab-df-quickchart {\n",
              "    background-color: var(--bg-color);\n",
              "    border: none;\n",
              "    border-radius: 50%;\n",
              "    cursor: pointer;\n",
              "    display: none;\n",
              "    fill: var(--fill-color);\n",
              "    height: 32px;\n",
              "    padding: 0;\n",
              "    width: 32px;\n",
              "  }\n",
              "\n",
              "  .colab-df-quickchart:hover {\n",
              "    background-color: var(--hover-bg-color);\n",
              "    box-shadow: 0 1px 2px rgba(60, 64, 67, 0.3), 0 1px 3px 1px rgba(60, 64, 67, 0.15);\n",
              "    fill: var(--button-hover-fill-color);\n",
              "  }\n",
              "\n",
              "  .colab-df-quickchart-complete:disabled,\n",
              "  .colab-df-quickchart-complete:disabled:hover {\n",
              "    background-color: var(--disabled-bg-color);\n",
              "    fill: var(--disabled-fill-color);\n",
              "    box-shadow: none;\n",
              "  }\n",
              "\n",
              "  .colab-df-spinner {\n",
              "    border: 2px solid var(--fill-color);\n",
              "    border-color: transparent;\n",
              "    border-bottom-color: var(--fill-color);\n",
              "    animation:\n",
              "      spin 1s steps(1) infinite;\n",
              "  }\n",
              "\n",
              "  @keyframes spin {\n",
              "    0% {\n",
              "      border-color: transparent;\n",
              "      border-bottom-color: var(--fill-color);\n",
              "      border-left-color: var(--fill-color);\n",
              "    }\n",
              "    20% {\n",
              "      border-color: transparent;\n",
              "      border-left-color: var(--fill-color);\n",
              "      border-top-color: var(--fill-color);\n",
              "    }\n",
              "    30% {\n",
              "      border-color: transparent;\n",
              "      border-left-color: var(--fill-color);\n",
              "      border-top-color: var(--fill-color);\n",
              "      border-right-color: var(--fill-color);\n",
              "    }\n",
              "    40% {\n",
              "      border-color: transparent;\n",
              "      border-right-color: var(--fill-color);\n",
              "      border-top-color: var(--fill-color);\n",
              "    }\n",
              "    60% {\n",
              "      border-color: transparent;\n",
              "      border-right-color: var(--fill-color);\n",
              "    }\n",
              "    80% {\n",
              "      border-color: transparent;\n",
              "      border-right-color: var(--fill-color);\n",
              "      border-bottom-color: var(--fill-color);\n",
              "    }\n",
              "    90% {\n",
              "      border-color: transparent;\n",
              "      border-bottom-color: var(--fill-color);\n",
              "    }\n",
              "  }\n",
              "</style>\n",
              "\n",
              "  <script>\n",
              "    async function quickchart(key) {\n",
              "      const quickchartButtonEl =\n",
              "        document.querySelector('#' + key + ' button');\n",
              "      quickchartButtonEl.disabled = true;  // To prevent multiple clicks.\n",
              "      quickchartButtonEl.classList.add('colab-df-spinner');\n",
              "      try {\n",
              "        const charts = await google.colab.kernel.invokeFunction(\n",
              "            'suggestCharts', [key], {});\n",
              "      } catch (error) {\n",
              "        console.error('Error during call to suggestCharts:', error);\n",
              "      }\n",
              "      quickchartButtonEl.classList.remove('colab-df-spinner');\n",
              "      quickchartButtonEl.classList.add('colab-df-quickchart-complete');\n",
              "    }\n",
              "    (() => {\n",
              "      let quickchartButtonEl =\n",
              "        document.querySelector('#df-e2eddf70-73b3-4601-9427-5eacb4532a98 button');\n",
              "      quickchartButtonEl.style.display =\n",
              "        google.colab.kernel.accessAllowed ? 'block' : 'none';\n",
              "    })();\n",
              "  </script>\n",
              "</div>\n",
              "    </div>\n",
              "  </div>\n"
            ]
          },
          "metadata": {}
        }
      ]
    },
    {
      "cell_type": "markdown",
      "source": [
        "### Collect data for training"
      ],
      "metadata": {
        "id": "deHynRWkECWC"
      }
    },
    {
      "cell_type": "markdown",
      "source": [
        "Let's write some functions to generate useful data for further work"
      ],
      "metadata": {
        "id": "lRYpO2eP0pYt"
      }
    },
    {
      "cell_type": "code",
      "source": [
        "def get_users_critics(review_data, user_data, movie_cutOf=10):\n",
        "    # Returns users who have submitted more reviews than the limit value\n",
        "    users_movie_count = review_data.groupby(['user_id']).size()\n",
        "    users_critics = user_data.user_id.loc[users_movie_count >= movie_cutOf].values\n",
        "    return users_critics"
      ],
      "metadata": {
        "id": "MnT-ixDtB3mM"
      },
      "execution_count": 55,
      "outputs": []
    },
    {
      "cell_type": "code",
      "source": [
        "np.random.seed(45)\n",
        "\n",
        "def take_delayed_random_likes(review_critic_data, target_col='overall', threadshold=8):\n",
        "    # randomly select deferred likes for each user\n",
        "    random_delayed_top_likes = review_critic_data[review_critic_data[target_col] >= threadshold].groupby(['user_id']).agg({'anime_id': lambda x: np.random.choice(x)})\n",
        "    return list(zip(random_delayed_top_likes.index, random_delayed_top_likes.anime_id))"
      ],
      "metadata": {
        "id": "65we6_tIDQxE"
      },
      "execution_count": 56,
      "outputs": []
    },
    {
      "cell_type": "code",
      "source": [
        "def take_rows_baseOn_userId_animeId(delayed_likes, review_critic_data):\n",
        "    #просто вытаскиваем строки которые имеют наш сет (юзер, аниме)\n",
        "    df_delayed_likes = pd.DataFrame(delayed_likes, columns=['user_id', 'anime_id'])\n",
        "    test_data = pd.merge(review_critic_data, df_delayed_likes, how='inner', on=['user_id', 'anime_id'])\n",
        "    assert test_data.shape[0]==df_delayed_likes.shape[0]\n",
        "    return test_data"
      ],
      "metadata": {
        "id": "xT7O4qLfH8Az"
      },
      "execution_count": 57,
      "outputs": []
    },
    {
      "cell_type": "code",
      "source": [
        "def take_users_reviews_animeId_list(review_critic_data):\n",
        "    # table with list reviews for each user\n",
        "    return review_critic_data.groupby(['user_id']).agg({'anime_id': lambda x: list(x)})"
      ],
      "metadata": {
        "id": "nnuLL-pVPqrG"
      },
      "execution_count": 58,
      "outputs": []
    },
    {
      "cell_type": "markdown",
      "source": [
        "We discard critics who left reviews less than, for example, 10 times, so that there would be adequate data for training.\n",
        "Next, we create deferred likes for the remaining users, on which we will check our rating models"
      ],
      "metadata": {
        "id": "WGWQ-tsqKKqT"
      }
    },
    {
      "cell_type": "code",
      "source": [
        "#our new dataset\n",
        "review_critic_data = review_data[review_data.user_id.isin(get_users_critics(review_data, user_data, movie_cutOf=10))]\n",
        "# our delayed likes on which we test our models\n",
        "delayed_likes = take_delayed_random_likes(review_critic_data, target_col='overall', threadshold=8)"
      ],
      "metadata": {
        "id": "Vjls_JXrHVMy"
      },
      "execution_count": 59,
      "outputs": []
    },
    {
      "cell_type": "code",
      "source": [
        "# trough out delayed likes we take train dataset\n",
        "\n",
        "train_mask = ~review_critic_data[['user_id', 'anime_id']].apply(tuple, axis=1).isin(delayed_likes)\n",
        "train_data = review_critic_data[train_mask]\n",
        "assert train_data.shape[0] == review_critic_data.shape[0] - len(delayed_likes)"
      ],
      "metadata": {
        "id": "ZerP55KpI-bq"
      },
      "execution_count": 60,
      "outputs": []
    },
    {
      "cell_type": "code",
      "source": [
        "users_reviewed_animeId_data = take_users_reviews_animeId_list(review_critic_data)"
      ],
      "metadata": {
        "id": "gqsxXxoyXRDQ"
      },
      "execution_count": 61,
      "outputs": []
    },
    {
      "cell_type": "markdown",
      "source": [
        "### Create and train vectorizers for text features encodes"
      ],
      "metadata": {
        "id": "SbvA37tPyGiw"
      }
    },
    {
      "cell_type": "markdown",
      "source": [
        "In order to convert text data into numeric data, which can be used when training various machine learning models, you can use various vectorizers.\n",
        "\n",
        "Taking into account the fact that the real system already has a full-fledged catalog with films and their data, let’s immediately train the necessary encoders using our data"
      ],
      "metadata": {
        "id": "ACWtKfPa1ce-"
      }
    },
    {
      "cell_type": "code",
      "source": [
        "vectorizer_configuration = {\n",
        "    # paramters for diferent vectoriser wich can use\n",
        "    \"vectorizer\":{\n",
        "        \"binary\": dict( # simple binary token encoder\n",
        "            min_df = 5,\n",
        "            max_df = 0.9,\n",
        "            strip_accents='unicode',\n",
        "            stop_words = 'english',\n",
        "            analyzer = 'word',\n",
        "            binary = True,\n",
        "        ),\n",
        "\n",
        "        \"tfidf\": dict( # TFIDF Vectorizer\n",
        "            min_df = 5,\n",
        "            max_df = 0.9,\n",
        "            strip_accents='unicode',\n",
        "            stop_words = 'english',\n",
        "            analyzer = 'word',\n",
        "            use_idf = True,\n",
        "            smooth_idf = True,\n",
        "            sublinear_tf = True,\n",
        "            binary = False,\n",
        "            norm=\"l2\",\n",
        "        ),\n",
        "    },\n",
        "    \"dataset_description\" : {\n",
        "        \"target\" : \"overall\",\n",
        "        \"text_features\": [\"tokens\", \"genre\"],\n",
        "        \"numerical_features\": ['gender', 'birthday', 'aired', 'episodes', 'members', 'popularity', 'ranked']\n",
        "    }\n",
        "}"
      ],
      "metadata": {
        "id": "1ukkHiPQzKdJ"
      },
      "execution_count": 29,
      "outputs": []
    },
    {
      "cell_type": "code",
      "source": [
        "vectorizer_all_token_configuration =  {\n",
        "    \"vectorizer\": {**vectorizer_configuration['vectorizer']},\n",
        "    \"dataset_description\" : {\n",
        "        \"target\" : \"overall\",\n",
        "        \"text_features\": [\"tokens_all\"],\n",
        "        \"numerical_features\": ['gender', 'birthday', 'aired', 'episodes', 'members', 'popularity', 'ranked']\n",
        "    }\n",
        "}"
      ],
      "metadata": {
        "id": "2wOtqee51-iA"
      },
      "execution_count": 36,
      "outputs": []
    },
    {
      "cell_type": "code",
      "source": [
        "class DenseTransformer(TransformerMixin):\n",
        "    \"\"\"\n",
        "    Convert sparse matrix to dense np array to apply standard scaler with mean.\n",
        "    \"\"\"\n",
        "\n",
        "    def fit(self, X, y=None, **fit_params):\n",
        "        return self\n",
        "\n",
        "    def transform(self, X, y=None, **fit_params):\n",
        "        return X.toarray()"
      ],
      "metadata": {
        "id": "AWcHvvqC4Mxe"
      },
      "execution_count": 31,
      "outputs": []
    },
    {
      "cell_type": "code",
      "source": [
        "def train_vectorizer(config, trainset, binary_vectorizer=True):\n",
        "    vectorisers = []\n",
        "    for text_colmn in config[\"dataset_description\"][\"text_features\"]:\n",
        "        if binary_vectorizer:\n",
        "            word_vectorizer = CountVectorizer(**config['vectorizer']['binary'])\n",
        "        else:\n",
        "            word_vectorizer = Pipeline([(\"tfidf\", TfidfVectorizer(**config['vectorizer']['tfidf'])),\n",
        "                                        ('dense', DenseTransformer()),\n",
        "                                        (\"scaler\", StandardScaler())])\n",
        "        feature_matrix = word_vectorizer.fit_transform(trainset[text_colmn].astype('U'))\n",
        "        vectorisers.append(word_vectorizer)\n",
        "    return vectorisers"
      ],
      "metadata": {
        "id": "70Qe1aJmzU8i"
      },
      "execution_count": 32,
      "outputs": []
    },
    {
      "cell_type": "code",
      "source": [
        "%%time\n",
        "binary_vectorizers = train_vectorizer(vectorizer_configuration, anime_data, binary_vectorizer=True)"
      ],
      "metadata": {
        "colab": {
          "base_uri": "https://localhost:8080/"
        },
        "id": "O7xat7rzz8h7",
        "outputId": "5a269a9b-3a78-4913-fd2c-ff085812abe8"
      },
      "execution_count": 33,
      "outputs": [
        {
          "output_type": "stream",
          "name": "stdout",
          "text": [
            "CPU times: user 2.45 s, sys: 23.4 ms, total: 2.47 s\n",
            "Wall time: 4.39 s\n"
          ]
        }
      ]
    },
    {
      "cell_type": "code",
      "source": [
        "%%time\n",
        "tidif_vectorizers = train_vectorizer(vectorizer_configuration, anime_data, binary_vectorizer=False)"
      ],
      "metadata": {
        "colab": {
          "base_uri": "https://localhost:8080/"
        },
        "id": "7BlziKRM0hBl",
        "outputId": "d3899ccd-9350-477f-992f-ebfb4afabb95"
      },
      "execution_count": 34,
      "outputs": [
        {
          "output_type": "stream",
          "name": "stdout",
          "text": [
            "CPU times: user 4.44 s, sys: 3.83 s, total: 8.27 s\n",
            "Wall time: 8.6 s\n"
          ]
        }
      ]
    },
    {
      "cell_type": "code",
      "source": [
        "%%time\n",
        "binary_vectorizers_on_allTokens = train_vectorizer(vectorizer_all_token_configuration, anime_data, binary_vectorizer=True)"
      ],
      "metadata": {
        "colab": {
          "base_uri": "https://localhost:8080/"
        },
        "id": "0UUfZrT22UJb",
        "outputId": "0289c6df-7511-41dc-eb6e-95f765ea6c68"
      },
      "execution_count": 37,
      "outputs": [
        {
          "output_type": "stream",
          "name": "stdout",
          "text": [
            "CPU times: user 2.01 s, sys: 9.04 ms, total: 2.02 s\n",
            "Wall time: 2.06 s\n"
          ]
        }
      ]
    },
    {
      "cell_type": "markdown",
      "source": [
        "### Create model structure"
      ],
      "metadata": {
        "id": "nRRlCuWCE2Jb"
      }
    },
    {
      "cell_type": "markdown",
      "source": [
        "Now let's write a model training function"
      ],
      "metadata": {
        "id": "tmjzyY8E2uqh"
      }
    },
    {
      "cell_type": "code",
      "source": [
        "def buil_train_model(config, trainset, fited_vectorisers=[], logistic=False):\n",
        "    \"\"\"\n",
        "    Config and fit cb model\n",
        "    \"\"\"\n",
        "    # take feature matrix\n",
        "    scoring = True if len(fited_vectorisers)>0 else False\n",
        "    feature_matrix, vectorisers = generate_features(config, trainset, fited_vectorisers, scoring=scoring)\n",
        "\n",
        "    # set wich model type use\n",
        "    if logistic:\n",
        "        regressor =  linear_model.LogisticRegression\n",
        "    elif 'alpha' in config['model']:\n",
        "        regressor = Ridge\n",
        "    else:\n",
        "        regressor = LinearRegression\n",
        "\n",
        "    target_column = config[\"dataset_description\"]['target']\n",
        "    model = regressor(**config['model']).fit(feature_matrix, trainset[target_column])\n",
        "    return model, vectorisers"
      ],
      "metadata": {
        "id": "FeFEX1Svtf4w"
      },
      "execution_count": 38,
      "outputs": []
    },
    {
      "cell_type": "markdown",
      "source": [
        "Function for converting a dataset into a feature matrix for further training"
      ],
      "metadata": {
        "id": "NAoMSq-F2-Hj"
      }
    },
    {
      "cell_type": "code",
      "source": [
        "import scipy.sparse as sp\n",
        "from scipy.sparse import hstack\n",
        "from sklearn import linear_model\n",
        "\n",
        "def generate_features(config, trainset, fited_vectorisers, scoring):\n",
        "    # сюда подается датасет с колонками нужных фичей\n",
        "    # здесь только текст кодируется в фичи и конкетится с остальными числовыми\n",
        "    \"\"\"\n",
        "    Config and fit text vectorizer\n",
        "    \"\"\"\n",
        "    if scoring:\n",
        "        # 1 vectorise text data\n",
        "        feature_matrix = sp.csr_matrix((trainset.shape[0],0))\n",
        "        i=0\n",
        "        for text_colmn in config[\"dataset_description\"][\"text_features\"]:\n",
        "            word_vectorizer = fited_vectorisers[i]\n",
        "            feature_matrix = hstack((feature_matrix,  word_vectorizer.transform(trainset[text_colmn].astype('U'))))\n",
        "            i+=1\n",
        "\n",
        "        # 2 add to vectorise text data numerical features\n",
        "        numerical_feat_matrix = sp.csr_matrix(trainset[config[\"dataset_description\"][\"numerical_features\"]].values)\n",
        "        feature_matrix = hstack((feature_matrix, numerical_feat_matrix))\n",
        "        vectorisers = fited_vectorisers\n",
        "    else:\n",
        "        # 1 vectorise text data\n",
        "        feature_matrix = sp.csr_matrix((trainset.shape[0],0))\n",
        "        vectorisers = []\n",
        "        for text_colmn in config[\"dataset_description\"][\"text_features\"]:\n",
        "            if config['use_binary_vectorizer']:\n",
        "                word_vectorizer = CountVectorizer(**config['vectorizer']['binary'])\n",
        "            else:\n",
        "                word_vectorizer = Pipeline([(\"tfidf\", TfidfVectorizer(**config['vectorizer']['tfidf'])),\n",
        "                                            ('dense', DenseTransformer()),\n",
        "                                            (\"scaler\", StandardScaler())])\n",
        "            feature_matrix = hstack((feature_matrix,  word_vectorizer.fit_transform(trainset[text_colmn].astype('U'))))\n",
        "            vectorisers.append(word_vectorizer)\n",
        "\n",
        "        # 2 add to vectorise text data numerical features\n",
        "        numerical_feat_matrix = sp.csr_matrix(trainset[config[\"dataset_description\"][\"numerical_features\"]].values)\n",
        "        feature_matrix = hstack((feature_matrix, numerical_feat_matrix))\n",
        "\n",
        "    feature_matrix.data[np.isnan(feature_matrix.data)] = 0.0\n",
        "    return feature_matrix, vectorisers"
      ],
      "metadata": {
        "id": "nIBiEjvXtoto"
      },
      "execution_count": 39,
      "outputs": []
    },
    {
      "cell_type": "markdown",
      "source": [
        "### Metrics"
      ],
      "metadata": {
        "id": "FlwcxMskX93w"
      }
    },
    {
      "cell_type": "markdown",
      "source": [
        "Recommendation tasks most often use machine learning metrics that are slightly different from conventional ones. In this task we will will evaluate our model using standard ranking metrics HR@n, MRR@n"
      ],
      "metadata": {
        "id": "FtEiPhapLPde"
      }
    },
    {
      "cell_type": "markdown",
      "source": [
        "A function that generates a test dataset with delayed liking"
      ],
      "metadata": {
        "id": "0hlRmoyT3kMH"
      }
    },
    {
      "cell_type": "code",
      "source": [
        "np.random.seed(seed)\n",
        "\n",
        "def create_test_review_data_for_user(delayed_like, users_reviewed_animeId_data, anime_data, user_data, size=150):\n",
        "    user_id, delayed_anime_id = delayed_like\n",
        "    unwatch_anime_ids = set(anime_data.anime_id.values) - set(users_reviewed_animeId_data.loc[user_id].values[0])\n",
        "    anime_ids_to_predict = np.concatenate((np.random.choice(np.array(list(unwatch_anime_ids)), size, replace=False), np.array([delayed_anime_id])))\n",
        "\n",
        "    user_features_df = user_data[user_data.user_id==user_id][['user_id', 'gender', 'birthday']]\n",
        "    user_features_df = pd.concat([user_features_df] * (size+1), ignore_index=True)\n",
        "    anime_features_df = anime_data[anime_data.anime_id.isin(anime_ids_to_predict)][[\"anime_id\", \"aired\",\t\"episodes\", \"members\",\t\"popularity\",\t\"ranked\",\t\"score\", \"genre\", \"tokens\"]]\n",
        "    anime_features_df.reset_index(drop=True, inplace=True)\n",
        "    user_features_df.reset_index(drop=True, inplace=True)\n",
        "    test_data = pd.concat((anime_features_df, user_features_df), axis=1)\n",
        "    test_data['like'] = 0\n",
        "    test_data.loc[test_data.anime_id == delayed_anime_id, 'like'] = 1\n",
        "    return test_data"
      ],
      "metadata": {
        "id": "zcw21JAqVpL-"
      },
      "execution_count": 40,
      "outputs": []
    },
    {
      "cell_type": "markdown",
      "source": [
        "A function that calculates ranking model metrics"
      ],
      "metadata": {
        "id": "_MGCQHx73sj_"
      }
    },
    {
      "cell_type": "code",
      "source": [
        "def model_score_on_delayed_likes(config, model, fited_vectorisers, delayed_likes, users_reviewed_animeId_data, anime_data, user_data, size=100, topK_list=[10,20], on_tqdm=True):\n",
        "    HITS_MASKS = []\n",
        "    HR = []\n",
        "    MRR = []\n",
        "    tqdm_delayed_likes = tqdm(delayed_likes) if on_tqdm else delayed_likes\n",
        "    for delayed_like in tqdm_delayed_likes:\n",
        "        test_data = create_test_review_data_for_user(delayed_like, users_reviewed_animeId_data, anime_data, user_data, size)\n",
        "        feature_matrix, _ = generate_features(config, test_data, fited_vectorisers, scoring=True)\n",
        "        test_data['pred'] = model.predict(feature_matrix)\n",
        "\n",
        "        hits_mask = test_data.sort_values(['pred'], ascending=False)['like'].to_numpy()\n",
        "        HITS_MASKS.append(hits_mask)\n",
        "\n",
        "    scores = {}\n",
        "    for k in topK_list:\n",
        "        HITS_MASKS = np.array(HITS_MASKS)\n",
        "        # HR calculation\n",
        "        HR = np.mean(HITS_MASKS[:,:k].any(axis=1))\n",
        "\n",
        "        # MRR calculation\n",
        "        n_test_users = HITS_MASKS.shape[0]\n",
        "        hit_ranks = np.where(HITS_MASKS[:,:k])[1] + 1.0\n",
        "        mrr = np.sum(1 / hit_ranks) / n_test_users\n",
        "\n",
        "        scores[f'HR@{k}'] = HR\n",
        "        scores[f'MRR@{k}'] = mrr\n",
        "\n",
        "    return scores"
      ],
      "metadata": {
        "id": "bbSzuR5oL4M_"
      },
      "execution_count": 41,
      "outputs": []
    },
    {
      "cell_type": "markdown",
      "source": [
        "### 1.1 Big model"
      ],
      "metadata": {
        "id": "VgQoEk6T19pC"
      }
    },
    {
      "cell_type": "markdown",
      "source": [
        "First, let's try to train a standard linear model. When the input is a large matrix containing vectors of all users with their reviews"
      ],
      "metadata": {
        "id": "NOKhW8ZI5StA"
      }
    },
    {
      "cell_type": "markdown",
      "source": [
        "#### Linear Regression"
      ],
      "metadata": {
        "id": "G1CJVuXJ385E"
      }
    },
    {
      "cell_type": "code",
      "source": [
        "%%time\n",
        "bigModel_configuration = {\n",
        "    # parameters for mashing learning model\n",
        "    \"model\": dict(),\n",
        "    \"dataset_description\" : {\n",
        "        \"target\" : \"overall\",\n",
        "        \"text_features\": [\"tokens\", \"genre\"],\n",
        "        \"numerical_features\": ['gender', 'birthday', 'aired', 'episodes', 'members', 'popularity', 'ranked']\n",
        "    }\n",
        "}\n",
        "\n",
        "bigModel, _ = buil_train_model(bigModel_configuration, train_data, fited_vectorisers=binary_vectorizers)\n",
        "\n",
        "bigModel_scores = model_score_on_delayed_likes(bigModel_configuration,\n",
        "                             bigModel, binary_vectorizers,\n",
        "                             delayed_likes,\n",
        "                             users_reviewed_animeId_data,\n",
        "                             anime_data,\n",
        "                             user_data,\n",
        "                             size=200,\n",
        "                             topK_list=[10,15,20])\n",
        "\n",
        "bigModel_scores"
      ],
      "metadata": {
        "id": "M9xPlpF214TD",
        "colab": {
          "base_uri": "https://localhost:8080/"
        },
        "outputId": "afdd870b-4e41-4056-9b9d-a7b23a4b7d11"
      },
      "execution_count": 43,
      "outputs": [
        {
          "output_type": "stream",
          "name": "stderr",
          "text": [
            "100%|██████████| 1638/1638 [02:00<00:00, 13.57it/s]"
          ]
        },
        {
          "output_type": "stream",
          "name": "stdout",
          "text": [
            "CPU times: user 1min 40s, sys: 936 ms, total: 1min 41s\n",
            "Wall time: 2min 18s\n"
          ]
        },
        {
          "output_type": "stream",
          "name": "stderr",
          "text": [
            "\n"
          ]
        },
        {
          "output_type": "execute_result",
          "data": {
            "text/plain": [
              "{'HR@10': 0.003663003663003663,\n",
              " 'MRR@10': 0.00045617962284628954,\n",
              " 'HR@15': 0.021367521367521368,\n",
              " 'MRR@15': 0.0017756680302467849,\n",
              " 'HR@20': 0.10622710622710622,\n",
              " 'MRR@20': 0.006406507845555123}"
            ]
          },
          "metadata": {},
          "execution_count": 43
        }
      ]
    },
    {
      "cell_type": "markdown",
      "source": [
        "Linear regression showed rather low results, let's try to change the target to the average rating from the user, that is, y will be less discrete"
      ],
      "metadata": {
        "id": "OO597fqh5utt"
      }
    },
    {
      "cell_type": "code",
      "source": [
        "%%time\n",
        "bigModel_configuration = {\n",
        "    # parameters for mashing learning model\n",
        "    \"model\": dict(),\n",
        "    \"dataset_description\" : {\n",
        "        \"target\" : \"score_mean\",\n",
        "        \"text_features\": [\"tokens\", \"genre\"],\n",
        "        \"numerical_features\": ['gender', 'birthday', 'aired', 'episodes', 'members', 'popularity', 'ranked']\n",
        "    }\n",
        "}\n",
        "\n",
        "bigModel, _ = buil_train_model(bigModel_configuration, train_data, fited_vectorisers=binary_vectorizers)\n",
        "\n",
        "bigModel_scores = model_score_on_delayed_likes(bigModel_configuration,\n",
        "                             bigModel, binary_vectorizers,\n",
        "                             delayed_likes,\n",
        "                             users_reviewed_animeId_data,\n",
        "                             anime_data,\n",
        "                             user_data,\n",
        "                             size=200,\n",
        "                             topK_list=[10,15,20])\n",
        "\n",
        "bigModel_scores"
      ],
      "metadata": {
        "colab": {
          "base_uri": "https://localhost:8080/"
        },
        "id": "efiUjjjn4XAa",
        "outputId": "2b5d3e7f-d3a0-4e41-dc7c-dd32394a7228"
      },
      "execution_count": 44,
      "outputs": [
        {
          "output_type": "stream",
          "name": "stderr",
          "text": [
            "100%|██████████| 1638/1638 [01:34<00:00, 17.31it/s]"
          ]
        },
        {
          "output_type": "stream",
          "name": "stdout",
          "text": [
            "CPU times: user 1min 27s, sys: 933 ms, total: 1min 28s\n",
            "Wall time: 1min 47s\n"
          ]
        },
        {
          "output_type": "stream",
          "name": "stderr",
          "text": [
            "\n"
          ]
        },
        {
          "output_type": "execute_result",
          "data": {
            "text/plain": [
              "{'HR@10': 0.4523809523809524,\n",
              " 'MRR@10': 0.22779740101168675,\n",
              " 'HR@15': 0.49755799755799757,\n",
              " 'MRR@15': 0.23135103093894302,\n",
              " 'HR@20': 0.5347985347985348,\n",
              " 'MRR@20': 0.23341449990127677}"
            ]
          },
          "metadata": {},
          "execution_count": 44
        }
      ]
    },
    {
      "cell_type": "markdown",
      "source": [
        "We got very good results"
      ],
      "metadata": {
        "id": "Z5Y34MLE60Va"
      }
    },
    {
      "cell_type": "markdown",
      "source": [
        "#### Logistic Regression"
      ],
      "metadata": {
        "id": "ithQd-At4ptK"
      }
    },
    {
      "cell_type": "markdown",
      "source": [
        "Let's see what results we get in the case of logistic regression"
      ],
      "metadata": {
        "id": "Nm7YMeZn7B0y"
      }
    },
    {
      "cell_type": "code",
      "source": [
        "bigModelBin_configuration = {\n",
        "    # parameters for mashing learning model\n",
        "    \"model\": dict(random_state=seed, C=0.05, max_iter=200),\n",
        "    \"dataset_description\" : {\n",
        "        \"target\" : \"overall\",\n",
        "        \"text_features\": [\"tokens\", \"genre\"],\n",
        "        \"numerical_features\": ['gender', 'birthday', 'aired', 'episodes', 'members', 'popularity', 'ranked']\n",
        "    }\n",
        "}"
      ],
      "metadata": {
        "id": "B_RZXTcZqnvG"
      },
      "execution_count": 68,
      "outputs": []
    },
    {
      "cell_type": "code",
      "source": [
        "%%time\n",
        "#train_data[['target']] = train_data.overall.apply(lambda r: 1 if r>=7 else 0)\n",
        "bigModelBin, _ = buil_train_model(bigModelBin_configuration, train_data, fited_vectorisers=binary_vectorizers, logistic=True)"
      ],
      "metadata": {
        "colab": {
          "base_uri": "https://localhost:8080/"
        },
        "id": "PowJcCxIqskm",
        "outputId": "3b5fc408-9425-4551-f710-0c093617c0b5"
      },
      "execution_count": 73,
      "outputs": [
        {
          "output_type": "stream",
          "name": "stdout",
          "text": [
            "CPU times: user 37.4 s, sys: 25.2 s, total: 1min 2s\n",
            "Wall time: 51.6 s\n"
          ]
        },
        {
          "output_type": "stream",
          "name": "stderr",
          "text": [
            "lbfgs failed to converge (status=1):\n",
            "STOP: TOTAL NO. of ITERATIONS REACHED LIMIT.\n",
            "\n",
            "Increase the number of iterations (max_iter) or scale the data as shown in:\n",
            "    https://scikit-learn.org/stable/modules/preprocessing.html\n",
            "Please also refer to the documentation for alternative solver options:\n",
            "    https://scikit-learn.org/stable/modules/linear_model.html#logistic-regression\n"
          ]
        }
      ]
    },
    {
      "cell_type": "code",
      "source": [
        "%%time\n",
        "bigModelBin_scores = model_score_on_delayed_likes(bigModelBin_configuration,\n",
        "                             bigModelBin, binary_vectorizers,\n",
        "                             delayed_likes,\n",
        "                             users_reviewed_animeId_data,\n",
        "                             anime_data,\n",
        "                             user_data,\n",
        "                             size=200,\n",
        "                             topK_list=[10,15,20])\n",
        "bigModelBin_scores"
      ],
      "metadata": {
        "colab": {
          "base_uri": "https://localhost:8080/"
        },
        "id": "c6ySYZO-quN5",
        "outputId": "6c6378f2-e07b-48a6-90ca-b700a2b3db22"
      },
      "execution_count": 74,
      "outputs": [
        {
          "output_type": "stream",
          "name": "stderr",
          "text": [
            "100%|██████████| 1638/1638 [01:37<00:00, 16.83it/s]"
          ]
        },
        {
          "output_type": "stream",
          "name": "stdout",
          "text": [
            "CPU times: user 1min 16s, sys: 534 ms, total: 1min 16s\n",
            "Wall time: 1min 37s\n"
          ]
        },
        {
          "output_type": "stream",
          "name": "stderr",
          "text": [
            "\n"
          ]
        },
        {
          "output_type": "execute_result",
          "data": {
            "text/plain": [
              "{'HR@10': 0.3534798534798535,\n",
              " 'MRR@10': 0.21728249704440178,\n",
              " 'HR@15': 0.39194139194139194,\n",
              " 'MRR@15': 0.22024752143799764,\n",
              " 'HR@20': 0.42185592185592186,\n",
              " 'MRR@20': 0.22191662737696938}"
            ]
          },
          "metadata": {},
          "execution_count": 74
        }
      ]
    },
    {
      "cell_type": "markdown",
      "source": [
        "We also get good results, although less better than linear regression on average estimates\n",
        "\n",
        "Just for fun, let's look at the logistic regression on likes (a better model when the threshold is 7)"
      ],
      "metadata": {
        "id": "R3LAybR88Y8s"
      }
    },
    {
      "cell_type": "code",
      "source": [
        "%%time\n",
        "bigModelBin_configuration = {\n",
        "    # parameters for mashing learning model\n",
        "    \"model\": dict(random_state=seed, C=0.05, max_iter=200),\n",
        "    \"dataset_description\" : {\n",
        "        \"target\" : \"target\",\n",
        "        \"text_features\": [\"tokens\", \"genre\"],\n",
        "        \"numerical_features\": ['gender', 'birthday', 'aired', 'episodes', 'members', 'popularity', 'ranked']\n",
        "    }\n",
        "}\n",
        "\n",
        "train_data['target'] = train_data.overall.apply(lambda r: 1 if r>=6 else 0)\n",
        "bigModelBin, _ = buil_train_model(bigModelBin_configuration, train_data, fited_vectorisers=binary_vectorizers, logistic=True)\n",
        "\n",
        "bigModelBin_scores = model_score_on_delayed_likes(bigModelBin_configuration,\n",
        "                             bigModelBin, binary_vectorizers,\n",
        "                             delayed_likes,\n",
        "                             users_reviewed_animeId_data,\n",
        "                             anime_data,\n",
        "                             user_data,\n",
        "                             size=200,\n",
        "                             topK_list=[10,15,20])\n",
        "bigModelBin_scores"
      ],
      "metadata": {
        "colab": {
          "base_uri": "https://localhost:8080/"
        },
        "id": "4kxHQCMxubEn",
        "outputId": "ed43376a-557f-4d95-b30c-c86a037a2162"
      },
      "execution_count": 76,
      "outputs": [
        {
          "output_type": "stream",
          "name": "stderr",
          "text": [
            "\n",
            "A value is trying to be set on a copy of a slice from a DataFrame.\n",
            "Try using .loc[row_indexer,col_indexer] = value instead\n",
            "\n",
            "See the caveats in the documentation: https://pandas.pydata.org/pandas-docs/stable/user_guide/indexing.html#returning-a-view-versus-a-copy\n",
            "100%|██████████| 1638/1638 [01:16<00:00, 21.41it/s]"
          ]
        },
        {
          "output_type": "stream",
          "name": "stdout",
          "text": [
            "CPU times: user 1min 22s, sys: 2.56 s, total: 1min 25s\n",
            "Wall time: 1min 29s\n"
          ]
        },
        {
          "output_type": "stream",
          "name": "stderr",
          "text": [
            "\n"
          ]
        },
        {
          "output_type": "execute_result",
          "data": {
            "text/plain": [
              "{'HR@10': 0.1330891330891331,\n",
              " 'MRR@10': 0.05850000969048588,\n",
              " 'HR@15': 0.19352869352869354,\n",
              " 'MRR@15': 0.0631610385273389,\n",
              " 'HR@20': 0.23565323565323565,\n",
              " 'MRR@20': 0.06554018219260227}"
            ]
          },
          "metadata": {},
          "execution_count": 76
        }
      ]
    },
    {
      "cell_type": "markdown",
      "source": [
        "As expected, we get significantly worse results, since we reduced the target accuracy"
      ],
      "metadata": {
        "id": "5NFyF5Zp8wGA"
      }
    },
    {
      "cell_type": "markdown",
      "source": [
        "### 1.2 Each user model"
      ],
      "metadata": {
        "id": "mzJmKe3619u7"
      }
    },
    {
      "cell_type": "markdown",
      "source": [
        "Let's now try to build a model for each user separately and compare it with the results of a large model"
      ],
      "metadata": {
        "id": "-Hkb6aMeYW66"
      }
    },
    {
      "cell_type": "markdown",
      "source": [
        "#### Linear Regression"
      ],
      "metadata": {
        "id": "VwSc9lUx4wEZ"
      }
    },
    {
      "cell_type": "markdown",
      "source": [
        "The pipeline and training configurations are the same as the best large model. The only thing we would do is remove user features from the data, since they do not carry any information during training (since there is one model for one user)"
      ],
      "metadata": {
        "id": "1HdNZcFH9ZLe"
      }
    },
    {
      "cell_type": "code",
      "source": [
        "eachUserModel_configuration = {\n",
        "    # parameters for mashing learning model\n",
        "    \"model\": dict(),\n",
        "    \"dataset_description\" : {\n",
        "        \"target\" : \"score_mean\",\n",
        "        \"text_features\": [\"tokens\", \"genre\"],\n",
        "        \"numerical_features\": ['aired', 'episodes', 'members', 'popularity', 'ranked']\n",
        "    }\n",
        "}\n",
        "\n",
        "usersModels_scores = {}\n",
        "\n",
        "for delayed_like in tqdm(delayed_likes):\n",
        "    train_data_u = train_data[train_data.user_id == delayed_like[0]]\n",
        "    userModel, _ = buil_train_model(eachUserModel_configuration, train_data_u, fited_vectorisers=binary_vectorizers)\n",
        "    user_scores =  model_score_on_delayed_likes(eachUserModel_configuration,\n",
        "                                                userModel, binary_vectorizers,\n",
        "                                                [delayed_like],\n",
        "                                                users_reviewed_animeId_data,\n",
        "                                                anime_data,\n",
        "                                                user_data,\n",
        "                                                size=200,\n",
        "                                                topK_list=[10,15,20],\n",
        "                                                on_tqdm=False)\n",
        "\n",
        "    if len(usersModels_scores)==0:\n",
        "      for metric in user_scores:\n",
        "        usersModels_scores[metric] = []\n",
        "\n",
        "    for metric in user_scores:\n",
        "        usersModels_scores[metric].append(user_scores[metric])\n",
        "\n",
        "usersModels_scores_end = {}\n",
        "for metric in usersModels_scores:\n",
        "        usersModels_scores_end[metric] = np.array(usersModels_scores[metric]).mean()\n",
        "\n",
        "usersModels_scores_end"
      ],
      "metadata": {
        "id": "nqtOgjKmuZ_s",
        "colab": {
          "base_uri": "https://localhost:8080/"
        },
        "outputId": "3f805759-3aa5-45a1-af07-728231d4b5a9"
      },
      "execution_count": 77,
      "outputs": [
        {
          "output_type": "stream",
          "name": "stderr",
          "text": [
            "100%|██████████| 1638/1638 [02:40<00:00, 10.19it/s]\n"
          ]
        },
        {
          "output_type": "execute_result",
          "data": {
            "text/plain": [
              "{'HR@10': 0.16422466422466422,\n",
              " 'MRR@10': 0.05254859778669302,\n",
              " 'HR@15': 0.2216117216117216,\n",
              " 'MRR@15': 0.057051583608360164,\n",
              " 'HR@20': 0.27411477411477414,\n",
              " 'MRR@20': 0.06004780383884251}"
            ]
          },
          "metadata": {},
          "execution_count": 77
        }
      ]
    },
    {
      "cell_type": "markdown",
      "source": [
        "We get less optimistic indicators, but in general we can assume that the average accuracy of users models works. Most likely, the review data from each user is still not quite enough to train a good model (in our case, the threshold for the number of reviews was 10). So model with enoght train data take good results, and other less"
      ],
      "metadata": {
        "id": "Tg-NOlCk_Yk4"
      }
    },
    {
      "cell_type": "markdown",
      "source": [
        "### 1.3 Random model"
      ],
      "metadata": {
        "id": "5dcUuYJS2GMk"
      }
    },
    {
      "cell_type": "markdown",
      "source": [
        "Let's build a random ranking model to check whether the above-created models break through the baseline\n"
      ],
      "metadata": {
        "id": "6gpVZ2zTYbmw"
      }
    },
    {
      "cell_type": "code",
      "source": [
        "np.random.seed(seed)\n",
        "def random_model_score_on_delayed_likes(delayed_likes, users_reviewed_animeId_data, anime_data, user_data, size=100, topK_list=[10,15,20], on_tqdm=True):\n",
        "    HITS_MASKS = []\n",
        "    HR = []\n",
        "    MRR = []\n",
        "    tqdm_delayed_likes = tqdm(delayed_likes) if on_tqdm else delayed_likes\n",
        "    for delayed_like in tqdm_delayed_likes:\n",
        "        test_data = create_test_review_data_for_user(delayed_like, users_reviewed_animeId_data, anime_data, user_data, size)\n",
        "        hits_mask = test_data['like'].to_numpy()\n",
        "        np.random.shuffle(hits_mask)\n",
        "        HITS_MASKS.append(hits_mask)\n",
        "\n",
        "    scores = {}\n",
        "    for k in topK_list:\n",
        "        HITS_MASKS = np.array(HITS_MASKS)\n",
        "        # HR calculation\n",
        "        HR = np.mean(HITS_MASKS[:,:k].any(axis=1))\n",
        "\n",
        "        # MRR calculation\n",
        "        n_test_users = HITS_MASKS.shape[0]\n",
        "        hit_ranks = np.where(HITS_MASKS[:,:k])[1] + 1.0\n",
        "        mrr = np.sum(1 / hit_ranks) / n_test_users\n",
        "\n",
        "        scores[f'HR@{k}'] = HR\n",
        "        scores[f'MRR@{k}'] = mrr\n",
        "\n",
        "    return scores"
      ],
      "metadata": {
        "id": "3CM7VlJclvcy"
      },
      "execution_count": 81,
      "outputs": []
    },
    {
      "cell_type": "code",
      "source": [
        "randomModel_scores = random_model_score_on_delayed_likes(delayed_likes,\n",
        "                                                          users_reviewed_animeId_data,\n",
        "                                                          anime_data,\n",
        "                                                          user_data,\n",
        "                                                          size=200,\n",
        "                                                          topK_list=[10,15,20])\n",
        "randomModel_scores"
      ],
      "metadata": {
        "colab": {
          "base_uri": "https://localhost:8080/"
        },
        "id": "dWJPY30NnDle",
        "outputId": "e6f9848e-b2c0-46ca-f198-78e71bc571aa"
      },
      "execution_count": 82,
      "outputs": [
        {
          "output_type": "stream",
          "name": "stderr",
          "text": [
            "100%|██████████| 1638/1638 [00:31<00:00, 52.21it/s]\n"
          ]
        },
        {
          "output_type": "execute_result",
          "data": {
            "text/plain": [
              "{'HR@10': 0.04822954822954823,\n",
              " 'MRR@10': 0.014593387212434833,\n",
              " 'HR@15': 0.06898656898656899,\n",
              " 'MRR@15': 0.016187112981984778,\n",
              " 'HR@20': 0.0995115995115995,\n",
              " 'MRR@20': 0.017915903913562084}"
            ]
          },
          "metadata": {},
          "execution_count": 82
        }
      ]
    },
    {
      "cell_type": "markdown",
      "source": [
        "As we can see, our models showed better results than the random option. That is, we did not make mistakes when building systems and, on the whole, moved in the right direction"
      ],
      "metadata": {
        "id": "U2to5zlTA-67"
      }
    },
    {
      "cell_type": "markdown",
      "source": [
        "### Conclusion"
      ],
      "metadata": {
        "id": "UhydTQfvBQF1"
      }
    },
    {
      "cell_type": "markdown",
      "source": [
        "Overall, we were able to consider various linear recommendation models based on the user-movie feature vector.\n",
        "\n",
        "During development, we looked at different selections of feature columns, vectorizers, and targets, but overall we didn’t get much improvement.\n",
        "\n",
        "In order to fundamentally improve the recommendation system, you need to add the ability to take into account the personal preferences of users, the ability to look for common dependencies between user behaviors, etc. But of course, this should not be done by building a separate model for each person, this is ineffective in the realities of the market, production, but by building one model that will take all these abilities into itself"
      ],
      "metadata": {
        "id": "rPki2z1YB7tR"
      }
    }
  ]
}