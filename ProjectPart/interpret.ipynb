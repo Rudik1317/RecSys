{
  "cells": [
    {
      "cell_type": "markdown",
      "source": [
        "#### Imports"
      ],
      "metadata": {
        "id": "-7h7ICuuoRi8"
      },
      "id": "-7h7ICuuoRi8"
    },
    {
      "cell_type": "code",
      "source": [
        "import os\n",
        "\n",
        "def find_path(name, path='/content'):\n",
        "    '''\n",
        "    поиск файла или папки\n",
        "    '''\n",
        "    result = []\n",
        "    for root, dirs, files in os.walk(path):\n",
        "        if name in files+dirs:\n",
        "          result.append([os.path.join(root, name), root])\n",
        "    return result\n",
        "\n",
        "if len(find_path('MyDrive')) == 0 and True:\n",
        "  from google.colab import drive\n",
        "  drive.mount('/content/drive')\n",
        "if True:\n",
        "  os.chdir(find_path('full_train.ipynb')[0][1])"
      ],
      "metadata": {
        "colab": {
          "base_uri": "https://localhost:8080/"
        },
        "id": "fbkf3tRCln2B",
        "outputId": "3c1cb7b5-9cdc-4ad4-9d06-c7ca8bb095d2"
      },
      "id": "fbkf3tRCln2B",
      "execution_count": 1,
      "outputs": [
        {
          "output_type": "stream",
          "name": "stdout",
          "text": [
            "Mounted at /content/drive\n"
          ]
        }
      ]
    },
    {
      "cell_type": "code",
      "source": [
        "!pip -q install --upgrade git+https://github.com/evfro/polara.git@develop#egg=polara\n",
        "#! wget -q https://raw.githubusercontent.com/Personalization-Technologies-Lab/RecSys-Course-HSE-Fall23/main/Seminar5/dataprep.py -O dataprep.py\n",
        "#! wget -q https://raw.githubusercontent.com/Personalization-Technologies-Lab/RecSys-Course-HSE-Fall23/main/Seminar5/evaluation.py -O evaluation.py\n",
        "!pip -q install ray==2.9.0\n",
        "!pip -q install Bottleneck==1.3.7\n",
        "!pip -q install optuna==3.5.0\n",
        "!pip -q install omegaconf==2.3.0\n"
      ],
      "metadata": {
        "colab": {
          "base_uri": "https://localhost:8080/"
        },
        "id": "r3NVwhO3l5hZ",
        "outputId": "0d7589ac-3868-40a8-81e5-2fa3646ca517"
      },
      "id": "r3NVwhO3l5hZ",
      "execution_count": 2,
      "outputs": [
        {
          "output_type": "stream",
          "name": "stdout",
          "text": [
            "  Preparing metadata (setup.py) ... \u001b[?25l\u001b[?25hdone\n",
            "  Building wheel for polara (setup.py) ... \u001b[?25l\u001b[?25hdone\n",
            "\u001b[2K     \u001b[90m━━━━━━━━━━━━━━━━━━━━━━━━━━━━━━━━━━━━━━━━\u001b[0m \u001b[32m64.9/64.9 MB\u001b[0m \u001b[31m9.7 MB/s\u001b[0m eta \u001b[36m0:00:00\u001b[0m\n",
            "\u001b[2K     \u001b[90m━━━━━━━━━━━━━━━━━━━━━━━━━━━━━━━━━━━━━━━━\u001b[0m \u001b[32m354.0/354.0 kB\u001b[0m \u001b[31m2.5 MB/s\u001b[0m eta \u001b[36m0:00:00\u001b[0m\n",
            "\u001b[2K     \u001b[90m━━━━━━━━━━━━━━━━━━━━━━━━━━━━━━━━━━━━━━━━\u001b[0m \u001b[32m413.4/413.4 kB\u001b[0m \u001b[31m2.9 MB/s\u001b[0m eta \u001b[36m0:00:00\u001b[0m\n",
            "\u001b[2K     \u001b[90m━━━━━━━━━━━━━━━━━━━━━━━━━━━━━━━━━━━━━━━━\u001b[0m \u001b[32m233.4/233.4 kB\u001b[0m \u001b[31m17.3 MB/s\u001b[0m eta \u001b[36m0:00:00\u001b[0m\n",
            "\u001b[2K     \u001b[90m━━━━━━━━━━━━━━━━━━━━━━━━━━━━━━━━━━━━━━━━\u001b[0m \u001b[32m78.6/78.6 kB\u001b[0m \u001b[31m11.4 MB/s\u001b[0m eta \u001b[36m0:00:00\u001b[0m\n",
            "\u001b[2K     \u001b[90m━━━━━━━━━━━━━━━━━━━━━━━━━━━━━━━━━━━━━━━━\u001b[0m \u001b[32m79.5/79.5 kB\u001b[0m \u001b[31m1.1 MB/s\u001b[0m eta \u001b[36m0:00:00\u001b[0m\n",
            "\u001b[2K     \u001b[90m━━━━━━━━━━━━━━━━━━━━━━━━━━━━━━━━━━━━━━━━\u001b[0m \u001b[32m117.0/117.0 kB\u001b[0m \u001b[31m5.7 MB/s\u001b[0m eta \u001b[36m0:00:00\u001b[0m\n",
            "\u001b[?25h  Preparing metadata (setup.py) ... \u001b[?25l\u001b[?25hdone\n",
            "  Building wheel for antlr4-python3-runtime (setup.py) ... \u001b[?25l\u001b[?25hdone\n"
          ]
        }
      ]
    },
    {
      "cell_type": "code",
      "execution_count": 101,
      "id": "d09203eb",
      "metadata": {
        "colab": {
          "base_uri": "https://localhost:8080/"
        },
        "id": "d09203eb",
        "outputId": "bfaedb19-b9bc-41dd-b71e-a34383e40542"
      },
      "outputs": [
        {
          "output_type": "stream",
          "name": "stdout",
          "text": [
            "The autoreload extension is already loaded. To reload it, use:\n",
            "  %reload_ext autoreload\n"
          ]
        }
      ],
      "source": [
        "%load_ext autoreload\n",
        "%autoreload 2\n",
        "import sys\n",
        "from pathlib import Path\n",
        "protomf_path = Path(\"./ProtoMF/\")\n",
        "sys.path.append(protomf_path.__str__())\n",
        "\n",
        "import argparse\n",
        "import os\n",
        "from confs.hyper_params import mf_hyper_params, anchor_hyper_params, user_proto_chose_original_hyper_params, \\\n",
        "    item_proto_chose_original_hyper_params, proto_double_tie_chose_original_hyper_params\n",
        "from experiment_helper import start_hyper, start_multiple_hyper\n",
        "from utilities.consts import SINGLE_SEED\n"
      ]
    },
    {
      "cell_type": "code",
      "execution_count": 102,
      "id": "b02a2629",
      "metadata": {
        "id": "b02a2629"
      },
      "outputs": [],
      "source": [
        "import os\n",
        "import torch\n",
        "from ray import tune\n",
        "from torch import nn\n",
        "from torch.utils import data\n",
        "from feature_extraction.feature_extractor_factories import FeatureExtractorFactory\n",
        "from rec_sys_folder.rec_sys import RecSys\n",
        "from utilities.consts import OPTIMIZING_METRIC, MAX_PATIENCE\n",
        "from utilities.eval import Evaluator\n",
        "import numpy as np\n",
        "import pandas as pd\n",
        "from scipy import sparse as sp\n",
        "from torch.utils import data\n",
        "from torch.utils.data.dataset import T_co\n",
        "from functools import partial\n",
        "import torch\n",
        "from torch import nn\n",
        "from feature_extraction.feature_extractors import FeatureExtractor\n",
        "import argparse\n",
        "from ray import tune\n",
        "from ray.tune.schedulers import ASHAScheduler\n",
        "from ray.tune.search.hyperopt import HyperOptSearch\n",
        "from rec_sys_folder.protomf_dataset import get_protorecdataset_dataloader\n",
        "from rec_sys_folder.tester import Tester\n",
        "from rec_sys_folder.trainer import Trainer\n",
        "from utilities.consts import NEG_VAL, OPTIMIZING_METRIC, SEED_LIST, SINGLE_SEED, NUM_SAMPLES, \\\n",
        "    PROJECT_NAME, DATA_PATH, NUM_WORKERS, CPU_PER_TRIAL, GPU_PER_TRIAL, WANDB_API_KEY\n",
        "from ray.air.integrations.wandb import WandbLoggerCallback\n",
        "from utilities.utils import reproducible, generate_id\n",
        "import platform"
      ]
    },
    {
      "cell_type": "markdown",
      "source": [
        "#### Functions (not see)"
      ],
      "metadata": {
        "id": "ZZtpylKjoW1c"
      },
      "id": "ZZtpylKjoW1c"
    },
    {
      "cell_type": "code",
      "execution_count": 5,
      "id": "b7c4d057",
      "metadata": {
        "colab": {
          "base_uri": "https://localhost:8080/"
        },
        "id": "b7c4d057",
        "outputId": "09f18516-9fda-46b5-976e-ca773b294997"
      },
      "outputs": [
        {
          "output_type": "execute_result",
          "data": {
            "text/plain": [
              "True"
            ]
          },
          "metadata": {},
          "execution_count": 5
        }
      ],
      "source": [
        "torch.cuda.is_available()"
      ]
    },
    {
      "cell_type": "code",
      "execution_count": 6,
      "id": "3c0ff974",
      "metadata": {
        "id": "3c0ff974"
      },
      "outputs": [],
      "source": [
        "import wandb"
      ]
    },
    {
      "cell_type": "code",
      "execution_count": 7,
      "id": "aba4b22e",
      "metadata": {
        "id": "aba4b22e"
      },
      "outputs": [],
      "source": [
        "def load_data(conf: argparse.Namespace, is_train: bool = True):\n",
        "    if is_train:\n",
        "        train_loader = get_protorecdataset_dataloader(\n",
        "            data_path=conf.data_path,\n",
        "            split_set='train',\n",
        "            n_neg=conf.neg_train,\n",
        "            neg_strategy=conf.train_neg_strategy,\n",
        "            batch_size=conf.batch_size,\n",
        "            shuffle=True,\n",
        "            num_workers=NUM_WORKERS,\n",
        "            prefetch_factor=5\n",
        "        )\n",
        "\n",
        "        val_loader = get_protorecdataset_dataloader(\n",
        "            data_path=conf.data_path,\n",
        "            split_set='val',\n",
        "            n_neg=NEG_VAL,\n",
        "            neg_strategy=conf.eval_neg_strategy,\n",
        "            batch_size=conf.val_batch_size,\n",
        "            num_workers=NUM_WORKERS\n",
        "        )\n",
        "\n",
        "        test_loader = get_protorecdataset_dataloader(\n",
        "            data_path=conf.data_path,\n",
        "            split_set='test',\n",
        "            n_neg=NEG_VAL,\n",
        "            neg_strategy=conf.eval_neg_strategy,\n",
        "            batch_size=conf.val_batch_size,\n",
        "            num_workers=NUM_WORKERS\n",
        "        )\n",
        "\n",
        "        return {'train_loader': train_loader, 'val_loader': val_loader, 'test_loader': test_loader}\n",
        "    else:\n",
        "\n",
        "        test_loader = get_protorecdataset_dataloader(\n",
        "            data_path=conf.data_path,\n",
        "            split_set='test',\n",
        "            n_neg=NEG_VAL,\n",
        "            neg_strategy=conf.eval_neg_strategy,\n",
        "            batch_size=conf.val_batch_size,\n",
        "            num_workers=NUM_WORKERS\n",
        "        )\n",
        "\n",
        "        return {'test_loader': test_loader}\n",
        "\n",
        "\n",
        "def start_training(config):\n",
        "    config = argparse.Namespace(**config)\n",
        "    print(config)\n",
        "\n",
        "    data_loaders_dict = load_data(config)\n",
        "\n",
        "    reproducible(config.seed)\n",
        "\n",
        "    # trainer = Trainer(data_loaders_dict['train_loader'], data_loaders_dict['val_loader'], data_loaders_dict['test_loader'], config)\n",
        "    trainer = Trainer(data_loaders_dict['train_loader'], data_loaders_dict['val_loader'],  config)\n",
        "\n",
        "\n",
        "    trainer.run()\n",
        "\n",
        "    wandb.finish()\n",
        "\n",
        "\n",
        "def start_testing(config, model_load_path: str):\n",
        "    config = argparse.Namespace(**config)\n",
        "    print(config)\n",
        "\n",
        "    data_loaders_dict = load_data(config, is_train=False)\n",
        "\n",
        "    reproducible(config.seed)\n",
        "\n",
        "    tester = Tester(data_loaders_dict['test_loader'], config, model_load_path)\n",
        "\n",
        "    metric_values = tester.test()\n",
        "    return metric_values\n",
        "\n",
        "\n",
        "def start_hyper(conf: dict, model: str, dataset: str, seed: int = SINGLE_SEED):\n",
        "    print('Starting Hyperparameter Optimization')\n",
        "    print(f'Seed is {seed}')\n",
        "\n",
        "    # Search Algorithm\n",
        "    search_alg = HyperOptSearch(random_state_seed=seed)\n",
        "\n",
        "    if dataset == 'lfm2b-1mon':\n",
        "        scheduler = ASHAScheduler(grace_period=4)\n",
        "    else:\n",
        "        scheduler = None\n",
        "\n",
        "    # Logger\n",
        "    callback = WandbLoggerCallback(project=PROJECT_NAME, log_config=True, api_key=WANDB_API_KEY,\n",
        "                                   reinit=True, force=True, job_type='train/val', tags=[model, str(seed), dataset])\n",
        "\n",
        "    # Hostname\n",
        "    host_name = platform.uname()\n",
        "\n",
        "    # Dataset\n",
        "    data_path = DATA_PATH\n",
        "    conf['data_path'] = os.path.join(data_path, dataset)\n",
        "\n",
        "    # Seed\n",
        "    conf['seed'] = seed\n",
        "\n",
        "    group_name = f'{model}_{dataset}_{seed}'\n",
        "    tune.register_trainable(group_name, start_training)\n",
        "    analysis = tune.run(\n",
        "        group_name,\n",
        "        config=conf,\n",
        "        name=generate_id(prefix=group_name),\n",
        "        resources_per_trial={'gpu': GPU_PER_TRIAL, 'cpu': CPU_PER_TRIAL},\n",
        "        scheduler=scheduler,\n",
        "        search_alg=search_alg,\n",
        "        num_samples=NUM_SAMPLES,\n",
        "        callbacks=[callback],\n",
        "        metric='_metric/' + OPTIMIZING_METRIC,\n",
        "        mode='max'\n",
        "    )\n",
        "    metric_name = '_metric/' + OPTIMIZING_METRIC\n",
        "    best_trial = analysis.get_best_trial(metric_name, 'max', scope='all')\n",
        "    best_trial_config = best_trial.config\n",
        "    best_trial_checkpoint = os.path.join(analysis.get_best_checkpoint(best_trial, metric_name, 'max'), 'best_model.pth')\n",
        "\n",
        "    wandb.login(key=WANDB_API_KEY)\n",
        "    wandb.init(project=PROJECT_NAME, group='test_results', config=best_trial_config, name=group_name, force=True,\n",
        "               job_type='test', tags=[model, str(seed), dataset])\n",
        "    metric_values = start_testing(best_trial_config, best_trial_checkpoint)\n",
        "    wandb.finish()\n",
        "    return metric_values\n",
        "\n",
        "\n",
        "def start_multiple_hyper(conf: dict, model: str, dataset: str, seed_list: list = SEED_LIST):\n",
        "    print('Starting Multi-Hyperparameter Optimization')\n",
        "    print('seed_list is ', seed_list)\n",
        "    metric_values_list = []\n",
        "    mean_values = dict()\n",
        "\n",
        "    for seed in seed_list:\n",
        "        metric_values_list.append(start_hyper(conf, model, dataset, seed))\n",
        "\n",
        "    for key in metric_values_list[0].keys():\n",
        "        _sum = 0\n",
        "        for metric_values in metric_values_list:\n",
        "            _sum += metric_values[key]\n",
        "        _mean = _sum / len(metric_values_list)\n",
        "\n",
        "        mean_values[key] = _mean\n",
        "\n",
        "    group_name = f'{model}_{dataset}'"
      ]
    },
    {
      "cell_type": "code",
      "execution_count": 8,
      "id": "f6ccf8e1",
      "metadata": {
        "id": "f6ccf8e1"
      },
      "outputs": [],
      "source": [
        "base_param = {\n",
        "    'device': 'cuda' if torch.cuda.is_available() else 'cpu',\n",
        "    'n_epochs': 10,\n",
        "    'eval_neg_strategy': 'uniform',\n",
        "    'val_batch_size': 256,\n",
        "    'train_batch_size': 256,\n",
        "    'data_path': protomf_path / \"data/ml\",\n",
        "    'NUM_WORKERS': 1,\n",
        "    'rec_sys_param': {'use_bias': 0},\n",
        "}\n",
        "\n",
        "base_hyper_params = {\n",
        "    **base_param,\n",
        "    'neg_train': 99,\n",
        "    'neg_val': 99,\n",
        "    'train_neg_strategy': 'uniform',#tune.choice(['popular', 'uniform']),\n",
        "    'loss_func_name': 'sampled_softmax', # tune.choice(['bce', 'bpr', 'sampled_softmax']),\n",
        "    'batch_size': np.random.randint(64, 512),\n",
        "    'optim_param': {\n",
        "        'optim': 'adagrad',\n",
        "        'wd': np.random.uniform(low=1e-4, high=1e-2),\n",
        "        'lr': np.random.uniform(low=1e-4, high=1e-1)\n",
        "    },\n",
        "}\n",
        "user_proto_chose_original_hyper_params = {\n",
        "    **base_hyper_params,\n",
        "    'loss_func_aggr': 'mean',\n",
        "    'ft_ext_param': {\n",
        "        \"ft_type\": \"prototypes\",\n",
        "        'embedding_dim': np.random.randint(10, 100), #tune.randint(10, 100),\n",
        "        'user_ft_ext_param': {\n",
        "            \"ft_type\": \"prototypes\",\n",
        "            'sim_proto_weight': np.random.uniform(low=1e-3, high=10), # tune.loguniform(1e-3, 10),\n",
        "            'sim_batch_weight': np.random.uniform(low=1e-3, high=10),\n",
        "            'use_weight_matrix': False,\n",
        "            'n_prototypes': np.random.randint(10, 100), #tune.randint(10, 100),\n",
        "            'cosine_type': 'shifted',\n",
        "            'reg_proto_type': 'max',\n",
        "            'reg_batch_type': 'max',\n",
        "        },\n",
        "        'item_ft_ext_param': {\n",
        "            \"ft_type\": \"embedding\",\n",
        "        }\n",
        "    },\n",
        "}\n",
        "user_proto_chose_original_hyper_params = argparse.Namespace(**user_proto_chose_original_hyper_params)\n",
        "\n",
        "proto_double_tie_chose_original_hyper_params = {\n",
        "    'loss_func_aggr': 'mean',\n",
        "    'ft_ext_param': {\n",
        "        \"ft_type\": \"prototypes_double_tie\",\n",
        "        'embedding_dim': 100, #tune.randint(10, 100),\n",
        "        'item_ft_ext_param': {\n",
        "            \"ft_type\": \"prototypes_double_tie\",\n",
        "            'sim_proto_weight': 1e-3,#tune.loguniform(1e-3, 10),\n",
        "            'sim_batch_weight': 1e-3,#tune.loguniform(1e-3, 10),\n",
        "            'use_weight_matrix': False,\n",
        "            'n_prototypes': 5, #tune.randint(10, 100),\n",
        "            'cosine_type': 'shifted',\n",
        "            'reg_proto_type': 'max',\n",
        "            'reg_batch_type': 'max'\n",
        "        },\n",
        "        'user_ft_ext_param': {\n",
        "            \"ft_type\": \"prototypes_double_tie\",\n",
        "            'sim_proto_weight': 1e-3,#tune.loguniform(1e-3, 10),\n",
        "            'sim_batch_weight': 1e-3, #tune.loguniform(1e-3, 10),\n",
        "            'use_weight_matrix': False,\n",
        "            'n_prototypes': 100, #tune.randint(10, 100),\n",
        "            'cosine_type': 'shifted',\n",
        "            'reg_proto_type': 'max',\n",
        "            'reg_batch_type': 'max'\n",
        "        },\n",
        "    },\n",
        "    \"checkpoint_dir\": 'experiments',\n",
        "    **base_hyper_params,\n",
        "}\n",
        "\n",
        "from omegaconf import OmegaConf\n",
        "# proto_double_tie_chose_original_hyper_params = argparse.Namespace(**proto_double_tie_chose_original_hyper_params)\n",
        "# proto_double_tie_chose_original_hyper_params = OmegaConf.create(proto_double_tie_chose_original_hyper_params)"
      ]
    },
    {
      "cell_type": "code",
      "execution_count": 9,
      "id": "d16066d6",
      "metadata": {
        "id": "d16066d6"
      },
      "outputs": [],
      "source": [
        "# data_loaders_dict = load_data(proto_double_tie_chose_original_hyper_params)\n",
        "# config = proto_double_tie_chose_original_hyper_params\n",
        "# trainer = Trainer(data_loaders_dict['train_loader'], data_loaders_dict['val_loader'],  config)"
      ]
    },
    {
      "cell_type": "code",
      "execution_count": 10,
      "id": "1459be54",
      "metadata": {
        "id": "1459be54"
      },
      "outputs": [],
      "source": [
        "\"\"\"\n",
        "'user_ft_ext_param'  'n_prototypes': 5,,\n",
        "'item_ft_ext_param' 'n_prototypes': 5,\n",
        " 'embedding_dim': 100,\n",
        "\"\"\"\n",
        "def objective(trial):\n",
        "    prototypes1 = trial.suggest_int('prototypes1', 20, 100, 20)\n",
        "    prototypes2 = trial.suggest_int('prototypes2', 20, 100, 20)\n",
        "\n",
        "    embeddings_dim = trial.suggest_int(\"embedding\", 50, 400, 50)\n",
        "\n",
        "    proto_double_tie_chose_original_hyper_params['ft_ext_param']['user_ft_ext_param']['n_prototypes'] = prototypes1\n",
        "    proto_double_tie_chose_original_hyper_params['ft_ext_param']['item_ft_ext_param']['n_prototypes'] = prototypes2\n",
        "    proto_double_tie_chose_original_hyper_params['embedding_dim'] = embeddings_dim\n",
        "\n",
        "\n",
        "    config = argparse.Namespace(**proto_double_tie_chose_original_hyper_params)\n",
        "    data_loaders_dict = load_data(config)\n",
        "\n",
        "    trainer = Trainer(data_loaders_dict['train_loader'], data_loaders_dict['val_loader'],  config)\n",
        "\n",
        "    return trainer.run(trial)\n",
        "\n",
        "# study.optimize(objective, n_trials=100)"
      ]
    },
    {
      "cell_type": "code",
      "execution_count": 11,
      "id": "e2a21805",
      "metadata": {
        "id": "e2a21805"
      },
      "outputs": [],
      "source": [
        "# class RecSys(nn.Module):\n",
        "\n",
        "#     def __init__(self, n_users: int, n_items: int, rec_sys_param, user_feature_extractor: FeatureExtractor,\n",
        "#                  item_feature_extractor: FeatureExtractor, loss_func_name: str, loss_func_aggr: str = 'mean'):\n",
        "#         \"\"\"\n",
        "#         General Recommender System\n",
        "#         It generates the user/item vectors (given the feature extractors) and computes the similarity by the dot product.\n",
        "#         :param n_users: number of users in the system\n",
        "#         :param n_items: number of items in the system\n",
        "#         :param rec_sys_param: parameters of the Recommender System module\n",
        "#         :param user_feature_extractor: feature_extractor.FeatureExtractor module that generates user embeddings.\n",
        "#         :param item_feature_extractor: feature_extractor.FeatureExtractor module that generates item embeddings.\n",
        "#         :param loss_func_name: name of the loss function to use for the network.\n",
        "#         :param loss_func_aggr: type of aggregation for the loss function, either 'mean' or 'sum'.\n",
        "#         \"\"\"\n",
        "\n",
        "#         assert loss_func_aggr in ['mean', 'sum'], f'Loss function aggregators <{loss_func_aggr}> not implemented...yet'\n",
        "\n",
        "#         super().__init__()\n",
        "#         self.n_users = n_users\n",
        "#         self.n_items = n_items\n",
        "#         self.rec_sys_param = rec_sys_param\n",
        "#         self.user_feature_extractor = user_feature_extractor\n",
        "#         self.item_feature_extractor = item_feature_extractor\n",
        "#         self.loss_func_name = loss_func_name\n",
        "#         self.loss_func_aggr = loss_func_aggr\n",
        "\n",
        "#         self.use_bias = self.rec_sys_param[\"use_bias\"] > 0 if 'use_bias' in self.rec_sys_param else True\n",
        "\n",
        "#         if self.use_bias:\n",
        "#             self.user_bias = nn.Embedding(self.n_users, 1)\n",
        "#             self.item_bias = nn.Embedding(self.n_items, 1)\n",
        "#             self.global_bias = nn.Parameter(torch.zeros(1), requires_grad=True)\n",
        "\n",
        "#         if self.loss_func_name == 'bce':\n",
        "#             self.rec_loss = partial(bce_loss, aggregator=self.loss_func_aggr)\n",
        "#         elif self.loss_func_name == 'bpr':\n",
        "#             self.rec_loss = partial(bpr_loss, aggregator=self.loss_func_aggr)\n",
        "#         elif self.loss_func_name == 'sampled_softmax':\n",
        "#             self.rec_loss = partial(sampled_softmax_loss, aggregator=self.loss_func_aggr)\n",
        "#         else:\n",
        "#             raise ValueError(f'Recommender System Loss function <{self.rec_loss}> Not Implemented... Yet')\n",
        "\n",
        "#         self.initialized = False\n",
        "\n",
        "#         print(f'Built RecSys module \\n'\n",
        "#               f'- n_users: {self.n_users} \\n'\n",
        "#               f'- n_items: {self.n_items} \\n'\n",
        "#               f'- user_feature_extractor: {self.user_feature_extractor.name} \\n'\n",
        "#               f'- item_feature_extractor: {self.item_feature_extractor.name} \\n'\n",
        "#               f'- loss_func_name: {self.loss_func_name} \\n'\n",
        "#               f'- use_bias: {self.use_bias} \\n')\n",
        "\n",
        "#     def init_parameters(self):\n",
        "#         \"\"\"\n",
        "#         Method for initializing the Recommender System Processor\n",
        "#         \"\"\"\n",
        "#         if self.use_bias:\n",
        "#             torch.nn.init.constant_(self.user_bias.weight, 0.)\n",
        "#             torch.nn.init.constant_(self.item_bias.weight, 0.)\n",
        "\n",
        "#         self.user_feature_extractor.init_parameters()\n",
        "#         self.item_feature_extractor.init_parameters()\n",
        "\n",
        "#         self.initialized = True\n",
        "\n",
        "#     def loss_func(self, logits, labels):\n",
        "#         \"\"\"\n",
        "#         Loss function of the Recommender System module. It takes into account eventual feature_extractor loss terms.\n",
        "#         NB. Any feature_extractor loss is pre-weighted.\n",
        "#         :param logits: output of the system.\n",
        "#         :param labels: binary labels\n",
        "#         :return: aggregated loss\n",
        "#         \"\"\"\n",
        "\n",
        "#         rec_loss = self.rec_loss(logits, labels)\n",
        "#         item_feat_ext_loss = self.item_feature_extractor.get_and_reset_loss()\n",
        "#         user_feat_ext_loss = self.user_feature_extractor.get_and_reset_loss()\n",
        "#         return rec_loss + item_feat_ext_loss + user_feat_ext_loss\n",
        "\n",
        "#     def forward(self, u_idxs, i_idxs):\n",
        "#         \"\"\"\n",
        "#         Performs the forward pass considering user indexes and the item indexes. Negative Sampling is done automatically\n",
        "#         by the dataloader\n",
        "#         :param u_idxs: User indexes. Shape is (batch_size,)\n",
        "#         :param i_idxs: Item indexes. Shape is (batch_size, n_neg + 1)\n",
        "\n",
        "#         :return: A matrix of logits values. Shape is (batch_size, 1 + n_neg). First column is always associated\n",
        "#                 to the positive track.\n",
        "#         \"\"\"\n",
        "#         assert self.initialized, 'Model initialization has not been called! Please call .init_parameters() ' \\\n",
        "#                                  'before using the model'\n",
        "\n",
        "#         # --- User pass ---\n",
        "#         u_embed = self.user_feature_extractor(u_idxs)\n",
        "#         if self.use_bias:\n",
        "#             u_bias = self.user_bias(u_idxs)\n",
        "\n",
        "#         # --- Item pass ---\n",
        "#         if self.use_bias:\n",
        "#             i_bias = self.item_bias(i_idxs).squeeze()\n",
        "\n",
        "#         i_embed = self.item_feature_extractor(i_idxs)\n",
        "\n",
        "#         # --- Dot Product ---\n",
        "#         dots = torch.sum(u_embed.unsqueeze(1) * i_embed, dim=-1)  # [batch_size, n_neg_p_1]\n",
        "\n",
        "#         if self.use_bias:\n",
        "#             # Optional bias\n",
        "#             dots = dots + u_bias + i_bias + self.global_bias\n",
        "\n",
        "#         return dots\n",
        "\n",
        "\n",
        "# def bce_loss(logits, labels, aggregator='mean'):\n",
        "#     \"\"\"\n",
        "#     It computes the binary cross entropy loss with negative sampling, expressed by the formula:\n",
        "#                                     -∑_j log(x_ui) + log(1 - x_uj)\n",
        "#     where x_ui and x_uj are the prediction for user u on item i and j, respectively. Item i positive instance while\n",
        "#     Item j is a negative instance. The Sum is carried out across the different negative instances. In other words\n",
        "#     the positive item is weighted as many as negative items are considered.\n",
        "\n",
        "#     :param logits: Logits values from the network. The first column always contain the values of positive instances.\n",
        "#             Shape is (batch_size, 1 + n_neg).\n",
        "#     :param labels: 1-0 Labels. The first column contains 1s while all the others 0s.\n",
        "#     :param aggregator: function to use to aggregate the loss terms. Default to mean\n",
        "\n",
        "#     :return: The binary cross entropy as computed above\n",
        "#     \"\"\"\n",
        "#     weights = torch.ones_like(logits)\n",
        "#     weights[:, 0] = logits.shape[1] - 1\n",
        "\n",
        "#     loss = nn.BCEWithLogitsLoss(weights.flatten(), reduction=aggregator)(logits.flatten(), labels.flatten())\n",
        "\n",
        "#     return loss\n",
        "\n",
        "\n",
        "# def bpr_loss(logits, labels, aggregator='mean'):\n",
        "#     \"\"\"\n",
        "#     It computes the Bayesian Personalized Ranking loss (https://arxiv.org/pdf/1205.2618.pdf).\n",
        "\n",
        "#     :param logits: Logits values from the network. The first column always contain the values of positive instances.\n",
        "#             Shape is (batch_size, 1 + n_neg).\n",
        "#     :param labels: 1-0 Labels. The first column contains 1s while all the others 0s.\n",
        "#     :param aggregator: function to use to aggregate the loss terms. Default to mean\n",
        "\n",
        "#     :return: The bayesian personalized ranking loss\n",
        "#     \"\"\"\n",
        "#     pos_logits = logits[:, 0].unsqueeze(1)  # [batch_size,1]\n",
        "#     neg_logits = logits[:, 1:]  # [batch_size,n_neg]\n",
        "\n",
        "#     labels = labels[:, 0]  # I guess this is just to avoid problems with the device\n",
        "#     labels = torch.repeat_interleave(labels, neg_logits.shape[1])\n",
        "\n",
        "#     diff_logits = pos_logits - neg_logits\n",
        "\n",
        "#     loss = nn.BCEWithLogitsLoss(reduction=aggregator)(diff_logits.flatten(), labels.flatten())\n",
        "\n",
        "#     return loss\n",
        "\n",
        "\n",
        "# def sampled_softmax_loss(logits, labels, aggregator='sum'):\n",
        "#     \"\"\"\n",
        "#     It computes the (Sampled) Softmax Loss (a.k.a. sampled cross entropy) expressed by the formula:\n",
        "#                         -x_ui +  log( ∑_j e^{x_uj})\n",
        "#     where x_ui and x_uj are the prediction for user u on item i and j, respectively. Item i positive instance while j\n",
        "#     goes over all the sampled items (negatives + the positive).\n",
        "#     :param logits: Logits values from the network. The first column always contain the values of positive instances.\n",
        "#             Shape is (batch_size, 1 + n_neg).\n",
        "#     :param labels: 1-0 Labels. The first column contains 1s while all the others 0s.\n",
        "#     :param aggregator: function to use to aggregate the loss terms. Default to sum\n",
        "#     :return:\n",
        "#     \"\"\"\n",
        "\n",
        "#     pos_logits_sum = - logits[:, 0]\n",
        "#     log_sum_exp_sum = torch.logsumexp(logits, dim=-1)\n",
        "\n",
        "#     sampled_loss = pos_logits_sum + log_sum_exp_sum\n",
        "\n",
        "#     if aggregator == 'sum':\n",
        "#         return sampled_loss.sum()\n",
        "#     elif aggregator == 'mean':\n",
        "#         return sampled_loss.mean()\n",
        "#     else:\n",
        "#         raise ValueError('Loss aggregator not defined')"
      ]
    },
    {
      "cell_type": "code",
      "execution_count": 12,
      "id": "96812ea6",
      "metadata": {
        "id": "96812ea6"
      },
      "outputs": [],
      "source": [
        "checkpoint_dir = Path(\"./ProtoMF/best_models\")"
      ]
    },
    {
      "cell_type": "code",
      "execution_count": 13,
      "id": "55f30b9a",
      "metadata": {
        "id": "55f30b9a"
      },
      "outputs": [],
      "source": [
        "# class Trainer:\n",
        "\n",
        "#     def __init__(self, train_loader: data.DataLoader, val_loader: data.DataLoader, conf):\n",
        "#         \"\"\"\n",
        "#         Train and Evaluate the model.\n",
        "#         :param train_loader: Training DataLoader (check music4all_data.Music4AllDataset for more info)\n",
        "#         :param val_loader: Validation DataLoader (check music4all_data.Music4AllDataset for more info)\n",
        "#         :param conf: Experiment configuration parameters\n",
        "#         \"\"\"\n",
        "\n",
        "#         self.train_loader = train_loader\n",
        "#         self.val_loader = val_loader\n",
        "\n",
        "#         self.rec_sys_param = conf.rec_sys_param\n",
        "#         self.ft_ext_param = conf.ft_ext_param\n",
        "#         self.optim_param = conf.optim_param\n",
        "\n",
        "#         self.n_epochs = conf.n_epochs\n",
        "#         self.loss_func_name = conf.loss_func_name\n",
        "#         self.loss_func_aggr = conf.loss_func_aggr if 'loss_func_aggr' in conf else 'mean'\n",
        "\n",
        "#         self.device = conf.device\n",
        "\n",
        "#         self.optimizing_metric = OPTIMIZING_METRIC\n",
        "#         self.max_patience = MAX_PATIENCE\n",
        "\n",
        "#         self.model = self._build_model()\n",
        "#         self.optimizer = self._build_optimizer()\n",
        "\n",
        "#         print(f'Built Trainer module \\n'\n",
        "#               f'- n_epochs: {self.n_epochs} \\n'\n",
        "#               f'- loss_func_name: {self.loss_func_name} \\n'\n",
        "#               f'- loss_func_aggr: {self.loss_func_aggr} \\n'\n",
        "#               f'- device: {self.device} \\n'\n",
        "#               f'- optimizing_metric: {self.optimizing_metric} \\n')\n",
        "\n",
        "#     def _build_model(self):\n",
        "#         # Step 1 --- Building User and Item Feature Extractors\n",
        "#         n_users = self.train_loader.dataset.n_users\n",
        "#         n_items = self.train_loader.dataset.n_items\n",
        "#         user_feature_extractor, item_feature_extractor = \\\n",
        "#             FeatureExtractorFactory.create_models(self.ft_ext_param, n_users, n_items)\n",
        "#         # Step 2 --- Building RecSys Module\n",
        "#         rec_sys = RecSys(n_users, n_items, self.rec_sys_param, user_feature_extractor, item_feature_extractor,\n",
        "#                          self.loss_func_name, self.loss_func_aggr)\n",
        "\n",
        "#         rec_sys.init_parameters()\n",
        "#         rec_sys = nn.DataParallel(rec_sys)\n",
        "#         rec_sys = rec_sys.to(self.device)\n",
        "\n",
        "#         return rec_sys\n",
        "\n",
        "#     def _build_optimizer(self):\n",
        "#         self.lr = self.optim_param['lr'] if 'lr' in self.optim_param else 1e-3\n",
        "#         self.wd = self.optim_param['wd'] if 'wd' in self.optim_param else 1e-4\n",
        "\n",
        "#         optim_name = self.optim_param['optim']\n",
        "#         if optim_name == 'adam':\n",
        "#             optim = torch.optim.Adam(self.model.parameters(), lr=self.lr, weight_decay=self.wd)\n",
        "#         elif optim_name == 'adagrad':\n",
        "#             optim = torch.optim.Adagrad(self.model.parameters(), lr=self.lr, weight_decay=self.wd)\n",
        "#         else:\n",
        "#             raise ValueError('Optimizer not yet included')\n",
        "\n",
        "#         print(f'Built Optimizer  \\n'\n",
        "#               f'- name: {optim_name} \\n'\n",
        "#               f'- lr: {self.lr} \\n'\n",
        "#               f'- wd: {self.wd} \\n')\n",
        "\n",
        "#         return optim\n",
        "\n",
        "#     def run(self):\n",
        "#         \"\"\"\n",
        "#         Runs the Training procedure\n",
        "#         \"\"\"\n",
        "#         metrics_values = self.val()\n",
        "#         best_value = metrics_values[self.optimizing_metric]\n",
        "# #         tune.report(metrics_values)\n",
        "#         print('Init - Avg Val Value {:.3f} \\n'.format(best_value))\n",
        "\n",
        "#         patience = 0\n",
        "#         for epoch in range(self.n_epochs):\n",
        "\n",
        "#             if patience == self.max_patience:\n",
        "#                 print('Max Patience reached, stopping.')\n",
        "#                 break\n",
        "\n",
        "#             self.model.train()\n",
        "\n",
        "#             epoch_train_loss = 0\n",
        "\n",
        "#             for u_idxs, i_idxs, labels in self.train_loader:\n",
        "#                 # print(u_idxs.shape)\n",
        "#                 # print(i_idxs.shape)\n",
        "#                 # print(labels.shape)\n",
        "\n",
        "#                 u_idxs = u_idxs.to(self.device)\n",
        "#                 i_idxs = i_idxs.to(self.device)\n",
        "#                 labels = labels.to(self.device)\n",
        "\n",
        "#                 out = self.model(u_idxs, i_idxs)\n",
        "\n",
        "#                 loss = self.model.module.loss_func(out, labels)\n",
        "\n",
        "#                 epoch_train_loss += loss.item()\n",
        "\n",
        "#                 loss.backward()\n",
        "#                 self.optimizer.step()\n",
        "#                 self.optimizer.zero_grad()\n",
        "#                 if int(u_idxs[0]) % 1000 == 0:\n",
        "#                     print(str(int(u_idxs[0])) + '_users_past')\n",
        "#             epoch_train_loss /= len(self.train_loader)\n",
        "#             print(\"Epoch {} - Epoch Avg Train Loss {:.3f} \\n\".format(epoch, epoch_train_loss))\n",
        "\n",
        "#             metrics_values = self.val()\n",
        "#             curr_value = metrics_values[self.optimizing_metric]\n",
        "#             print('Epoch {} - Avg Val Value {:.3f} \\n'.format(epoch, curr_value))\n",
        "#             # tune.report({**metrics_values, 'epoch_train_loss': epoch_train_loss})\n",
        "\n",
        "#             if curr_value > best_value:\n",
        "#                 best_value = curr_value\n",
        "#                 print('Epoch {} - New best model found (val value {:.3f}) \\n'.format(epoch, curr_value))\n",
        "#                 torch.save(self.model.module.state_dict(), os.path.join(checkpoint_dir, 'best_model.pth'))\n",
        "#                 patience = 0\n",
        "#             else:\n",
        "#                 patience += 1\n",
        "\n",
        "#     @torch.no_grad()\n",
        "#     def val(self):\n",
        "#         \"\"\"\n",
        "#         Runs the evaluation procedure.\n",
        "#         :return: A scalar float value, output of the validation (e.g. NDCG@10).\n",
        "#         \"\"\"\n",
        "#         self.model.eval()\n",
        "#         print('Validation started')\n",
        "#         val_loss = 0\n",
        "#         eval = Evaluator(self.val_loader.dataset.n_users)\n",
        "\n",
        "#         for u_idxs, i_idxs, labels in self.val_loader:\n",
        "#             u_idxs = u_idxs.to(self.device)\n",
        "#             i_idxs = i_idxs.to(self.device)\n",
        "#             labels = labels.to(self.device)\n",
        "\n",
        "#             out = self.model(u_idxs, i_idxs)\n",
        "\n",
        "#             val_loss += self.model.module.loss_func(out, labels).item()\n",
        "\n",
        "#             out = nn.Sigmoid()(out)\n",
        "#             out = out.to('cpu')\n",
        "\n",
        "#             eval.eval_batch(out)\n",
        "#             if int(u_idxs[0]) % 1000 == 0:\n",
        "#                 print(str(int(u_idxs[0])) + '_users_past')\n",
        "#         val_loss /= len(self.val_loader)\n",
        "#         metrics_values = {**eval.get_results(), 'val_loss': val_loss}\n",
        "\n",
        "#         return metrics_values\n"
      ]
    },
    {
      "cell_type": "code",
      "execution_count": 14,
      "id": "ff1b2309",
      "metadata": {
        "id": "ff1b2309"
      },
      "outputs": [],
      "source": [
        "class ProtoRecDataset(data.Dataset):\n",
        "    \"\"\"\n",
        "    Dataset class to be used in ProtoRec. To use this class for any dataset, please refer to the splitter functions\n",
        "    (e.g. movielens_splitter.py)\n",
        "\n",
        "    This class implements some basic functionalities about negative sampling. The negative sampling for a specific user\n",
        "    is influenced by the split_set:\n",
        "        - split_set = train: The other training items are excluded from the sampling.\n",
        "        - split_set = val: The other validation items and training items are excluded from the sampling.\n",
        "        - split_set = test: The other test items and training items are excluded from the sampling.\n",
        "\n",
        "    About the data management and access:\n",
        "    To perform a fast iteration and sampling over the dataset, we use two sparse matrices (COO and CSR). The COO\n",
        "    is used for iteration over the training data while the CSR for fast negative sampling. We always load the train\n",
        "    CSR since it is used to exclude the training data from the negative sampling also for Validation and Testing.\n",
        "    NB. Depending on the split_set, the matrices may have different data. Train COO and Train CSR have always the\n",
        "    same data. However, Val CSR has Val + Train data (same applies for test). This is due to the negative sampling\n",
        "    in the csr matrix, for which we also exclude items from training (see below).\n",
        "    \"\"\"\n",
        "\n",
        "    def __init__(self, data_path: str, split_set: str, n_neg: int, neg_strategy: str = 'uniform'):\n",
        "        \"\"\"\n",
        "        :param data_path: path to the directory with the listening_history_*, item_ids, and user_ids files.\n",
        "        :param split_set: Value in [train, val, test].\n",
        "        :param n_neg: Number of negative samples.\n",
        "        :param neg_strategy: Strategy to select the negative samples.\n",
        "        \"\"\"\n",
        "        assert split_set in ['train', 'val', 'test'], f'<{split_set}> is not a valid value for split set!'\n",
        "\n",
        "        self.data_path = data_path\n",
        "        self.split_set = split_set\n",
        "        self.n_neg = n_neg\n",
        "        self.neg_strategy = neg_strategy\n",
        "\n",
        "        self.n_users = None\n",
        "        self.n_items = None\n",
        "\n",
        "        self.item_ids = None\n",
        "\n",
        "        self.coo_matrix = None\n",
        "        self.csr_matrix = None\n",
        "\n",
        "        self.pop_distribution = None\n",
        "\n",
        "        self.load_data()\n",
        "\n",
        "        print(f'Built ProtoRecDataset module \\n'\n",
        "              f'- data_path: {self.data_path} \\n'\n",
        "              f'- n_users: {self.n_users} \\n'\n",
        "              f'- n_items: {self.n_items} \\n'\n",
        "              f'- n_interactions: {self.coo_matrix.nnz} \\n'\n",
        "              f'- split_set: {self.split_set} \\n'\n",
        "              f'- n_neg: {self.n_neg} \\n'\n",
        "              f'- neg_strategy: {self.neg_strategy} \\n')\n",
        "\n",
        "    def load_data(self):\n",
        "        print('Loading data')\n",
        "\n",
        "        user_ids = pd.read_csv(os.path.join(self.data_path, 'user_ids.csv'))\n",
        "        item_ids = pd.read_csv(os.path.join(self.data_path, 'item_ids.csv'))\n",
        "\n",
        "        self.n_users = len(user_ids)\n",
        "        self.n_items = len(item_ids)\n",
        "\n",
        "        train_lhs = pd.read_csv(os.path.join(self.data_path, 'listening_history_train.csv'))\n",
        "\n",
        "        train_csr = sp.csr_matrix(\n",
        "            (np.ones(len(train_lhs), dtype=np.int16), (train_lhs.user_id, train_lhs.item_id)),\n",
        "            shape=(self.n_users, self.n_items))\n",
        "\n",
        "        # Computing the popularity distribution (see _neg_sample_popular)\n",
        "        item_popularity = np.array(train_csr.sum(axis=0)).flatten()\n",
        "        self.pop_distribution = item_popularity / item_popularity.sum()\n",
        "\n",
        "        if self.split_set == 'val':\n",
        "            val_lhs = pd.read_csv(os.path.join(self.data_path, 'listening_history_val.csv'))\n",
        "\n",
        "            val_csr = sp.csr_matrix(\n",
        "                (np.ones(len(val_lhs), dtype=np.int16), (val_lhs.user_id, val_lhs.item_id)),\n",
        "                shape=(self.n_users, self.n_items))\n",
        "\n",
        "            val_coo = sp.coo_matrix(val_csr)\n",
        "\n",
        "            self.coo_matrix = val_coo\n",
        "            self.csr_matrix = val_csr + train_csr\n",
        "\n",
        "        elif self.split_set == 'test':\n",
        "            test_lhs = pd.read_csv(os.path.join(self.data_path, 'listening_history_test.csv'))\n",
        "\n",
        "            test_csr = sp.csr_matrix(\n",
        "                (np.ones(len(test_lhs), dtype=np.int16), (test_lhs.user_id, test_lhs.item_id)),\n",
        "                shape=(self.n_users, self.n_items))\n",
        "\n",
        "            test_coo = sp.coo_matrix(test_csr)\n",
        "\n",
        "            self.coo_matrix = test_coo\n",
        "            self.csr_matrix = test_csr + train_csr\n",
        "\n",
        "        elif self.split_set == 'train':\n",
        "            train_coo = sp.coo_matrix(train_csr)\n",
        "\n",
        "            self.coo_matrix = train_coo\n",
        "            self.csr_matrix = train_csr\n",
        "\n",
        "    def _neg_sample_uniform(self, row_idx: int) -> np.array:\n",
        "        \"\"\"\n",
        "        For a specific user, it samples n_neg items u.a.r.\n",
        "        :param row_idx: user id (or row in the matrix)\n",
        "        :return: npy array containing the negatively sampled items.\n",
        "        \"\"\"\n",
        "\n",
        "        consumed_items = self.csr_matrix.indices[self.csr_matrix.indptr[row_idx]:self.csr_matrix.indptr[row_idx + 1]]\n",
        "\n",
        "        # Uniform distribution without items consumed by the user\n",
        "        p = np.ones(self.n_items)\n",
        "        p[consumed_items] = 0.  # Excluding consumed items\n",
        "        p = p / p.sum()\n",
        "\n",
        "        sampled = np.random.choice(np.arange(self.n_items), self.n_neg, replace=False, p=p)\n",
        "\n",
        "        return sampled\n",
        "\n",
        "    def _neg_sample_popular(self, row_idx: int) -> np.array:\n",
        "        \"\"\"\n",
        "        For a specific user, it samples n_neg items considering the frequency of appearance of items in the dataset, i.e.\n",
        "        p(i being neg) ∝ (pop_i)^0.75.\n",
        "        :param row_idx: user id (or row in the matrix)\n",
        "        :return: npy array containing the negatively sampled items.\n",
        "        \"\"\"\n",
        "        consumed_items = self.csr_matrix.indices[self.csr_matrix.indptr[row_idx]:self.csr_matrix.indptr[row_idx + 1]]\n",
        "\n",
        "        p = self.pop_distribution.copy()\n",
        "        p[consumed_items] = 0.  # Excluding consumed items\n",
        "        p = np.power(p, .75)  # Squashing factor alpha = .75\n",
        "        p = p / p.sum()\n",
        "\n",
        "        sampled = np.random.choice(np.arange(self.n_items), self.n_neg, replace=False, p=p)\n",
        "        return sampled\n",
        "\n",
        "    def __len__(self) -> int:\n",
        "        return self.coo_matrix.nnz\n",
        "\n",
        "    def __getitem__(self, index) -> T_co:\n",
        "        \"\"\"\n",
        "        Loads the (user,item) pair associated to the index and performs the negative sampling.\n",
        "        :param index: (user,item) index pair (as defined by the COO.data vector)\n",
        "        :return: (user_idx,item_idxs,labels) where\n",
        "            user_idx: is the index of the user\n",
        "            item_idxs: is a npy array containing the items indexes. The positive item is in the 1st position followed\n",
        "                        by the negative items indexes. Shape is (1 + n_neg,)\n",
        "            labels: npy array containing the labels. First position is 1, the others are 0. Shape is (1 + n_neg,).\n",
        "\n",
        "        \"\"\"\n",
        "\n",
        "        user_idx = self.coo_matrix.row[index].astype('int64')\n",
        "        item_idx_pos = self.coo_matrix.col[index]\n",
        "\n",
        "        # Select the correct negative sampling strategy\n",
        "        if self.neg_strategy == 'uniform':\n",
        "            neg_samples = self._neg_sample_uniform(user_idx)\n",
        "        elif self.neg_strategy == 'popular':\n",
        "            neg_samples = self._neg_sample_popular(user_idx)\n",
        "        else:\n",
        "            raise ValueError(f'Negative Sampling Strategy <{self.neg_strategy}> not implemented ... Yet')\n",
        "\n",
        "        item_idxs = np.concatenate(([item_idx_pos], neg_samples)).astype('int64')\n",
        "\n",
        "        labels = np.zeros(1 + self.n_neg, dtype='float32')\n",
        "        labels[0] = 1.\n",
        "\n",
        "        return user_idx, item_idxs, labels"
      ]
    },
    {
      "cell_type": "markdown",
      "source": [
        "#### Working with data. Download (not see)"
      ],
      "metadata": {
        "id": "nYyIcEKZpMs7"
      },
      "id": "nYyIcEKZpMs7"
    },
    {
      "cell_type": "code",
      "execution_count": 15,
      "id": "3b6bd828",
      "metadata": {
        "scrolled": true,
        "colab": {
          "base_uri": "https://localhost:8080/"
        },
        "id": "3b6bd828",
        "outputId": "098d9cdb-6b9f-4f48-f36e-2d8e6b1d4d68"
      },
      "outputs": [
        {
          "output_type": "stream",
          "name": "stdout",
          "text": [
            "Loading data\n",
            "Built ProtoRecDataset module \n",
            "- data_path: ./ProtoMF/data/full_train \n",
            "- n_users: 6028 \n",
            "- n_items: 3123 \n",
            "- n_interactions: 559852 \n",
            "- split_set: train \n",
            "- n_neg: 10 \n",
            "- neg_strategy: uniform \n",
            "\n"
          ]
        },
        {
          "output_type": "execute_result",
          "data": {
            "text/plain": [
              "(0,\n",
              " array([ 222, 1100, 1361, 2366, 2555, 3101,  966, 2325, 2246, 1017,  796]),\n",
              " array([1., 0., 0., 0., 0., 0., 0., 0., 0., 0., 0.], dtype=float32))"
            ]
          },
          "metadata": {},
          "execution_count": 15
        }
      ],
      "source": [
        "data_path = './ProtoMF/data/full_train' #Path(r\".\\ProtoMF\\data\\full_train\")\n",
        "\n",
        "dataset = 'ml'\n",
        "tst= ProtoRecDataset(data_path, 'train', 10, 'uniform')\n",
        "tst.__getitem__(0)\n",
        "tst2 = data.DataLoader(tst)\n",
        "tst2\n",
        "\n",
        "tst.__getitem__(3)"
      ]
    },
    {
      "cell_type": "code",
      "execution_count": 16,
      "id": "e93f4018",
      "metadata": {
        "id": "e93f4018"
      },
      "outputs": [],
      "source": [
        "def get_protorecdataset_dataloader(data_path: str, split_set: str, n_neg: int, neg_strategy='uniform',\n",
        "                                   **loader_params) -> data.DataLoader:\n",
        "    \"\"\"\n",
        "    Returns the dataloader for a ProtoRecDataset\n",
        "    :param data_path, ... ,neg_strategy: check ProtoRecDataset class for info about these parameters\n",
        "    :param loader_params: parameters for the Dataloader\n",
        "    :return:\n",
        "    \"\"\"\n",
        "    protorec_dataset = ProtoRecDataset(data_path, split_set, n_neg, neg_strategy)\n",
        "    return data.DataLoader(protorec_dataset, **loader_params)"
      ]
    },
    {
      "cell_type": "code",
      "execution_count": 17,
      "id": "56b296c5",
      "metadata": {
        "id": "56b296c5"
      },
      "outputs": [],
      "source": [
        "def load_data(conf, is_train: bool = True):\n",
        "    if is_train:\n",
        "        train_loader = get_protorecdataset_dataloader(\n",
        "        data_path= conf.data_path,\n",
        "        split_set='train',\n",
        "        n_neg=conf.neg_train,\n",
        "        neg_strategy=conf.train_neg_strategy,\n",
        "        batch_size=conf.train_batch_size,\n",
        "        shuffle=True,\n",
        "        num_workers=conf.NUM_WORKERS,\n",
        "        prefetch_factor=5\n",
        "    )\n",
        "\n",
        "        val_loader = get_protorecdataset_dataloader(\n",
        "            data_path=conf.data_path,\n",
        "            split_set='val',\n",
        "            n_neg=conf.neg_val,\n",
        "            neg_strategy=conf.eval_neg_strategy,\n",
        "            batch_size=conf.val_batch_size,\n",
        "            num_workers=conf.NUM_WORKERS\n",
        "        )\n",
        "\n",
        "        test_loader = get_protorecdataset_dataloader(\n",
        "            data_path=conf.data_path,\n",
        "            split_set='test',\n",
        "            n_neg=conf.neg_val,\n",
        "            neg_strategy=conf.eval_neg_strategy,\n",
        "            batch_size=conf.val_batch_size,\n",
        "            num_workers=conf.NUM_WORKERS\n",
        "        )\n",
        "\n",
        "        return {'train_loader': train_loader, 'val_loader': val_loader, 'test_loader': test_loader}\n",
        "    else:\n",
        "\n",
        "        test_loader = get_protorecdataset_dataloader(\n",
        "            data_path=conf.data_path,\n",
        "            split_set='test',\n",
        "            n_neg=conf.neg_val,\n",
        "            neg_strategy=conf.eval_neg_strategy,\n",
        "            batch_size=conf.val_batch_size,\n",
        "            num_workers=conf.NUM_WORKERS\n",
        "        )\n",
        "\n",
        "        return {'test_loader': test_loader}"
      ]
    },
    {
      "cell_type": "code",
      "execution_count": 18,
      "id": "4c4bfd87",
      "metadata": {
        "scrolled": true,
        "id": "4c4bfd87"
      },
      "outputs": [],
      "source": [
        "# data_loaders_dict = load_data(user_proto_chose_original_hyper_params)"
      ]
    },
    {
      "cell_type": "code",
      "execution_count": 19,
      "id": "8e6f023c",
      "metadata": {
        "scrolled": true,
        "colab": {
          "base_uri": "https://localhost:8080/"
        },
        "id": "8e6f023c",
        "outputId": "3150b040-5a20-4d06-a2ab-1fd76bcb9cc1"
      },
      "outputs": [
        {
          "output_type": "stream",
          "name": "stdout",
          "text": [
            "Loading data\n",
            "Built ProtoRecDataset module \n",
            "- data_path: ProtoMF/data/full_train \n",
            "- n_users: 6028 \n",
            "- n_items: 3123 \n",
            "- n_interactions: 559852 \n",
            "- split_set: train \n",
            "- n_neg: 99 \n",
            "- neg_strategy: uniform \n",
            "\n",
            "Loading data\n",
            "Built ProtoRecDataset module \n",
            "- data_path: ProtoMF/data/full_train \n",
            "- n_users: 6028 \n",
            "- n_items: 3123 \n",
            "- n_interactions: 13952 \n",
            "- split_set: val \n",
            "- n_neg: 99 \n",
            "- neg_strategy: uniform \n",
            "\n"
          ]
        }
      ],
      "source": [
        "train_loader = get_protorecdataset_dataloader(protomf_path / \"data/full_train\", 'train', 99, batch_size = 64)\n",
        "val_loader = get_protorecdataset_dataloader(protomf_path / \"data/full_train\", 'val', 99, batch_size = 64)"
      ]
    },
    {
      "cell_type": "markdown",
      "source": [
        "#### Trainer configs, initialise and build (not see)"
      ],
      "metadata": {
        "id": "s9YrJEzMpjlf"
      },
      "id": "s9YrJEzMpjlf"
    },
    {
      "cell_type": "code",
      "execution_count": 20,
      "id": "3f902bd0",
      "metadata": {
        "id": "3f902bd0"
      },
      "outputs": [],
      "source": [
        "# from omegaconf import OmegaConf\n",
        "\n",
        "# OmegaConf.create(proto_double_tie_chose_original_hyper_params)"
      ]
    },
    {
      "cell_type": "code",
      "execution_count": 21,
      "id": "2b3c4c1c",
      "metadata": {
        "id": "2b3c4c1c"
      },
      "outputs": [],
      "source": [
        "base_param = {\n",
        "    'device': 'cuda' if torch.cuda.is_available() else 'cpu',\n",
        "    'n_epochs': 10,\n",
        "    'eval_neg_strategy': 'uniform',\n",
        "    'val_batch_size': 64,\n",
        "    'train_batch_size': 64,\n",
        "    'data_path': protomf_path / \"data/ml\",\n",
        "    'NUM_WORKERS': 1,\n",
        "    'rec_sys_param': {'use_bias': 0},\n",
        "}\n",
        "\n",
        "base_hyper_params = {\n",
        "    **base_param,\n",
        "    'neg_train': 99,\n",
        "    'neg_val': 99,\n",
        "    'train_neg_strategy': 'uniform',#tune.choice(['popular', 'uniform']),\n",
        "    'loss_func_name': 'sampled_softmax', # tune.choice(['bce', 'bpr', 'sampled_softmax']),\n",
        "    'batch_size': 64,\n",
        "    'optim_param': {\n",
        "        'optim': 'adagrad',\n",
        "        'wd': 1e-4,\n",
        "        'lr': 1e-3\n",
        "    },\n",
        "}\n",
        "\n",
        "proto_double_tie_optimal_params = {\n",
        "    'loss_func_aggr': 'mean',\n",
        "    'ft_ext_param': {\n",
        "        \"ft_type\": \"prototypes_double_tie\",\n",
        "        'embedding_dim': 300, #tune.randint(10, 100),\n",
        "        'item_ft_ext_param': {\n",
        "            \"ft_type\": \"prototypes_double_tie\",\n",
        "            'sim_proto_weight': 1e-3,#tune.loguniform(1e-3, 10),\n",
        "            'sim_batch_weight': 1e-3,#tune.loguniform(1e-3, 10),\n",
        "            'use_weight_matrix': False,\n",
        "            'n_prototypes': 80, #tune.randint(10, 100),\n",
        "            'cosine_type': 'shifted',\n",
        "            'reg_proto_type': 'max',\n",
        "            'reg_batch_type': 'max'\n",
        "        },\n",
        "        'user_ft_ext_param': {\n",
        "            \"ft_type\": \"prototypes_double_tie\",\n",
        "            'sim_proto_weight': 1e-3,#tune.loguniform(1e-3, 10),\n",
        "            'sim_batch_weight': 1e-3, #tune.loguniform(1e-3, 10),\n",
        "            'use_weight_matrix': False,\n",
        "            'n_prototypes': 80, #tune.randint(10, 100),\n",
        "            'cosine_type': 'shifted',\n",
        "            'reg_proto_type': 'max',\n",
        "            'reg_batch_type': 'max'\n",
        "        },\n",
        "    },\n",
        "    \"checkpoint_dir\": 'experiments/full_train',\n",
        "    **base_hyper_params,\n",
        "}\n",
        "\n",
        "from omegaconf import OmegaConf\n",
        "# proto_double_tie_chose_original_hyper_params = argparse.Namespace(**proto_double_tie_chose_original_hyper_params)\n",
        "# proto_double_tie_chose_original_hyper_params = OmegaConf.create(proto_double_tie_chose_original_hyper_params)"
      ]
    },
    {
      "cell_type": "code",
      "execution_count": 22,
      "id": "aa1b5e4b",
      "metadata": {
        "id": "aa1b5e4b"
      },
      "outputs": [],
      "source": [
        "base_param = {\n",
        "    'device': 'cuda',\n",
        "    'n_epochs': 10,\n",
        "    'eval_neg_strategy': 'uniform',\n",
        "    'val_batch_size': 64,\n",
        "    'train_batch_size': 64,\n",
        "    'data_path': protomf_path / \"data/ml\",\n",
        "    'NUM_WORKERS': 1,\n",
        "    'rec_sys_param': {'use_bias': 0},\n",
        "}\n",
        "\n",
        "base_hyper_params = {\n",
        "    **base_param,\n",
        "    'neg_train': 99,\n",
        "    'neg_val': 99,\n",
        "    'train_neg_strategy': 'uniform',#tune.choice(['popular', 'uniform']),\n",
        "    'loss_func_name': 'sampled_softmax', # tune.choice(['bce', 'bpr', 'sampled_softmax']),\n",
        "    'batch_size': 64,\n",
        "    'optim_param': {\n",
        "        'optim': 'adagrad',\n",
        "        'wd': 1e-4,\n",
        "        'lr': 1e-3\n",
        "    },\n",
        "}\n",
        "\n",
        "proto_double_tie_optimal_params = {\n",
        "    'loss_func_aggr': 'mean',\n",
        "    'ft_ext_param': {\n",
        "        \"ft_type\": \"prototypes_double_tie\",\n",
        "        'embedding_dim': 300, #tune.randint(10, 100),\n",
        "        'item_ft_ext_param': {\n",
        "            \"ft_type\": \"prototypes_double_tie\",\n",
        "            'sim_proto_weight': 1e-3,#tune.loguniform(1e-3, 10),\n",
        "            'sim_batch_weight': 1e-3,#tune.loguniform(1e-3, 10),\n",
        "            'use_weight_matrix': False,\n",
        "            'n_prototypes': 80, #tune.randint(10, 100),\n",
        "            'cosine_type': 'shifted',\n",
        "            'reg_proto_type': 'max',\n",
        "            'reg_batch_type': 'max'\n",
        "        },\n",
        "        'user_ft_ext_param': {\n",
        "            \"ft_type\": \"prototypes_double_tie\",\n",
        "            'sim_proto_weight': 1e-3,#tune.loguniform(1e-3, 10),\n",
        "            'sim_batch_weight': 1e-3, #tune.loguniform(1e-3, 10),\n",
        "            'use_weight_matrix': False,\n",
        "            'n_prototypes': 80, #tune.randint(10, 100),\n",
        "            'cosine_type': 'shifted',\n",
        "            'reg_proto_type': 'max',\n",
        "            'reg_batch_type': 'max'\n",
        "        },\n",
        "    },\n",
        "    \"checkpoint_dir\": 'experiments/full_train',\n",
        "    **base_hyper_params,\n",
        "}\n",
        "\n",
        "from omegaconf import OmegaConf\n",
        "# proto_double_tie_chose_original_hyper_params = argparse.Namespace(**proto_double_tie_chose_original_hyper_params)\n",
        "# proto_double_tie_chose_original_hyper_params = OmegaConf.create(proto_double_tie_chose_original_hyper_params)"
      ]
    },
    {
      "cell_type": "code",
      "execution_count": 23,
      "id": "ab7f1df3",
      "metadata": {
        "scrolled": true,
        "colab": {
          "base_uri": "https://localhost:8080/"
        },
        "id": "ab7f1df3",
        "outputId": "e87dacbe-4385-4741-ea43-6ae4a193e712"
      },
      "outputs": [
        {
          "output_type": "stream",
          "name": "stdout",
          "text": [
            "--- Building FeatureExtractor model ---\n",
            "Built Embedding model \n",
            "- n_objects: 6028 \n",
            "- embedding_dim: 300 \n",
            "- max_norm: None\n",
            "- only_positive: False\n",
            "Built PrototypeEmbedding model \n",
            "- n_prototypes: 80 \n",
            "- use_weight_matrix: False \n",
            "- sim_proto_weight: 0.001 \n",
            "- sim_batch_weight: 0.001 \n",
            "- reg_proto_type: max \n",
            "- reg_batch_type: max \n",
            "- cosine_type: shifted \n",
            "\n",
            "--- Finished building FeatureExtractor model ---\n",
            "\n",
            "--- Building FeatureExtractor model ---\n",
            "Built Embedding model \n",
            "- n_objects: 6028 \n",
            "- embedding_dim: 300 \n",
            "- max_norm: None\n",
            "- only_positive: False\n",
            "Built Embeddingw model \n",
            "- out_dimension: 80 \n",
            "- use_bias: False \n",
            "\n",
            "--- Finished building FeatureExtractor model ---\n",
            "\n",
            "--- Building FeatureExtractor model ---\n",
            "Built Embedding model \n",
            "- n_objects: 3123 \n",
            "- embedding_dim: 300 \n",
            "- max_norm: None\n",
            "- only_positive: False\n",
            "Built PrototypeEmbedding model \n",
            "- n_prototypes: 80 \n",
            "- use_weight_matrix: False \n",
            "- sim_proto_weight: 0.001 \n",
            "- sim_batch_weight: 0.001 \n",
            "- reg_proto_type: max \n",
            "- reg_batch_type: max \n",
            "- cosine_type: shifted \n",
            "\n",
            "--- Finished building FeatureExtractor model ---\n",
            "\n",
            "--- Building FeatureExtractor model ---\n",
            "Built Embedding model \n",
            "- n_objects: 3123 \n",
            "- embedding_dim: 300 \n",
            "- max_norm: None\n",
            "- only_positive: False\n",
            "Built Embeddingw model \n",
            "- out_dimension: 80 \n",
            "- use_bias: False \n",
            "\n",
            "--- Finished building FeatureExtractor model ---\n",
            "\n",
            "Built ConcatenateFeatureExtractors model \n",
            "- model_1: PrototypeEmbedding \n",
            "- model_2: EmbeddingW \n",
            "- invert: False \n",
            "\n",
            "Built ConcatenateFeatureExtractors model \n",
            "- model_1: PrototypeEmbedding \n",
            "- model_2: EmbeddingW \n",
            "- invert: True \n",
            "\n",
            "Built RecSys module \n",
            "- n_users: 6028 \n",
            "- n_items: 3123 \n",
            "- user_feature_extractor: ConcatenateFeatureExtractors \n",
            "- item_feature_extractor: ConcatenateFeatureExtractors \n",
            "- loss_func_name: sampled_softmax \n",
            "- use_bias: False \n",
            "\n",
            "Built Optimizer  \n",
            "- name: adagrad \n",
            "- lr: 0.001 \n",
            "- wd: 0.0001 \n",
            "\n",
            "Built Trainer module \n",
            "- n_epochs: 10 \n",
            "- loss_func_name: sampled_softmax \n",
            "- loss_func_aggr: mean \n",
            "- device: cuda \n",
            "- optimizing_metric: hit_ratio@10 \n",
            " - checkpoint_dir: experiments/full_train/12252023.153440 \n",
            "\n"
          ]
        }
      ],
      "source": [
        "proto_double_tie_optimal_params = argparse.Namespace(**proto_double_tie_optimal_params)\n",
        "\n",
        "trainer = Trainer(train_loader, val_loader, proto_double_tie_optimal_params)"
      ]
    },
    {
      "cell_type": "code",
      "execution_count": 24,
      "id": "cdc72c5c",
      "metadata": {
        "scrolled": true,
        "id": "cdc72c5c",
        "colab": {
          "base_uri": "https://localhost:8080/"
        },
        "outputId": "c399487b-929e-4cce-8de9-b2d0d54aa9a0"
      },
      "outputs": [
        {
          "output_type": "stream",
          "name": "stdout",
          "text": [
            "--- Building FeatureExtractor model ---\n",
            "Built Embedding model \n",
            "- n_objects: 6028 \n",
            "- embedding_dim: 300 \n",
            "- max_norm: None\n",
            "- only_positive: False\n",
            "Built PrototypeEmbedding model \n",
            "- n_prototypes: 80 \n",
            "- use_weight_matrix: False \n",
            "- sim_proto_weight: 0.001 \n",
            "- sim_batch_weight: 0.001 \n",
            "- reg_proto_type: max \n",
            "- reg_batch_type: max \n",
            "- cosine_type: shifted \n",
            "\n",
            "--- Finished building FeatureExtractor model ---\n",
            "\n",
            "--- Building FeatureExtractor model ---\n",
            "Built Embedding model \n",
            "- n_objects: 6028 \n",
            "- embedding_dim: 300 \n",
            "- max_norm: None\n",
            "- only_positive: False\n",
            "Built Embeddingw model \n",
            "- out_dimension: 80 \n",
            "- use_bias: False \n",
            "\n",
            "--- Finished building FeatureExtractor model ---\n",
            "\n",
            "--- Building FeatureExtractor model ---\n",
            "Built Embedding model \n",
            "- n_objects: 3123 \n",
            "- embedding_dim: 300 \n",
            "- max_norm: None\n",
            "- only_positive: False\n",
            "Built PrototypeEmbedding model \n",
            "- n_prototypes: 80 \n",
            "- use_weight_matrix: False \n",
            "- sim_proto_weight: 0.001 \n",
            "- sim_batch_weight: 0.001 \n",
            "- reg_proto_type: max \n",
            "- reg_batch_type: max \n",
            "- cosine_type: shifted \n",
            "\n",
            "--- Finished building FeatureExtractor model ---\n",
            "\n",
            "--- Building FeatureExtractor model ---\n",
            "Built Embedding model \n",
            "- n_objects: 3123 \n",
            "- embedding_dim: 300 \n",
            "- max_norm: None\n",
            "- only_positive: False\n",
            "Built Embeddingw model \n",
            "- out_dimension: 80 \n",
            "- use_bias: False \n",
            "\n",
            "--- Finished building FeatureExtractor model ---\n",
            "\n",
            "Built ConcatenateFeatureExtractors model \n",
            "- model_1: PrototypeEmbedding \n",
            "- model_2: EmbeddingW \n",
            "- invert: False \n",
            "\n",
            "Built ConcatenateFeatureExtractors model \n",
            "- model_1: PrototypeEmbedding \n",
            "- model_2: EmbeddingW \n",
            "- invert: True \n",
            "\n",
            "Built RecSys module \n",
            "- n_users: 6028 \n",
            "- n_items: 3123 \n",
            "- user_feature_extractor: ConcatenateFeatureExtractors \n",
            "- item_feature_extractor: ConcatenateFeatureExtractors \n",
            "- loss_func_name: sampled_softmax \n",
            "- use_bias: False \n",
            "\n",
            "Built Optimizer  \n",
            "- name: adagrad \n",
            "- lr: 0.001 \n",
            "- wd: 0.0001 \n",
            "\n"
          ]
        },
        {
          "output_type": "execute_result",
          "data": {
            "text/plain": [
              "Adagrad (\n",
              "Parameter Group 0\n",
              "    differentiable: False\n",
              "    eps: 1e-10\n",
              "    foreach: None\n",
              "    initial_accumulator_value: 0\n",
              "    lr: 0.001\n",
              "    lr_decay: 0\n",
              "    maximize: False\n",
              "    weight_decay: 0.0001\n",
              ")"
            ]
          },
          "metadata": {},
          "execution_count": 24
        }
      ],
      "source": [
        "trainer._build_model()\n",
        "trainer._build_optimizer()"
      ]
    },
    {
      "cell_type": "code",
      "execution_count": 25,
      "id": "c94980b8",
      "metadata": {
        "scrolled": true,
        "id": "c94980b8"
      },
      "outputs": [],
      "source": [
        "#trainer.run()"
      ]
    },
    {
      "cell_type": "markdown",
      "source": [
        "#### Best model (not see)\n",
        "\n"
      ],
      "metadata": {
        "id": "7WcdJFQlpo9B"
      },
      "id": "7WcdJFQlpo9B"
    },
    {
      "cell_type": "code",
      "execution_count": 26,
      "id": "9fc0875e",
      "metadata": {
        "id": "9fc0875e"
      },
      "outputs": [],
      "source": [
        "#from natsort import natsorted\n",
        "#path2last_ckpts = os.path.join(\n",
        "#    proto_double_tie_optimal_params.checkpoint_dir,\n",
        "#    natsorted(os.listdir(proto_double_tie_optimal_params.checkpoint_dir))[-1]\n",
        "#)\n",
        "#best_cktp =os.path.join(path2last_ckpts, natsorted(os.listdir(path2last_ckpts))[-1])\n",
        "#print(\"Best checkpoint: \", best_cktp)"
      ]
    },
    {
      "cell_type": "code",
      "source": [
        "from natsort import natsorted\n",
        "path2last_ckpts = os.path.join(\n",
        "    proto_double_tie_optimal_params.checkpoint_dir,\n",
        "    natsorted(os.listdir(proto_double_tie_optimal_params.checkpoint_dir))[0]\n",
        ")\n",
        "best_cktp =os.path.join(path2last_ckpts, natsorted(os.listdir(path2last_ckpts))[-1])\n",
        "print(\"Best checkpoint: \", best_cktp)\n",
        "#Best checkpoint:  experiments/full_train/12242023.150630/best_model_10.pth"
      ],
      "metadata": {
        "colab": {
          "base_uri": "https://localhost:8080/"
        },
        "id": "4UXdK6FQrRC6",
        "outputId": "7d1ee7ce-6fc9-4a46-bf01-eb990c1d948e"
      },
      "id": "4UXdK6FQrRC6",
      "execution_count": 27,
      "outputs": [
        {
          "output_type": "stream",
          "name": "stdout",
          "text": [
            "Best checkpoint:  experiments/full_train/12242023.150630/best_model_10.pth\n"
          ]
        }
      ]
    },
    {
      "cell_type": "code",
      "execution_count": 28,
      "id": "7e9e85ec",
      "metadata": {
        "id": "7e9e85ec"
      },
      "outputs": [],
      "source": [
        "def build_model(trainer):\n",
        "        n_users = trainer.train_loader.dataset.n_users\n",
        "        n_items = trainer.train_loader.dataset.n_items\n",
        "        user_feature_extractor, item_feature_extractor = \\\n",
        "            FeatureExtractorFactory.create_models(trainer.ft_ext_param, n_users, n_items)\n",
        "        # Step 2 --- Building RecSys Module\n",
        "        rec_sys = RecSys(n_users, n_items, trainer.rec_sys_param, user_feature_extractor, item_feature_extractor,\n",
        "                         trainer.loss_func_name, trainer.loss_func_aggr)\n",
        "\n",
        "        rec_sys.init_parameters()\n",
        "\n",
        "        rec_sys = nn.DataParallel(rec_sys)\n",
        "\n",
        "        return rec_sys"
      ]
    },
    {
      "cell_type": "code",
      "execution_count": 29,
      "id": "c0f19bb0",
      "metadata": {
        "id": "c0f19bb0"
      },
      "outputs": [],
      "source": [
        "#for key, _ in model_up.named_parameters():\n",
        "#    print(key)"
      ]
    },
    {
      "cell_type": "code",
      "execution_count": 30,
      "id": "96be64cd",
      "metadata": {
        "colab": {
          "base_uri": "https://localhost:8080/"
        },
        "id": "96be64cd",
        "outputId": "36f8e8ff-1bb5-4833-e29b-80a3403b6715"
      },
      "outputs": [
        {
          "output_type": "stream",
          "name": "stdout",
          "text": [
            "--- Building FeatureExtractor model ---\n",
            "Built Embedding model \n",
            "- n_objects: 6028 \n",
            "- embedding_dim: 300 \n",
            "- max_norm: None\n",
            "- only_positive: False\n",
            "Built PrototypeEmbedding model \n",
            "- n_prototypes: 80 \n",
            "- use_weight_matrix: False \n",
            "- sim_proto_weight: 0.001 \n",
            "- sim_batch_weight: 0.001 \n",
            "- reg_proto_type: max \n",
            "- reg_batch_type: max \n",
            "- cosine_type: shifted \n",
            "\n",
            "--- Finished building FeatureExtractor model ---\n",
            "\n",
            "--- Building FeatureExtractor model ---\n",
            "Built Embedding model \n",
            "- n_objects: 6028 \n",
            "- embedding_dim: 300 \n",
            "- max_norm: None\n",
            "- only_positive: False\n",
            "Built Embeddingw model \n",
            "- out_dimension: 80 \n",
            "- use_bias: False \n",
            "\n",
            "--- Finished building FeatureExtractor model ---\n",
            "\n",
            "--- Building FeatureExtractor model ---\n",
            "Built Embedding model \n",
            "- n_objects: 3123 \n",
            "- embedding_dim: 300 \n",
            "- max_norm: None\n",
            "- only_positive: False\n",
            "Built PrototypeEmbedding model \n",
            "- n_prototypes: 80 \n",
            "- use_weight_matrix: False \n",
            "- sim_proto_weight: 0.001 \n",
            "- sim_batch_weight: 0.001 \n",
            "- reg_proto_type: max \n",
            "- reg_batch_type: max \n",
            "- cosine_type: shifted \n",
            "\n",
            "--- Finished building FeatureExtractor model ---\n",
            "\n",
            "--- Building FeatureExtractor model ---\n",
            "Built Embedding model \n",
            "- n_objects: 3123 \n",
            "- embedding_dim: 300 \n",
            "- max_norm: None\n",
            "- only_positive: False\n",
            "Built Embeddingw model \n",
            "- out_dimension: 80 \n",
            "- use_bias: False \n",
            "\n",
            "--- Finished building FeatureExtractor model ---\n",
            "\n",
            "Built ConcatenateFeatureExtractors model \n",
            "- model_1: PrototypeEmbedding \n",
            "- model_2: EmbeddingW \n",
            "- invert: False \n",
            "\n",
            "Built ConcatenateFeatureExtractors model \n",
            "- model_1: PrototypeEmbedding \n",
            "- model_2: EmbeddingW \n",
            "- invert: True \n",
            "\n",
            "Built RecSys module \n",
            "- n_users: 6028 \n",
            "- n_items: 3123 \n",
            "- user_feature_extractor: ConcatenateFeatureExtractors \n",
            "- item_feature_extractor: ConcatenateFeatureExtractors \n",
            "- loss_func_name: sampled_softmax \n",
            "- use_bias: False \n",
            "\n"
          ]
        },
        {
          "output_type": "execute_result",
          "data": {
            "text/plain": [
              "<All keys matched successfully>"
            ]
          },
          "metadata": {},
          "execution_count": 30
        }
      ],
      "source": [
        "model_up = trainer._build_model()\n",
        "\n",
        "#state_dict = torch.load(r'experiments\\12242023.055103\\best_model_9.pth')\n",
        "state_dict = torch.load(best_cktp)\n",
        "model_up.state_dict().keys()\n",
        "new_s = {}\n",
        "for key, value in state_dict.items():\n",
        "    new_s[\"module.\" + key] = value\n",
        "\n",
        "model_state_dict = model_up.state_dict()\n",
        "\n",
        "assert set(list(model_state_dict.keys())) - set(list(new_s.keys())) == set()\n",
        "model_up.eval()\n",
        "model_up.load_state_dict(new_s)\n"
      ]
    },
    {
      "cell_type": "code",
      "execution_count": 31,
      "id": "608d4f75",
      "metadata": {
        "id": "608d4f75"
      },
      "outputs": [],
      "source": [
        "# model_up = torch.load(checkpoint_dir + '/best_model_10.pth')\n",
        "model_up2 = torch.load(best_cktp)"
      ]
    },
    {
      "cell_type": "code",
      "execution_count": 32,
      "id": "e8ce5c7e",
      "metadata": {
        "colab": {
          "base_uri": "https://localhost:8080/"
        },
        "id": "e8ce5c7e",
        "outputId": "1e1a5e92-9432-418b-b1b8-f6fb4a5ba4bb"
      },
      "outputs": [
        {
          "output_type": "execute_result",
          "data": {
            "text/plain": [
              "torch.Size([80, 300])"
            ]
          },
          "metadata": {},
          "execution_count": 32
        }
      ],
      "source": [
        "model_up2['user_feature_extractor.model_2.linear_layer.weight'].shape"
      ]
    },
    {
      "cell_type": "code",
      "execution_count": 33,
      "id": "1debe6cd",
      "metadata": {
        "id": "1debe6cd"
      },
      "outputs": [],
      "source": [
        "items_feats = np.array(model_up2['item_feature_extractor.model_2.embedding_layer.weight'].to('cpu'))\n",
        "user_feats = np.array(model_up2['user_feature_extractor.model_2.embedding_layer.weight'].to('cpu'))\n",
        "\n",
        "user_protos = np.array(model_up2['user_feature_extractor.model_1.prototypes'].to('cpu'))\n",
        "user_embeds = np.array(model_up2['user_feature_extractor.model_1.embedding_ext.embedding_layer.weight'].to('cpu'))\n",
        "item_protos = np.array(model_up2['item_feature_extractor.model_1.prototypes'].to('cpu'))\n",
        "item_embeds = np.array(model_up2['item_feature_extractor.model_1.embedding_ext.embedding_layer.weight'].to('cpu'))"
      ]
    },
    {
      "cell_type": "code",
      "execution_count": 34,
      "id": "c632aef1",
      "metadata": {
        "id": "c632aef1"
      },
      "outputs": [],
      "source": [
        "test_df = pd.read_csv(Path(\"./ProtoMF/data/full_train/listening_history_test.csv\"))\n",
        "test_users  = sorted(test_df.user_id.unique())"
      ]
    },
    {
      "cell_type": "code",
      "execution_count": 35,
      "id": "ac613a1c",
      "metadata": {
        "id": "ac613a1c"
      },
      "outputs": [],
      "source": [
        "total_items = pd.read_csv(Path(\"./ProtoMF/data/full_train/item_ids.csv\")).shape[0]"
      ]
    },
    {
      "cell_type": "code",
      "execution_count": 36,
      "id": "eb26e9aa",
      "metadata": {
        "colab": {
          "base_uri": "https://localhost:8080/"
        },
        "id": "eb26e9aa",
        "outputId": "48de83dd-9a10-48ad-875b-17a834e0e126"
      },
      "outputs": [
        {
          "output_type": "execute_result",
          "data": {
            "text/plain": [
              "(torch.Size([1, 1]), torch.Size([1, 3123]))"
            ]
          },
          "metadata": {},
          "execution_count": 36
        }
      ],
      "source": [
        "torch.tensor([[35]]).shape, torch.arange(total_items).unsqueeze(0).shape"
      ]
    },
    {
      "cell_type": "code",
      "execution_count": 37,
      "id": "4c7c1767",
      "metadata": {
        "colab": {
          "base_uri": "https://localhost:8080/"
        },
        "id": "4c7c1767",
        "outputId": "95c56db7-af4b-43ae-f0d5-8732591c99ba"
      },
      "outputs": [
        {
          "output_type": "stream",
          "name": "stdout",
          "text": [
            "cuda:0\n",
            "cuda:0\n",
            "cuda:0\n",
            "cuda:0\n",
            "cuda:0\n",
            "cuda:0\n"
          ]
        }
      ],
      "source": [
        "#model_up = model_up.cpu()\n",
        "for param in model_up.parameters():\n",
        "    print(param.device)"
      ]
    },
    {
      "cell_type": "code",
      "source": [
        "torch.as_tensor(test_users).cuda()"
      ],
      "metadata": {
        "colab": {
          "base_uri": "https://localhost:8080/"
        },
        "id": "ZkkLoVL1xv4s",
        "outputId": "f2e87139-be62-4e21-dc7a-b997f481a9b0"
      },
      "id": "ZkkLoVL1xv4s",
      "execution_count": 38,
      "outputs": [
        {
          "output_type": "execute_result",
          "data": {
            "text/plain": [
              "tensor([  35,   58,   64,  101,  103,  126,  130,  133,  145,  148,  149,  156,\n",
              "         159,  163,  168,  172,  182,  183,  187,  191,  192,  194,  200,  228,\n",
              "         230,  234,  236,  238,  270,  284,  292,  301,  305,  309,  313,  318,\n",
              "         328,  337,  342,  349,  353,  396,  401,  406,  409,  410,  417,  420,\n",
              "         422,  436,  440,  452,  460,  480,  494,  516,  526,  529,  547,  621,\n",
              "         622,  631,  639,  646,  665,  676,  689,  690,  694,  696,  708,  725,\n",
              "         734,  735,  741,  747,  750,  751,  765,  789,  793,  827,  837,  838,\n",
              "         844,  870,  879,  882,  909,  911,  928,  935,  951, 1008, 1013, 1017,\n",
              "        1018, 1049, 1059, 1061, 1065, 1086, 1099, 1111, 1115, 1118, 1119, 1123,\n",
              "        1139, 1140, 1147, 1161, 1162, 1178, 1179, 1183, 1191, 1199, 1200, 1208,\n",
              "        1216, 1240, 1243, 1249, 1253, 1257, 1262, 1270, 1274, 1287, 1297, 1299,\n",
              "        1302, 1313, 1325, 1336, 1344, 1348, 1351, 1365, 1385, 1386, 1391, 1395,\n",
              "        1409, 1411, 1417, 1418, 1421, 1422, 1443, 1447, 1487, 1496, 1501, 1520,\n",
              "        1526, 1542, 1543, 1547, 1552, 1556, 1557, 1575, 1583, 1589, 1593, 1595,\n",
              "        1601, 1607, 1620, 1639, 1641, 1643, 1651, 1667, 1694, 1706, 1708, 1713,\n",
              "        1729, 1735, 1744, 1751, 1772, 1774, 1776, 1808, 1830, 1833, 1847, 1850,\n",
              "        1861, 1893, 1908, 1921, 1937, 1939, 1942, 1950, 1954, 1965, 1974, 1976,\n",
              "        1978, 1994, 2008, 2011, 2014, 2018, 2019, 2027, 2037, 2043, 2056, 2059,\n",
              "        2067, 2072, 2073, 2088, 2102, 2107, 2110, 2115, 2118, 2149, 2164, 2168,\n",
              "        2172, 2184, 2186, 2191, 2206, 2221, 2228, 2235, 2238, 2242, 2243, 2266,\n",
              "        2267, 2268, 2312, 2338, 2349, 2355, 2358, 2372, 2376, 2386, 2391, 2403,\n",
              "        2432, 2447, 2449, 2458, 2481, 2485, 2500, 2540, 2590, 2617, 2623, 2637,\n",
              "        2639, 2644, 2651, 2684, 2752, 2756, 2762, 2775, 2777, 2792, 2798, 2806,\n",
              "        2810, 2816, 2820, 2828, 2837, 2843, 2855, 2856, 2864, 2868, 2874, 2883,\n",
              "        2892, 2894, 2899, 2901, 2913, 2939, 2958, 2963, 2979, 2996, 3005, 3006,\n",
              "        3007, 3008, 3011, 3014, 3023, 3032, 3035, 3045, 3047, 3048, 3049, 3074,\n",
              "        3081, 3087, 3100, 3107, 3119, 3122, 3134, 3140, 3144, 3146, 3152, 3153,\n",
              "        3166, 3176, 3197, 3213, 3218, 3223, 3253, 3254, 3256, 3279, 3295, 3306,\n",
              "        3326, 3353, 3357, 3362, 3365, 3385, 3404, 3405, 3406, 3407, 3417, 3427,\n",
              "        3430, 3446, 3448, 3456, 3465, 3467, 3469, 3477, 3497, 3498, 3503, 3506,\n",
              "        3512, 3513, 3514, 3525, 3544, 3556, 3583, 3584, 3586, 3613, 3619, 3641,\n",
              "        3645, 3674, 3681, 3684, 3686, 3688, 3694, 3710, 3725, 3739, 3766, 3785,\n",
              "        3800, 3814, 3817, 3825, 3827, 3833, 3835, 3859, 3933, 3946, 3956, 3963,\n",
              "        3964, 3975, 3978, 3985, 3988, 3998, 4035, 4051, 4078, 4082, 4110, 4119,\n",
              "        4162, 4179, 4225, 4251, 4270, 4287, 4294, 4297, 4302, 4304, 4320, 4347,\n",
              "        4375, 4378, 4409, 4423, 4439, 4454, 4467, 4468, 4478, 4506, 4509, 4532,\n",
              "        4545, 4568, 4571, 4580, 4589, 4596, 4613, 4623, 4626, 4627, 4628, 4635,\n",
              "        4644, 4685, 4716, 4732, 4736, 4751, 4753, 4759, 4762, 4773, 4779, 4790,\n",
              "        4801, 4804, 4811, 4817, 4819, 4822, 4830, 4849, 4855, 4856, 4921, 4922,\n",
              "        4928, 4938, 4946, 4948, 4989, 4999, 5007, 5034, 5037, 5042, 5051, 5075,\n",
              "        5078, 5085, 5088, 5120, 5144, 5160, 5169, 5186, 5193, 5210, 5230, 5238,\n",
              "        5253, 5265, 5269, 5288, 5290, 5300, 5307, 5310, 5317, 5319, 5321, 5343,\n",
              "        5347, 5370, 5375, 5382, 5385, 5400, 5401, 5412, 5425, 5436, 5438, 5441,\n",
              "        5446, 5458, 5461, 5472, 5476, 5508, 5527, 5531, 5545, 5568, 5586, 5609,\n",
              "        5618, 5623, 5624, 5638, 5642, 5645, 5670, 5677, 5711, 5721, 5775, 5800,\n",
              "        5813, 5819, 5825, 5829, 5859, 5861, 5865, 5879, 5910, 5935, 5936, 5937,\n",
              "        5943, 5978, 5983, 5989], device='cuda:0')"
            ]
          },
          "metadata": {},
          "execution_count": 38
        }
      ]
    },
    {
      "cell_type": "code",
      "source": [
        "torch.arange(total_items).unsqueeze(0)"
      ],
      "metadata": {
        "colab": {
          "base_uri": "https://localhost:8080/"
        },
        "id": "cTaNHorHx1jc",
        "outputId": "b377a846-d01e-4742-e65c-cb47bc89ba96"
      },
      "id": "cTaNHorHx1jc",
      "execution_count": 39,
      "outputs": [
        {
          "output_type": "execute_result",
          "data": {
            "text/plain": [
              "tensor([[   0,    1,    2,  ..., 3120, 3121, 3122]])"
            ]
          },
          "metadata": {},
          "execution_count": 39
        }
      ]
    },
    {
      "cell_type": "code",
      "execution_count": 40,
      "id": "cb2d33ec",
      "metadata": {
        "id": "cb2d33ec"
      },
      "outputs": [],
      "source": [
        "test_scores = model_up(torch.as_tensor(test_users).cuda(), torch.arange(total_items).unsqueeze(0).cuda())"
      ]
    },
    {
      "cell_type": "code",
      "source": [
        "torch.arange(total_items).unsqueeze(0).cuda()"
      ],
      "metadata": {
        "colab": {
          "base_uri": "https://localhost:8080/"
        },
        "id": "5GWNZRRMf_9E",
        "outputId": "082059a1-4c5e-4af6-95ee-89a13109cb76"
      },
      "id": "5GWNZRRMf_9E",
      "execution_count": 41,
      "outputs": [
        {
          "output_type": "execute_result",
          "data": {
            "text/plain": [
              "tensor([[   0,    1,    2,  ..., 3120, 3121, 3122]], device='cuda:0')"
            ]
          },
          "metadata": {},
          "execution_count": 41
        }
      ]
    },
    {
      "cell_type": "code",
      "execution_count": 42,
      "id": "034974ca",
      "metadata": {
        "id": "034974ca"
      },
      "outputs": [],
      "source": [
        "test_scores = test_scores.detach().cpu().numpy()"
      ]
    },
    {
      "cell_type": "code",
      "execution_count": 43,
      "id": "1dc6c9cc",
      "metadata": {
        "id": "1dc6c9cc"
      },
      "outputs": [],
      "source": [
        "train_df = pd.read_csv(Path(\"./ProtoMF/data/full_train/listening_history_train.csv\"))"
      ]
    },
    {
      "cell_type": "code",
      "execution_count": 44,
      "id": "13260a54",
      "metadata": {
        "id": "13260a54"
      },
      "outputs": [],
      "source": [
        "trainset_description = dict(\n",
        "        users = 'user_id',\n",
        "        items = 'item_id'\n",
        ")"
      ]
    },
    {
      "cell_type": "code",
      "execution_count": 45,
      "id": "c9adf704",
      "metadata": {
        "id": "c9adf704"
      },
      "outputs": [],
      "source": [
        "from utils.evaluation import downvote_seen_items\n",
        "\n",
        "downvote_seen_items(test_scores, train_df.query('user_id in @test_users'), trainset_description)"
      ]
    },
    {
      "cell_type": "code",
      "source": [
        "train_df.query('user_id in @test_users')"
      ],
      "metadata": {
        "colab": {
          "base_uri": "https://localhost:8080/",
          "height": 0
        },
        "id": "pikm3-6_gPyh",
        "outputId": "4028b977-917d-43cc-dfc9-4b60ba189c7b"
      },
      "id": "pikm3-6_gPyh",
      "execution_count": 46,
      "outputs": [
        {
          "output_type": "execute_result",
          "data": {
            "text/plain": [
              "        Unnamed: 0.1  Unnamed: 0  user_id  item_id  rating  timestamp\n",
              "2773            2773        5016       35     2365       5  978061914\n",
              "2774            2774        5017       35      977       5  978064419\n",
              "2775            2775        5019       35     2698       5  978063192\n",
              "2776            2776        5020       35      548       4  978210234\n",
              "2777            2777        5021       35      549       5  978062718\n",
              "...              ...         ...      ...      ...     ...        ...\n",
              "559820         14164      993913     5989     1481       4  993349205\n",
              "559821         14165      993998     5989     1762       4  993349240\n",
              "559822         14166      994022     5989      394       5  993349150\n",
              "559823         14167      994065     5989      118       4  999473641\n",
              "559824         14168      994093     5989      820       4  993349314\n",
              "\n",
              "[103559 rows x 6 columns]"
            ],
            "text/html": [
              "\n",
              "  <div id=\"df-13f88cd5-05e2-40c7-8b8e-49627e5b0346\" class=\"colab-df-container\">\n",
              "    <div>\n",
              "<style scoped>\n",
              "    .dataframe tbody tr th:only-of-type {\n",
              "        vertical-align: middle;\n",
              "    }\n",
              "\n",
              "    .dataframe tbody tr th {\n",
              "        vertical-align: top;\n",
              "    }\n",
              "\n",
              "    .dataframe thead th {\n",
              "        text-align: right;\n",
              "    }\n",
              "</style>\n",
              "<table border=\"1\" class=\"dataframe\">\n",
              "  <thead>\n",
              "    <tr style=\"text-align: right;\">\n",
              "      <th></th>\n",
              "      <th>Unnamed: 0.1</th>\n",
              "      <th>Unnamed: 0</th>\n",
              "      <th>user_id</th>\n",
              "      <th>item_id</th>\n",
              "      <th>rating</th>\n",
              "      <th>timestamp</th>\n",
              "    </tr>\n",
              "  </thead>\n",
              "  <tbody>\n",
              "    <tr>\n",
              "      <th>2773</th>\n",
              "      <td>2773</td>\n",
              "      <td>5016</td>\n",
              "      <td>35</td>\n",
              "      <td>2365</td>\n",
              "      <td>5</td>\n",
              "      <td>978061914</td>\n",
              "    </tr>\n",
              "    <tr>\n",
              "      <th>2774</th>\n",
              "      <td>2774</td>\n",
              "      <td>5017</td>\n",
              "      <td>35</td>\n",
              "      <td>977</td>\n",
              "      <td>5</td>\n",
              "      <td>978064419</td>\n",
              "    </tr>\n",
              "    <tr>\n",
              "      <th>2775</th>\n",
              "      <td>2775</td>\n",
              "      <td>5019</td>\n",
              "      <td>35</td>\n",
              "      <td>2698</td>\n",
              "      <td>5</td>\n",
              "      <td>978063192</td>\n",
              "    </tr>\n",
              "    <tr>\n",
              "      <th>2776</th>\n",
              "      <td>2776</td>\n",
              "      <td>5020</td>\n",
              "      <td>35</td>\n",
              "      <td>548</td>\n",
              "      <td>4</td>\n",
              "      <td>978210234</td>\n",
              "    </tr>\n",
              "    <tr>\n",
              "      <th>2777</th>\n",
              "      <td>2777</td>\n",
              "      <td>5021</td>\n",
              "      <td>35</td>\n",
              "      <td>549</td>\n",
              "      <td>5</td>\n",
              "      <td>978062718</td>\n",
              "    </tr>\n",
              "    <tr>\n",
              "      <th>...</th>\n",
              "      <td>...</td>\n",
              "      <td>...</td>\n",
              "      <td>...</td>\n",
              "      <td>...</td>\n",
              "      <td>...</td>\n",
              "      <td>...</td>\n",
              "    </tr>\n",
              "    <tr>\n",
              "      <th>559820</th>\n",
              "      <td>14164</td>\n",
              "      <td>993913</td>\n",
              "      <td>5989</td>\n",
              "      <td>1481</td>\n",
              "      <td>4</td>\n",
              "      <td>993349205</td>\n",
              "    </tr>\n",
              "    <tr>\n",
              "      <th>559821</th>\n",
              "      <td>14165</td>\n",
              "      <td>993998</td>\n",
              "      <td>5989</td>\n",
              "      <td>1762</td>\n",
              "      <td>4</td>\n",
              "      <td>993349240</td>\n",
              "    </tr>\n",
              "    <tr>\n",
              "      <th>559822</th>\n",
              "      <td>14166</td>\n",
              "      <td>994022</td>\n",
              "      <td>5989</td>\n",
              "      <td>394</td>\n",
              "      <td>5</td>\n",
              "      <td>993349150</td>\n",
              "    </tr>\n",
              "    <tr>\n",
              "      <th>559823</th>\n",
              "      <td>14167</td>\n",
              "      <td>994065</td>\n",
              "      <td>5989</td>\n",
              "      <td>118</td>\n",
              "      <td>4</td>\n",
              "      <td>999473641</td>\n",
              "    </tr>\n",
              "    <tr>\n",
              "      <th>559824</th>\n",
              "      <td>14168</td>\n",
              "      <td>994093</td>\n",
              "      <td>5989</td>\n",
              "      <td>820</td>\n",
              "      <td>4</td>\n",
              "      <td>993349314</td>\n",
              "    </tr>\n",
              "  </tbody>\n",
              "</table>\n",
              "<p>103559 rows × 6 columns</p>\n",
              "</div>\n",
              "    <div class=\"colab-df-buttons\">\n",
              "\n",
              "  <div class=\"colab-df-container\">\n",
              "    <button class=\"colab-df-convert\" onclick=\"convertToInteractive('df-13f88cd5-05e2-40c7-8b8e-49627e5b0346')\"\n",
              "            title=\"Convert this dataframe to an interactive table.\"\n",
              "            style=\"display:none;\">\n",
              "\n",
              "  <svg xmlns=\"http://www.w3.org/2000/svg\" height=\"24px\" viewBox=\"0 -960 960 960\">\n",
              "    <path d=\"M120-120v-720h720v720H120Zm60-500h600v-160H180v160Zm220 220h160v-160H400v160Zm0 220h160v-160H400v160ZM180-400h160v-160H180v160Zm440 0h160v-160H620v160ZM180-180h160v-160H180v160Zm440 0h160v-160H620v160Z\"/>\n",
              "  </svg>\n",
              "    </button>\n",
              "\n",
              "  <style>\n",
              "    .colab-df-container {\n",
              "      display:flex;\n",
              "      gap: 12px;\n",
              "    }\n",
              "\n",
              "    .colab-df-convert {\n",
              "      background-color: #E8F0FE;\n",
              "      border: none;\n",
              "      border-radius: 50%;\n",
              "      cursor: pointer;\n",
              "      display: none;\n",
              "      fill: #1967D2;\n",
              "      height: 32px;\n",
              "      padding: 0 0 0 0;\n",
              "      width: 32px;\n",
              "    }\n",
              "\n",
              "    .colab-df-convert:hover {\n",
              "      background-color: #E2EBFA;\n",
              "      box-shadow: 0px 1px 2px rgba(60, 64, 67, 0.3), 0px 1px 3px 1px rgba(60, 64, 67, 0.15);\n",
              "      fill: #174EA6;\n",
              "    }\n",
              "\n",
              "    .colab-df-buttons div {\n",
              "      margin-bottom: 4px;\n",
              "    }\n",
              "\n",
              "    [theme=dark] .colab-df-convert {\n",
              "      background-color: #3B4455;\n",
              "      fill: #D2E3FC;\n",
              "    }\n",
              "\n",
              "    [theme=dark] .colab-df-convert:hover {\n",
              "      background-color: #434B5C;\n",
              "      box-shadow: 0px 1px 3px 1px rgba(0, 0, 0, 0.15);\n",
              "      filter: drop-shadow(0px 1px 2px rgba(0, 0, 0, 0.3));\n",
              "      fill: #FFFFFF;\n",
              "    }\n",
              "  </style>\n",
              "\n",
              "    <script>\n",
              "      const buttonEl =\n",
              "        document.querySelector('#df-13f88cd5-05e2-40c7-8b8e-49627e5b0346 button.colab-df-convert');\n",
              "      buttonEl.style.display =\n",
              "        google.colab.kernel.accessAllowed ? 'block' : 'none';\n",
              "\n",
              "      async function convertToInteractive(key) {\n",
              "        const element = document.querySelector('#df-13f88cd5-05e2-40c7-8b8e-49627e5b0346');\n",
              "        const dataTable =\n",
              "          await google.colab.kernel.invokeFunction('convertToInteractive',\n",
              "                                                    [key], {});\n",
              "        if (!dataTable) return;\n",
              "\n",
              "        const docLinkHtml = 'Like what you see? Visit the ' +\n",
              "          '<a target=\"_blank\" href=https://colab.research.google.com/notebooks/data_table.ipynb>data table notebook</a>'\n",
              "          + ' to learn more about interactive tables.';\n",
              "        element.innerHTML = '';\n",
              "        dataTable['output_type'] = 'display_data';\n",
              "        await google.colab.output.renderOutput(dataTable, element);\n",
              "        const docLink = document.createElement('div');\n",
              "        docLink.innerHTML = docLinkHtml;\n",
              "        element.appendChild(docLink);\n",
              "      }\n",
              "    </script>\n",
              "  </div>\n",
              "\n",
              "\n",
              "<div id=\"df-e1999330-d037-4aec-bd0f-e0955d6057b2\">\n",
              "  <button class=\"colab-df-quickchart\" onclick=\"quickchart('df-e1999330-d037-4aec-bd0f-e0955d6057b2')\"\n",
              "            title=\"Suggest charts\"\n",
              "            style=\"display:none;\">\n",
              "\n",
              "<svg xmlns=\"http://www.w3.org/2000/svg\" height=\"24px\"viewBox=\"0 0 24 24\"\n",
              "     width=\"24px\">\n",
              "    <g>\n",
              "        <path d=\"M19 3H5c-1.1 0-2 .9-2 2v14c0 1.1.9 2 2 2h14c1.1 0 2-.9 2-2V5c0-1.1-.9-2-2-2zM9 17H7v-7h2v7zm4 0h-2V7h2v10zm4 0h-2v-4h2v4z\"/>\n",
              "    </g>\n",
              "</svg>\n",
              "  </button>\n",
              "\n",
              "<style>\n",
              "  .colab-df-quickchart {\n",
              "      --bg-color: #E8F0FE;\n",
              "      --fill-color: #1967D2;\n",
              "      --hover-bg-color: #E2EBFA;\n",
              "      --hover-fill-color: #174EA6;\n",
              "      --disabled-fill-color: #AAA;\n",
              "      --disabled-bg-color: #DDD;\n",
              "  }\n",
              "\n",
              "  [theme=dark] .colab-df-quickchart {\n",
              "      --bg-color: #3B4455;\n",
              "      --fill-color: #D2E3FC;\n",
              "      --hover-bg-color: #434B5C;\n",
              "      --hover-fill-color: #FFFFFF;\n",
              "      --disabled-bg-color: #3B4455;\n",
              "      --disabled-fill-color: #666;\n",
              "  }\n",
              "\n",
              "  .colab-df-quickchart {\n",
              "    background-color: var(--bg-color);\n",
              "    border: none;\n",
              "    border-radius: 50%;\n",
              "    cursor: pointer;\n",
              "    display: none;\n",
              "    fill: var(--fill-color);\n",
              "    height: 32px;\n",
              "    padding: 0;\n",
              "    width: 32px;\n",
              "  }\n",
              "\n",
              "  .colab-df-quickchart:hover {\n",
              "    background-color: var(--hover-bg-color);\n",
              "    box-shadow: 0 1px 2px rgba(60, 64, 67, 0.3), 0 1px 3px 1px rgba(60, 64, 67, 0.15);\n",
              "    fill: var(--button-hover-fill-color);\n",
              "  }\n",
              "\n",
              "  .colab-df-quickchart-complete:disabled,\n",
              "  .colab-df-quickchart-complete:disabled:hover {\n",
              "    background-color: var(--disabled-bg-color);\n",
              "    fill: var(--disabled-fill-color);\n",
              "    box-shadow: none;\n",
              "  }\n",
              "\n",
              "  .colab-df-spinner {\n",
              "    border: 2px solid var(--fill-color);\n",
              "    border-color: transparent;\n",
              "    border-bottom-color: var(--fill-color);\n",
              "    animation:\n",
              "      spin 1s steps(1) infinite;\n",
              "  }\n",
              "\n",
              "  @keyframes spin {\n",
              "    0% {\n",
              "      border-color: transparent;\n",
              "      border-bottom-color: var(--fill-color);\n",
              "      border-left-color: var(--fill-color);\n",
              "    }\n",
              "    20% {\n",
              "      border-color: transparent;\n",
              "      border-left-color: var(--fill-color);\n",
              "      border-top-color: var(--fill-color);\n",
              "    }\n",
              "    30% {\n",
              "      border-color: transparent;\n",
              "      border-left-color: var(--fill-color);\n",
              "      border-top-color: var(--fill-color);\n",
              "      border-right-color: var(--fill-color);\n",
              "    }\n",
              "    40% {\n",
              "      border-color: transparent;\n",
              "      border-right-color: var(--fill-color);\n",
              "      border-top-color: var(--fill-color);\n",
              "    }\n",
              "    60% {\n",
              "      border-color: transparent;\n",
              "      border-right-color: var(--fill-color);\n",
              "    }\n",
              "    80% {\n",
              "      border-color: transparent;\n",
              "      border-right-color: var(--fill-color);\n",
              "      border-bottom-color: var(--fill-color);\n",
              "    }\n",
              "    90% {\n",
              "      border-color: transparent;\n",
              "      border-bottom-color: var(--fill-color);\n",
              "    }\n",
              "  }\n",
              "</style>\n",
              "\n",
              "  <script>\n",
              "    async function quickchart(key) {\n",
              "      const quickchartButtonEl =\n",
              "        document.querySelector('#' + key + ' button');\n",
              "      quickchartButtonEl.disabled = true;  // To prevent multiple clicks.\n",
              "      quickchartButtonEl.classList.add('colab-df-spinner');\n",
              "      try {\n",
              "        const charts = await google.colab.kernel.invokeFunction(\n",
              "            'suggestCharts', [key], {});\n",
              "      } catch (error) {\n",
              "        console.error('Error during call to suggestCharts:', error);\n",
              "      }\n",
              "      quickchartButtonEl.classList.remove('colab-df-spinner');\n",
              "      quickchartButtonEl.classList.add('colab-df-quickchart-complete');\n",
              "    }\n",
              "    (() => {\n",
              "      let quickchartButtonEl =\n",
              "        document.querySelector('#df-e1999330-d037-4aec-bd0f-e0955d6057b2 button');\n",
              "      quickchartButtonEl.style.display =\n",
              "        google.colab.kernel.accessAllowed ? 'block' : 'none';\n",
              "    })();\n",
              "  </script>\n",
              "</div>\n",
              "    </div>\n",
              "  </div>\n"
            ]
          },
          "metadata": {},
          "execution_count": 46
        }
      ]
    },
    {
      "cell_type": "code",
      "execution_count": 47,
      "id": "822df1a4",
      "metadata": {
        "id": "822df1a4"
      },
      "outputs": [],
      "source": [
        "from utils.evaluation import topn_recommendations\n",
        "\n",
        "top_20 = topn_recommendations(test_scores, topn=20)"
      ]
    },
    {
      "cell_type": "code",
      "execution_count": 48,
      "id": "c1e5efd9",
      "metadata": {
        "id": "c1e5efd9"
      },
      "outputs": [],
      "source": [
        "def hr_score(top_n_items, real_likes):\n",
        "    mask = (top_n_items[...,None] == real_likes[:,None]).any(2)\n",
        "    return mask.any(axis=1).mean()\n",
        "\n",
        "def mrr_score(top_n_items, real_likes):\n",
        "    idx = np.arange(1, top_n_items.shape[1] + 1)[None, :]\n",
        "    mask = (top_n_items[...,None] == real_likes[:,None]).any(2)\n",
        "    return (mask / idx).max(axis=1).mean()\n",
        "\n",
        "def coverage_score(top_n_items, total_item_count):\n",
        "    return len(np.unique(top_n_items)) * 1.0 / total_item_count\n",
        "\n",
        "def final_evaluation(recs, test, allowed_items=None):\n",
        "    if allowed_items is not None:\n",
        "        test = test.copy()\n",
        "        test.loc[~test['item_id'].isin(allowed_items), 'item_id'] = -1\n",
        "        recs = recs.copy()\n",
        "        recs[~np.isin(recs, allowed_items)] = -2\n",
        "    max_likes = test.groupby('user_id')['item_id'].apply(len).max()\n",
        "    test_likes = test.groupby('user_id')['item_id'].apply(lambda x: list(np.pad(x, (0, max_likes - len(x)), 'constant', constant_values=-1)))\n",
        "    test_likes = np.asarray(list(test_likes))\n",
        "\n",
        "    total_items = len(test.item_id.unique())\n",
        "\n",
        "    hr = hr_score(recs, test_likes)\n",
        "    mrr = mrr_score(recs, test_likes)\n",
        "    cov = coverage_score(recs, total_items)\n",
        "\n",
        "    print(f'HR={hr}, MRR={mrr}, COV={cov}')"
      ]
    },
    {
      "cell_type": "code",
      "execution_count": 49,
      "id": "56d3766c",
      "metadata": {
        "colab": {
          "base_uri": "https://localhost:8080/"
        },
        "id": "56d3766c",
        "outputId": "767b574f-4aaa-4b7b-d44b-25d4186611c5"
      },
      "outputs": [
        {
          "output_type": "stream",
          "name": "stdout",
          "text": [
            "HR=0.5467625899280576, MRR=0.20304620845901442, COV=0.18233743409490333\n"
          ]
        }
      ],
      "source": [
        "final_evaluation(top_20, test_df)"
      ]
    },
    {
      "cell_type": "markdown",
      "source": [
        "#### еще какие-то расчеты метрик (не запускать)"
      ],
      "metadata": {
        "id": "eT18T728xSDQ"
      },
      "id": "eT18T728xSDQ"
    },
    {
      "cell_type": "code",
      "execution_count": null,
      "id": "f23f9a81",
      "metadata": {
        "colab": {
          "base_uri": "https://localhost:8080/",
          "height": 529
        },
        "id": "f23f9a81",
        "outputId": "3333922a-39a6-424e-a7d6-505581ae08ce"
      },
      "outputs": [
        {
          "output_type": "error",
          "ename": "UndefinedVariableError",
          "evalue": "ignored",
          "traceback": [
            "\u001b[0;31m---------------------------------------------------------------------------\u001b[0m",
            "\u001b[0;31mKeyError\u001b[0m                                  Traceback (most recent call last)",
            "\u001b[0;32m/usr/local/lib/python3.10/dist-packages/pandas/core/computation/scope.py\u001b[0m in \u001b[0;36mresolve\u001b[0;34m(self, key, is_local)\u001b[0m\n\u001b[1;32m    197\u001b[0m             \u001b[0;32mif\u001b[0m \u001b[0mself\u001b[0m\u001b[0;34m.\u001b[0m\u001b[0mhas_resolvers\u001b[0m\u001b[0;34m:\u001b[0m\u001b[0;34m\u001b[0m\u001b[0;34m\u001b[0m\u001b[0m\n\u001b[0;32m--> 198\u001b[0;31m                 \u001b[0;32mreturn\u001b[0m \u001b[0mself\u001b[0m\u001b[0;34m.\u001b[0m\u001b[0mresolvers\u001b[0m\u001b[0;34m[\u001b[0m\u001b[0mkey\u001b[0m\u001b[0;34m]\u001b[0m\u001b[0;34m\u001b[0m\u001b[0;34m\u001b[0m\u001b[0m\n\u001b[0m\u001b[1;32m    199\u001b[0m \u001b[0;34m\u001b[0m\u001b[0m\n",
            "\u001b[0;32m/usr/lib/python3.10/collections/__init__.py\u001b[0m in \u001b[0;36m__getitem__\u001b[0;34m(self, key)\u001b[0m\n\u001b[1;32m    985\u001b[0m                 \u001b[0;32mpass\u001b[0m\u001b[0;34m\u001b[0m\u001b[0;34m\u001b[0m\u001b[0m\n\u001b[0;32m--> 986\u001b[0;31m         \u001b[0;32mreturn\u001b[0m \u001b[0mself\u001b[0m\u001b[0;34m.\u001b[0m\u001b[0m__missing__\u001b[0m\u001b[0;34m(\u001b[0m\u001b[0mkey\u001b[0m\u001b[0;34m)\u001b[0m            \u001b[0;31m# support subclasses that define __missing__\u001b[0m\u001b[0;34m\u001b[0m\u001b[0;34m\u001b[0m\u001b[0m\n\u001b[0m\u001b[1;32m    987\u001b[0m \u001b[0;34m\u001b[0m\u001b[0m\n",
            "\u001b[0;32m/usr/lib/python3.10/collections/__init__.py\u001b[0m in \u001b[0;36m__missing__\u001b[0;34m(self, key)\u001b[0m\n\u001b[1;32m    977\u001b[0m     \u001b[0;32mdef\u001b[0m \u001b[0m__missing__\u001b[0m\u001b[0;34m(\u001b[0m\u001b[0mself\u001b[0m\u001b[0;34m,\u001b[0m \u001b[0mkey\u001b[0m\u001b[0;34m)\u001b[0m\u001b[0;34m:\u001b[0m\u001b[0;34m\u001b[0m\u001b[0;34m\u001b[0m\u001b[0m\n\u001b[0;32m--> 978\u001b[0;31m         \u001b[0;32mraise\u001b[0m \u001b[0mKeyError\u001b[0m\u001b[0;34m(\u001b[0m\u001b[0mkey\u001b[0m\u001b[0;34m)\u001b[0m\u001b[0;34m\u001b[0m\u001b[0;34m\u001b[0m\u001b[0m\n\u001b[0m\u001b[1;32m    979\u001b[0m \u001b[0;34m\u001b[0m\u001b[0m\n",
            "\u001b[0;31mKeyError\u001b[0m: 'itemid'",
            "\nDuring handling of the above exception, another exception occurred:\n",
            "\u001b[0;31mKeyError\u001b[0m                                  Traceback (most recent call last)",
            "\u001b[0;32m/usr/local/lib/python3.10/dist-packages/pandas/core/computation/scope.py\u001b[0m in \u001b[0;36mresolve\u001b[0;34m(self, key, is_local)\u001b[0m\n\u001b[1;32m    208\u001b[0m                 \u001b[0;31m# e.g., df[df > 0]\u001b[0m\u001b[0;34m\u001b[0m\u001b[0;34m\u001b[0m\u001b[0m\n\u001b[0;32m--> 209\u001b[0;31m                 \u001b[0;32mreturn\u001b[0m \u001b[0mself\u001b[0m\u001b[0;34m.\u001b[0m\u001b[0mtemps\u001b[0m\u001b[0;34m[\u001b[0m\u001b[0mkey\u001b[0m\u001b[0;34m]\u001b[0m\u001b[0;34m\u001b[0m\u001b[0;34m\u001b[0m\u001b[0m\n\u001b[0m\u001b[1;32m    210\u001b[0m             \u001b[0;32mexcept\u001b[0m \u001b[0mKeyError\u001b[0m \u001b[0;32mas\u001b[0m \u001b[0merr\u001b[0m\u001b[0;34m:\u001b[0m\u001b[0;34m\u001b[0m\u001b[0;34m\u001b[0m\u001b[0m\n",
            "\u001b[0;31mKeyError\u001b[0m: 'itemid'",
            "\nThe above exception was the direct cause of the following exception:\n",
            "\u001b[0;31mUndefinedVariableError\u001b[0m                    Traceback (most recent call last)",
            "\u001b[0;32m<ipython-input-92-11e392a75a7b>\u001b[0m in \u001b[0;36m<cell line: 2>\u001b[0;34m()\u001b[0m\n\u001b[1;32m      1\u001b[0m \u001b[0mtrain\u001b[0m \u001b[0;34m=\u001b[0m \u001b[0mtrain_df\u001b[0m\u001b[0;34m.\u001b[0m\u001b[0mcopy\u001b[0m\u001b[0;34m(\u001b[0m\u001b[0;34m)\u001b[0m\u001b[0;34m\u001b[0m\u001b[0;34m\u001b[0m\u001b[0m\n\u001b[0;32m----> 2\u001b[0;31m \u001b[0mall_items\u001b[0m \u001b[0;34m=\u001b[0m \u001b[0mtrain\u001b[0m\u001b[0;34m.\u001b[0m\u001b[0mquery\u001b[0m\u001b[0;34m(\u001b[0m\u001b[0;34m'itemid in @test_items'\u001b[0m\u001b[0;34m)\u001b[0m\u001b[0;34m[\u001b[0m\u001b[0;34m'itemid'\u001b[0m\u001b[0;34m]\u001b[0m\u001b[0;34m.\u001b[0m\u001b[0munique\u001b[0m\u001b[0;34m(\u001b[0m\u001b[0;34m)\u001b[0m\u001b[0;34m\u001b[0m\u001b[0;34m\u001b[0m\u001b[0m\n\u001b[0m\u001b[1;32m      3\u001b[0m \u001b[0;34m\u001b[0m\u001b[0m\n\u001b[1;32m      4\u001b[0m \u001b[0msub_10_items\u001b[0m \u001b[0;34m=\u001b[0m \u001b[0mall_items\u001b[0m\u001b[0;34m[\u001b[0m\u001b[0mtrain\u001b[0m\u001b[0;34m.\u001b[0m\u001b[0mquery\u001b[0m\u001b[0;34m(\u001b[0m\u001b[0;34m'itemid in @test_items'\u001b[0m\u001b[0;34m)\u001b[0m\u001b[0;34m.\u001b[0m\u001b[0mgroupby\u001b[0m\u001b[0;34m(\u001b[0m\u001b[0;34m'itemid'\u001b[0m\u001b[0;34m)\u001b[0m\u001b[0;34m[\u001b[0m\u001b[0;34m'userid'\u001b[0m\u001b[0;34m]\u001b[0m\u001b[0;34m.\u001b[0m\u001b[0mcount\u001b[0m\u001b[0;34m(\u001b[0m\u001b[0;34m)\u001b[0m \u001b[0;34m<=\u001b[0m \u001b[0mitems_quant_10\u001b[0m\u001b[0;34m]\u001b[0m\u001b[0;34m\u001b[0m\u001b[0;34m\u001b[0m\u001b[0m\n\u001b[1;32m      5\u001b[0m \u001b[0msub_50_items\u001b[0m \u001b[0;34m=\u001b[0m \u001b[0mall_items\u001b[0m\u001b[0;34m[\u001b[0m\u001b[0mtrain\u001b[0m\u001b[0;34m.\u001b[0m\u001b[0mquery\u001b[0m\u001b[0;34m(\u001b[0m\u001b[0;34m'itemid in @test_items'\u001b[0m\u001b[0;34m)\u001b[0m\u001b[0;34m.\u001b[0m\u001b[0mgroupby\u001b[0m\u001b[0;34m(\u001b[0m\u001b[0;34m'itemid'\u001b[0m\u001b[0;34m)\u001b[0m\u001b[0;34m[\u001b[0m\u001b[0;34m'userid'\u001b[0m\u001b[0;34m]\u001b[0m\u001b[0;34m.\u001b[0m\u001b[0mcount\u001b[0m\u001b[0;34m(\u001b[0m\u001b[0;34m)\u001b[0m \u001b[0;34m<=\u001b[0m \u001b[0mitems_quant_50\u001b[0m\u001b[0;34m]\u001b[0m\u001b[0;34m\u001b[0m\u001b[0;34m\u001b[0m\u001b[0m\n",
            "\u001b[0;32m/usr/local/lib/python3.10/dist-packages/pandas/util/_decorators.py\u001b[0m in \u001b[0;36mwrapper\u001b[0;34m(*args, **kwargs)\u001b[0m\n\u001b[1;32m    329\u001b[0m                     \u001b[0mstacklevel\u001b[0m\u001b[0;34m=\u001b[0m\u001b[0mfind_stack_level\u001b[0m\u001b[0;34m(\u001b[0m\u001b[0;34m)\u001b[0m\u001b[0;34m,\u001b[0m\u001b[0;34m\u001b[0m\u001b[0;34m\u001b[0m\u001b[0m\n\u001b[1;32m    330\u001b[0m                 )\n\u001b[0;32m--> 331\u001b[0;31m             \u001b[0;32mreturn\u001b[0m \u001b[0mfunc\u001b[0m\u001b[0;34m(\u001b[0m\u001b[0;34m*\u001b[0m\u001b[0margs\u001b[0m\u001b[0;34m,\u001b[0m \u001b[0;34m**\u001b[0m\u001b[0mkwargs\u001b[0m\u001b[0;34m)\u001b[0m\u001b[0;34m\u001b[0m\u001b[0;34m\u001b[0m\u001b[0m\n\u001b[0m\u001b[1;32m    332\u001b[0m \u001b[0;34m\u001b[0m\u001b[0m\n\u001b[1;32m    333\u001b[0m         \u001b[0;31m# error: \"Callable[[VarArg(Any), KwArg(Any)], Any]\" has no\u001b[0m\u001b[0;34m\u001b[0m\u001b[0;34m\u001b[0m\u001b[0m\n",
            "\u001b[0;32m/usr/local/lib/python3.10/dist-packages/pandas/core/frame.py\u001b[0m in \u001b[0;36mquery\u001b[0;34m(self, expr, inplace, **kwargs)\u001b[0m\n\u001b[1;32m   4472\u001b[0m         \u001b[0mkwargs\u001b[0m\u001b[0;34m[\u001b[0m\u001b[0;34m\"level\"\u001b[0m\u001b[0;34m]\u001b[0m \u001b[0;34m=\u001b[0m \u001b[0mkwargs\u001b[0m\u001b[0;34m.\u001b[0m\u001b[0mpop\u001b[0m\u001b[0;34m(\u001b[0m\u001b[0;34m\"level\"\u001b[0m\u001b[0;34m,\u001b[0m \u001b[0;36m0\u001b[0m\u001b[0;34m)\u001b[0m \u001b[0;34m+\u001b[0m \u001b[0;36m2\u001b[0m\u001b[0;34m\u001b[0m\u001b[0;34m\u001b[0m\u001b[0m\n\u001b[1;32m   4473\u001b[0m         \u001b[0mkwargs\u001b[0m\u001b[0;34m[\u001b[0m\u001b[0;34m\"target\"\u001b[0m\u001b[0;34m]\u001b[0m \u001b[0;34m=\u001b[0m \u001b[0;32mNone\u001b[0m\u001b[0;34m\u001b[0m\u001b[0;34m\u001b[0m\u001b[0m\n\u001b[0;32m-> 4474\u001b[0;31m         \u001b[0mres\u001b[0m \u001b[0;34m=\u001b[0m \u001b[0mself\u001b[0m\u001b[0;34m.\u001b[0m\u001b[0meval\u001b[0m\u001b[0;34m(\u001b[0m\u001b[0mexpr\u001b[0m\u001b[0;34m,\u001b[0m \u001b[0;34m**\u001b[0m\u001b[0mkwargs\u001b[0m\u001b[0;34m)\u001b[0m\u001b[0;34m\u001b[0m\u001b[0;34m\u001b[0m\u001b[0m\n\u001b[0m\u001b[1;32m   4475\u001b[0m \u001b[0;34m\u001b[0m\u001b[0m\n\u001b[1;32m   4476\u001b[0m         \u001b[0;32mtry\u001b[0m\u001b[0;34m:\u001b[0m\u001b[0;34m\u001b[0m\u001b[0;34m\u001b[0m\u001b[0m\n",
            "\u001b[0;32m/usr/local/lib/python3.10/dist-packages/pandas/util/_decorators.py\u001b[0m in \u001b[0;36mwrapper\u001b[0;34m(*args, **kwargs)\u001b[0m\n\u001b[1;32m    329\u001b[0m                     \u001b[0mstacklevel\u001b[0m\u001b[0;34m=\u001b[0m\u001b[0mfind_stack_level\u001b[0m\u001b[0;34m(\u001b[0m\u001b[0;34m)\u001b[0m\u001b[0;34m,\u001b[0m\u001b[0;34m\u001b[0m\u001b[0;34m\u001b[0m\u001b[0m\n\u001b[1;32m    330\u001b[0m                 )\n\u001b[0;32m--> 331\u001b[0;31m             \u001b[0;32mreturn\u001b[0m \u001b[0mfunc\u001b[0m\u001b[0;34m(\u001b[0m\u001b[0;34m*\u001b[0m\u001b[0margs\u001b[0m\u001b[0;34m,\u001b[0m \u001b[0;34m**\u001b[0m\u001b[0mkwargs\u001b[0m\u001b[0;34m)\u001b[0m\u001b[0;34m\u001b[0m\u001b[0;34m\u001b[0m\u001b[0m\n\u001b[0m\u001b[1;32m    332\u001b[0m \u001b[0;34m\u001b[0m\u001b[0m\n\u001b[1;32m    333\u001b[0m         \u001b[0;31m# error: \"Callable[[VarArg(Any), KwArg(Any)], Any]\" has no\u001b[0m\u001b[0;34m\u001b[0m\u001b[0;34m\u001b[0m\u001b[0m\n",
            "\u001b[0;32m/usr/local/lib/python3.10/dist-packages/pandas/core/frame.py\u001b[0m in \u001b[0;36meval\u001b[0;34m(self, expr, inplace, **kwargs)\u001b[0m\n\u001b[1;32m   4610\u001b[0m         \u001b[0mkwargs\u001b[0m\u001b[0;34m[\u001b[0m\u001b[0;34m\"resolvers\"\u001b[0m\u001b[0;34m]\u001b[0m \u001b[0;34m=\u001b[0m \u001b[0mtuple\u001b[0m\u001b[0;34m(\u001b[0m\u001b[0mkwargs\u001b[0m\u001b[0;34m.\u001b[0m\u001b[0mget\u001b[0m\u001b[0;34m(\u001b[0m\u001b[0;34m\"resolvers\"\u001b[0m\u001b[0;34m,\u001b[0m \u001b[0;34m(\u001b[0m\u001b[0;34m)\u001b[0m\u001b[0;34m)\u001b[0m\u001b[0;34m)\u001b[0m \u001b[0;34m+\u001b[0m \u001b[0mresolvers\u001b[0m\u001b[0;34m\u001b[0m\u001b[0;34m\u001b[0m\u001b[0m\n\u001b[1;32m   4611\u001b[0m \u001b[0;34m\u001b[0m\u001b[0m\n\u001b[0;32m-> 4612\u001b[0;31m         \u001b[0;32mreturn\u001b[0m \u001b[0m_eval\u001b[0m\u001b[0;34m(\u001b[0m\u001b[0mexpr\u001b[0m\u001b[0;34m,\u001b[0m \u001b[0minplace\u001b[0m\u001b[0;34m=\u001b[0m\u001b[0minplace\u001b[0m\u001b[0;34m,\u001b[0m \u001b[0;34m**\u001b[0m\u001b[0mkwargs\u001b[0m\u001b[0;34m)\u001b[0m\u001b[0;34m\u001b[0m\u001b[0;34m\u001b[0m\u001b[0m\n\u001b[0m\u001b[1;32m   4613\u001b[0m \u001b[0;34m\u001b[0m\u001b[0m\n\u001b[1;32m   4614\u001b[0m     \u001b[0;32mdef\u001b[0m \u001b[0mselect_dtypes\u001b[0m\u001b[0;34m(\u001b[0m\u001b[0mself\u001b[0m\u001b[0;34m,\u001b[0m \u001b[0minclude\u001b[0m\u001b[0;34m=\u001b[0m\u001b[0;32mNone\u001b[0m\u001b[0;34m,\u001b[0m \u001b[0mexclude\u001b[0m\u001b[0;34m=\u001b[0m\u001b[0;32mNone\u001b[0m\u001b[0;34m)\u001b[0m \u001b[0;34m->\u001b[0m \u001b[0mDataFrame\u001b[0m\u001b[0;34m:\u001b[0m\u001b[0;34m\u001b[0m\u001b[0;34m\u001b[0m\u001b[0m\n",
            "\u001b[0;32m/usr/local/lib/python3.10/dist-packages/pandas/core/computation/eval.py\u001b[0m in \u001b[0;36meval\u001b[0;34m(expr, parser, engine, truediv, local_dict, global_dict, resolvers, level, target, inplace)\u001b[0m\n\u001b[1;32m    351\u001b[0m         )\n\u001b[1;32m    352\u001b[0m \u001b[0;34m\u001b[0m\u001b[0m\n\u001b[0;32m--> 353\u001b[0;31m         \u001b[0mparsed_expr\u001b[0m \u001b[0;34m=\u001b[0m \u001b[0mExpr\u001b[0m\u001b[0;34m(\u001b[0m\u001b[0mexpr\u001b[0m\u001b[0;34m,\u001b[0m \u001b[0mengine\u001b[0m\u001b[0;34m=\u001b[0m\u001b[0mengine\u001b[0m\u001b[0;34m,\u001b[0m \u001b[0mparser\u001b[0m\u001b[0;34m=\u001b[0m\u001b[0mparser\u001b[0m\u001b[0;34m,\u001b[0m \u001b[0menv\u001b[0m\u001b[0;34m=\u001b[0m\u001b[0menv\u001b[0m\u001b[0;34m)\u001b[0m\u001b[0;34m\u001b[0m\u001b[0;34m\u001b[0m\u001b[0m\n\u001b[0m\u001b[1;32m    354\u001b[0m \u001b[0;34m\u001b[0m\u001b[0m\n\u001b[1;32m    355\u001b[0m         \u001b[0;31m# construct the engine and evaluate the parsed expression\u001b[0m\u001b[0;34m\u001b[0m\u001b[0;34m\u001b[0m\u001b[0m\n",
            "\u001b[0;32m/usr/local/lib/python3.10/dist-packages/pandas/core/computation/expr.py\u001b[0m in \u001b[0;36m__init__\u001b[0;34m(self, expr, engine, parser, env, level)\u001b[0m\n\u001b[1;32m    811\u001b[0m         \u001b[0mself\u001b[0m\u001b[0;34m.\u001b[0m\u001b[0mparser\u001b[0m \u001b[0;34m=\u001b[0m \u001b[0mparser\u001b[0m\u001b[0;34m\u001b[0m\u001b[0;34m\u001b[0m\u001b[0m\n\u001b[1;32m    812\u001b[0m         \u001b[0mself\u001b[0m\u001b[0;34m.\u001b[0m\u001b[0m_visitor\u001b[0m \u001b[0;34m=\u001b[0m \u001b[0mPARSERS\u001b[0m\u001b[0;34m[\u001b[0m\u001b[0mparser\u001b[0m\u001b[0;34m]\u001b[0m\u001b[0;34m(\u001b[0m\u001b[0mself\u001b[0m\u001b[0;34m.\u001b[0m\u001b[0menv\u001b[0m\u001b[0;34m,\u001b[0m \u001b[0mself\u001b[0m\u001b[0;34m.\u001b[0m\u001b[0mengine\u001b[0m\u001b[0;34m,\u001b[0m \u001b[0mself\u001b[0m\u001b[0;34m.\u001b[0m\u001b[0mparser\u001b[0m\u001b[0;34m)\u001b[0m\u001b[0;34m\u001b[0m\u001b[0;34m\u001b[0m\u001b[0m\n\u001b[0;32m--> 813\u001b[0;31m         \u001b[0mself\u001b[0m\u001b[0;34m.\u001b[0m\u001b[0mterms\u001b[0m \u001b[0;34m=\u001b[0m \u001b[0mself\u001b[0m\u001b[0;34m.\u001b[0m\u001b[0mparse\u001b[0m\u001b[0;34m(\u001b[0m\u001b[0;34m)\u001b[0m\u001b[0;34m\u001b[0m\u001b[0;34m\u001b[0m\u001b[0m\n\u001b[0m\u001b[1;32m    814\u001b[0m \u001b[0;34m\u001b[0m\u001b[0m\n\u001b[1;32m    815\u001b[0m     \u001b[0;34m@\u001b[0m\u001b[0mproperty\u001b[0m\u001b[0;34m\u001b[0m\u001b[0;34m\u001b[0m\u001b[0m\n",
            "\u001b[0;32m/usr/local/lib/python3.10/dist-packages/pandas/core/computation/expr.py\u001b[0m in \u001b[0;36mparse\u001b[0;34m(self)\u001b[0m\n\u001b[1;32m    830\u001b[0m         \u001b[0mParse\u001b[0m \u001b[0man\u001b[0m \u001b[0mexpression\u001b[0m\u001b[0;34m.\u001b[0m\u001b[0;34m\u001b[0m\u001b[0;34m\u001b[0m\u001b[0m\n\u001b[1;32m    831\u001b[0m         \"\"\"\n\u001b[0;32m--> 832\u001b[0;31m         \u001b[0;32mreturn\u001b[0m \u001b[0mself\u001b[0m\u001b[0;34m.\u001b[0m\u001b[0m_visitor\u001b[0m\u001b[0;34m.\u001b[0m\u001b[0mvisit\u001b[0m\u001b[0;34m(\u001b[0m\u001b[0mself\u001b[0m\u001b[0;34m.\u001b[0m\u001b[0mexpr\u001b[0m\u001b[0;34m)\u001b[0m\u001b[0;34m\u001b[0m\u001b[0;34m\u001b[0m\u001b[0m\n\u001b[0m\u001b[1;32m    833\u001b[0m \u001b[0;34m\u001b[0m\u001b[0m\n\u001b[1;32m    834\u001b[0m     \u001b[0;34m@\u001b[0m\u001b[0mproperty\u001b[0m\u001b[0;34m\u001b[0m\u001b[0;34m\u001b[0m\u001b[0m\n",
            "\u001b[0;32m/usr/local/lib/python3.10/dist-packages/pandas/core/computation/expr.py\u001b[0m in \u001b[0;36mvisit\u001b[0;34m(self, node, **kwargs)\u001b[0m\n\u001b[1;32m    413\u001b[0m         \u001b[0mmethod\u001b[0m \u001b[0;34m=\u001b[0m \u001b[0;34m\"visit_\"\u001b[0m \u001b[0;34m+\u001b[0m \u001b[0mtype\u001b[0m\u001b[0;34m(\u001b[0m\u001b[0mnode\u001b[0m\u001b[0;34m)\u001b[0m\u001b[0;34m.\u001b[0m\u001b[0m__name__\u001b[0m\u001b[0;34m\u001b[0m\u001b[0;34m\u001b[0m\u001b[0m\n\u001b[1;32m    414\u001b[0m         \u001b[0mvisitor\u001b[0m \u001b[0;34m=\u001b[0m \u001b[0mgetattr\u001b[0m\u001b[0;34m(\u001b[0m\u001b[0mself\u001b[0m\u001b[0;34m,\u001b[0m \u001b[0mmethod\u001b[0m\u001b[0;34m)\u001b[0m\u001b[0;34m\u001b[0m\u001b[0;34m\u001b[0m\u001b[0m\n\u001b[0;32m--> 415\u001b[0;31m         \u001b[0;32mreturn\u001b[0m \u001b[0mvisitor\u001b[0m\u001b[0;34m(\u001b[0m\u001b[0mnode\u001b[0m\u001b[0;34m,\u001b[0m \u001b[0;34m**\u001b[0m\u001b[0mkwargs\u001b[0m\u001b[0;34m)\u001b[0m\u001b[0;34m\u001b[0m\u001b[0;34m\u001b[0m\u001b[0m\n\u001b[0m\u001b[1;32m    416\u001b[0m \u001b[0;34m\u001b[0m\u001b[0m\n\u001b[1;32m    417\u001b[0m     \u001b[0;32mdef\u001b[0m \u001b[0mvisit_Module\u001b[0m\u001b[0;34m(\u001b[0m\u001b[0mself\u001b[0m\u001b[0;34m,\u001b[0m \u001b[0mnode\u001b[0m\u001b[0;34m,\u001b[0m \u001b[0;34m**\u001b[0m\u001b[0mkwargs\u001b[0m\u001b[0;34m)\u001b[0m\u001b[0;34m:\u001b[0m\u001b[0;34m\u001b[0m\u001b[0;34m\u001b[0m\u001b[0m\n",
            "\u001b[0;32m/usr/local/lib/python3.10/dist-packages/pandas/core/computation/expr.py\u001b[0m in \u001b[0;36mvisit_Module\u001b[0;34m(self, node, **kwargs)\u001b[0m\n\u001b[1;32m    419\u001b[0m             \u001b[0;32mraise\u001b[0m \u001b[0mSyntaxError\u001b[0m\u001b[0;34m(\u001b[0m\u001b[0;34m\"only a single expression is allowed\"\u001b[0m\u001b[0;34m)\u001b[0m\u001b[0;34m\u001b[0m\u001b[0;34m\u001b[0m\u001b[0m\n\u001b[1;32m    420\u001b[0m         \u001b[0mexpr\u001b[0m \u001b[0;34m=\u001b[0m \u001b[0mnode\u001b[0m\u001b[0;34m.\u001b[0m\u001b[0mbody\u001b[0m\u001b[0;34m[\u001b[0m\u001b[0;36m0\u001b[0m\u001b[0;34m]\u001b[0m\u001b[0;34m\u001b[0m\u001b[0;34m\u001b[0m\u001b[0m\n\u001b[0;32m--> 421\u001b[0;31m         \u001b[0;32mreturn\u001b[0m \u001b[0mself\u001b[0m\u001b[0;34m.\u001b[0m\u001b[0mvisit\u001b[0m\u001b[0;34m(\u001b[0m\u001b[0mexpr\u001b[0m\u001b[0;34m,\u001b[0m \u001b[0;34m**\u001b[0m\u001b[0mkwargs\u001b[0m\u001b[0;34m)\u001b[0m\u001b[0;34m\u001b[0m\u001b[0;34m\u001b[0m\u001b[0m\n\u001b[0m\u001b[1;32m    422\u001b[0m \u001b[0;34m\u001b[0m\u001b[0m\n\u001b[1;32m    423\u001b[0m     \u001b[0;32mdef\u001b[0m \u001b[0mvisit_Expr\u001b[0m\u001b[0;34m(\u001b[0m\u001b[0mself\u001b[0m\u001b[0;34m,\u001b[0m \u001b[0mnode\u001b[0m\u001b[0;34m,\u001b[0m \u001b[0;34m**\u001b[0m\u001b[0mkwargs\u001b[0m\u001b[0;34m)\u001b[0m\u001b[0;34m:\u001b[0m\u001b[0;34m\u001b[0m\u001b[0;34m\u001b[0m\u001b[0m\n",
            "\u001b[0;32m/usr/local/lib/python3.10/dist-packages/pandas/core/computation/expr.py\u001b[0m in \u001b[0;36mvisit\u001b[0;34m(self, node, **kwargs)\u001b[0m\n\u001b[1;32m    413\u001b[0m         \u001b[0mmethod\u001b[0m \u001b[0;34m=\u001b[0m \u001b[0;34m\"visit_\"\u001b[0m \u001b[0;34m+\u001b[0m \u001b[0mtype\u001b[0m\u001b[0;34m(\u001b[0m\u001b[0mnode\u001b[0m\u001b[0;34m)\u001b[0m\u001b[0;34m.\u001b[0m\u001b[0m__name__\u001b[0m\u001b[0;34m\u001b[0m\u001b[0;34m\u001b[0m\u001b[0m\n\u001b[1;32m    414\u001b[0m         \u001b[0mvisitor\u001b[0m \u001b[0;34m=\u001b[0m \u001b[0mgetattr\u001b[0m\u001b[0;34m(\u001b[0m\u001b[0mself\u001b[0m\u001b[0;34m,\u001b[0m \u001b[0mmethod\u001b[0m\u001b[0;34m)\u001b[0m\u001b[0;34m\u001b[0m\u001b[0;34m\u001b[0m\u001b[0m\n\u001b[0;32m--> 415\u001b[0;31m         \u001b[0;32mreturn\u001b[0m \u001b[0mvisitor\u001b[0m\u001b[0;34m(\u001b[0m\u001b[0mnode\u001b[0m\u001b[0;34m,\u001b[0m \u001b[0;34m**\u001b[0m\u001b[0mkwargs\u001b[0m\u001b[0;34m)\u001b[0m\u001b[0;34m\u001b[0m\u001b[0;34m\u001b[0m\u001b[0m\n\u001b[0m\u001b[1;32m    416\u001b[0m \u001b[0;34m\u001b[0m\u001b[0m\n\u001b[1;32m    417\u001b[0m     \u001b[0;32mdef\u001b[0m \u001b[0mvisit_Module\u001b[0m\u001b[0;34m(\u001b[0m\u001b[0mself\u001b[0m\u001b[0;34m,\u001b[0m \u001b[0mnode\u001b[0m\u001b[0;34m,\u001b[0m \u001b[0;34m**\u001b[0m\u001b[0mkwargs\u001b[0m\u001b[0;34m)\u001b[0m\u001b[0;34m:\u001b[0m\u001b[0;34m\u001b[0m\u001b[0;34m\u001b[0m\u001b[0m\n",
            "\u001b[0;32m/usr/local/lib/python3.10/dist-packages/pandas/core/computation/expr.py\u001b[0m in \u001b[0;36mvisit_Expr\u001b[0;34m(self, node, **kwargs)\u001b[0m\n\u001b[1;32m    422\u001b[0m \u001b[0;34m\u001b[0m\u001b[0m\n\u001b[1;32m    423\u001b[0m     \u001b[0;32mdef\u001b[0m \u001b[0mvisit_Expr\u001b[0m\u001b[0;34m(\u001b[0m\u001b[0mself\u001b[0m\u001b[0;34m,\u001b[0m \u001b[0mnode\u001b[0m\u001b[0;34m,\u001b[0m \u001b[0;34m**\u001b[0m\u001b[0mkwargs\u001b[0m\u001b[0;34m)\u001b[0m\u001b[0;34m:\u001b[0m\u001b[0;34m\u001b[0m\u001b[0;34m\u001b[0m\u001b[0m\n\u001b[0;32m--> 424\u001b[0;31m         \u001b[0;32mreturn\u001b[0m \u001b[0mself\u001b[0m\u001b[0;34m.\u001b[0m\u001b[0mvisit\u001b[0m\u001b[0;34m(\u001b[0m\u001b[0mnode\u001b[0m\u001b[0;34m.\u001b[0m\u001b[0mvalue\u001b[0m\u001b[0;34m,\u001b[0m \u001b[0;34m**\u001b[0m\u001b[0mkwargs\u001b[0m\u001b[0;34m)\u001b[0m\u001b[0;34m\u001b[0m\u001b[0;34m\u001b[0m\u001b[0m\n\u001b[0m\u001b[1;32m    425\u001b[0m \u001b[0;34m\u001b[0m\u001b[0m\n\u001b[1;32m    426\u001b[0m     \u001b[0;32mdef\u001b[0m \u001b[0m_rewrite_membership_op\u001b[0m\u001b[0;34m(\u001b[0m\u001b[0mself\u001b[0m\u001b[0;34m,\u001b[0m \u001b[0mnode\u001b[0m\u001b[0;34m,\u001b[0m \u001b[0mleft\u001b[0m\u001b[0;34m,\u001b[0m \u001b[0mright\u001b[0m\u001b[0;34m)\u001b[0m\u001b[0;34m:\u001b[0m\u001b[0;34m\u001b[0m\u001b[0;34m\u001b[0m\u001b[0m\n",
            "\u001b[0;32m/usr/local/lib/python3.10/dist-packages/pandas/core/computation/expr.py\u001b[0m in \u001b[0;36mvisit\u001b[0;34m(self, node, **kwargs)\u001b[0m\n\u001b[1;32m    413\u001b[0m         \u001b[0mmethod\u001b[0m \u001b[0;34m=\u001b[0m \u001b[0;34m\"visit_\"\u001b[0m \u001b[0;34m+\u001b[0m \u001b[0mtype\u001b[0m\u001b[0;34m(\u001b[0m\u001b[0mnode\u001b[0m\u001b[0;34m)\u001b[0m\u001b[0;34m.\u001b[0m\u001b[0m__name__\u001b[0m\u001b[0;34m\u001b[0m\u001b[0;34m\u001b[0m\u001b[0m\n\u001b[1;32m    414\u001b[0m         \u001b[0mvisitor\u001b[0m \u001b[0;34m=\u001b[0m \u001b[0mgetattr\u001b[0m\u001b[0;34m(\u001b[0m\u001b[0mself\u001b[0m\u001b[0;34m,\u001b[0m \u001b[0mmethod\u001b[0m\u001b[0;34m)\u001b[0m\u001b[0;34m\u001b[0m\u001b[0;34m\u001b[0m\u001b[0m\n\u001b[0;32m--> 415\u001b[0;31m         \u001b[0;32mreturn\u001b[0m \u001b[0mvisitor\u001b[0m\u001b[0;34m(\u001b[0m\u001b[0mnode\u001b[0m\u001b[0;34m,\u001b[0m \u001b[0;34m**\u001b[0m\u001b[0mkwargs\u001b[0m\u001b[0;34m)\u001b[0m\u001b[0;34m\u001b[0m\u001b[0;34m\u001b[0m\u001b[0m\n\u001b[0m\u001b[1;32m    416\u001b[0m \u001b[0;34m\u001b[0m\u001b[0m\n\u001b[1;32m    417\u001b[0m     \u001b[0;32mdef\u001b[0m \u001b[0mvisit_Module\u001b[0m\u001b[0;34m(\u001b[0m\u001b[0mself\u001b[0m\u001b[0;34m,\u001b[0m \u001b[0mnode\u001b[0m\u001b[0;34m,\u001b[0m \u001b[0;34m**\u001b[0m\u001b[0mkwargs\u001b[0m\u001b[0;34m)\u001b[0m\u001b[0;34m:\u001b[0m\u001b[0;34m\u001b[0m\u001b[0;34m\u001b[0m\u001b[0m\n",
            "\u001b[0;32m/usr/local/lib/python3.10/dist-packages/pandas/core/computation/expr.py\u001b[0m in \u001b[0;36mvisit_Compare\u001b[0;34m(self, node, **kwargs)\u001b[0m\n\u001b[1;32m    721\u001b[0m             \u001b[0mop\u001b[0m \u001b[0;34m=\u001b[0m \u001b[0mself\u001b[0m\u001b[0;34m.\u001b[0m\u001b[0mtranslate_In\u001b[0m\u001b[0;34m(\u001b[0m\u001b[0mops\u001b[0m\u001b[0;34m[\u001b[0m\u001b[0;36m0\u001b[0m\u001b[0;34m]\u001b[0m\u001b[0;34m)\u001b[0m\u001b[0;34m\u001b[0m\u001b[0;34m\u001b[0m\u001b[0m\n\u001b[1;32m    722\u001b[0m             \u001b[0mbinop\u001b[0m \u001b[0;34m=\u001b[0m \u001b[0mast\u001b[0m\u001b[0;34m.\u001b[0m\u001b[0mBinOp\u001b[0m\u001b[0;34m(\u001b[0m\u001b[0mop\u001b[0m\u001b[0;34m=\u001b[0m\u001b[0mop\u001b[0m\u001b[0;34m,\u001b[0m \u001b[0mleft\u001b[0m\u001b[0;34m=\u001b[0m\u001b[0mnode\u001b[0m\u001b[0;34m.\u001b[0m\u001b[0mleft\u001b[0m\u001b[0;34m,\u001b[0m \u001b[0mright\u001b[0m\u001b[0;34m=\u001b[0m\u001b[0mcomps\u001b[0m\u001b[0;34m[\u001b[0m\u001b[0;36m0\u001b[0m\u001b[0;34m]\u001b[0m\u001b[0;34m)\u001b[0m\u001b[0;34m\u001b[0m\u001b[0;34m\u001b[0m\u001b[0m\n\u001b[0;32m--> 723\u001b[0;31m             \u001b[0;32mreturn\u001b[0m \u001b[0mself\u001b[0m\u001b[0;34m.\u001b[0m\u001b[0mvisit\u001b[0m\u001b[0;34m(\u001b[0m\u001b[0mbinop\u001b[0m\u001b[0;34m)\u001b[0m\u001b[0;34m\u001b[0m\u001b[0;34m\u001b[0m\u001b[0m\n\u001b[0m\u001b[1;32m    724\u001b[0m \u001b[0;34m\u001b[0m\u001b[0m\n\u001b[1;32m    725\u001b[0m         \u001b[0;31m# recursive case: we have a chained comparison, a CMP b CMP c, etc.\u001b[0m\u001b[0;34m\u001b[0m\u001b[0;34m\u001b[0m\u001b[0m\n",
            "\u001b[0;32m/usr/local/lib/python3.10/dist-packages/pandas/core/computation/expr.py\u001b[0m in \u001b[0;36mvisit\u001b[0;34m(self, node, **kwargs)\u001b[0m\n\u001b[1;32m    413\u001b[0m         \u001b[0mmethod\u001b[0m \u001b[0;34m=\u001b[0m \u001b[0;34m\"visit_\"\u001b[0m \u001b[0;34m+\u001b[0m \u001b[0mtype\u001b[0m\u001b[0;34m(\u001b[0m\u001b[0mnode\u001b[0m\u001b[0;34m)\u001b[0m\u001b[0;34m.\u001b[0m\u001b[0m__name__\u001b[0m\u001b[0;34m\u001b[0m\u001b[0;34m\u001b[0m\u001b[0m\n\u001b[1;32m    414\u001b[0m         \u001b[0mvisitor\u001b[0m \u001b[0;34m=\u001b[0m \u001b[0mgetattr\u001b[0m\u001b[0;34m(\u001b[0m\u001b[0mself\u001b[0m\u001b[0;34m,\u001b[0m \u001b[0mmethod\u001b[0m\u001b[0;34m)\u001b[0m\u001b[0;34m\u001b[0m\u001b[0;34m\u001b[0m\u001b[0m\n\u001b[0;32m--> 415\u001b[0;31m         \u001b[0;32mreturn\u001b[0m \u001b[0mvisitor\u001b[0m\u001b[0;34m(\u001b[0m\u001b[0mnode\u001b[0m\u001b[0;34m,\u001b[0m \u001b[0;34m**\u001b[0m\u001b[0mkwargs\u001b[0m\u001b[0;34m)\u001b[0m\u001b[0;34m\u001b[0m\u001b[0;34m\u001b[0m\u001b[0m\n\u001b[0m\u001b[1;32m    416\u001b[0m \u001b[0;34m\u001b[0m\u001b[0m\n\u001b[1;32m    417\u001b[0m     \u001b[0;32mdef\u001b[0m \u001b[0mvisit_Module\u001b[0m\u001b[0;34m(\u001b[0m\u001b[0mself\u001b[0m\u001b[0;34m,\u001b[0m \u001b[0mnode\u001b[0m\u001b[0;34m,\u001b[0m \u001b[0;34m**\u001b[0m\u001b[0mkwargs\u001b[0m\u001b[0;34m)\u001b[0m\u001b[0;34m:\u001b[0m\u001b[0;34m\u001b[0m\u001b[0;34m\u001b[0m\u001b[0m\n",
            "\u001b[0;32m/usr/local/lib/python3.10/dist-packages/pandas/core/computation/expr.py\u001b[0m in \u001b[0;36mvisit_BinOp\u001b[0;34m(self, node, **kwargs)\u001b[0m\n\u001b[1;32m    534\u001b[0m \u001b[0;34m\u001b[0m\u001b[0m\n\u001b[1;32m    535\u001b[0m     \u001b[0;32mdef\u001b[0m \u001b[0mvisit_BinOp\u001b[0m\u001b[0;34m(\u001b[0m\u001b[0mself\u001b[0m\u001b[0;34m,\u001b[0m \u001b[0mnode\u001b[0m\u001b[0;34m,\u001b[0m \u001b[0;34m**\u001b[0m\u001b[0mkwargs\u001b[0m\u001b[0;34m)\u001b[0m\u001b[0;34m:\u001b[0m\u001b[0;34m\u001b[0m\u001b[0;34m\u001b[0m\u001b[0m\n\u001b[0;32m--> 536\u001b[0;31m         \u001b[0mop\u001b[0m\u001b[0;34m,\u001b[0m \u001b[0mop_class\u001b[0m\u001b[0;34m,\u001b[0m \u001b[0mleft\u001b[0m\u001b[0;34m,\u001b[0m \u001b[0mright\u001b[0m \u001b[0;34m=\u001b[0m \u001b[0mself\u001b[0m\u001b[0;34m.\u001b[0m\u001b[0m_maybe_transform_eq_ne\u001b[0m\u001b[0;34m(\u001b[0m\u001b[0mnode\u001b[0m\u001b[0;34m)\u001b[0m\u001b[0;34m\u001b[0m\u001b[0;34m\u001b[0m\u001b[0m\n\u001b[0m\u001b[1;32m    537\u001b[0m         \u001b[0mleft\u001b[0m\u001b[0;34m,\u001b[0m \u001b[0mright\u001b[0m \u001b[0;34m=\u001b[0m \u001b[0mself\u001b[0m\u001b[0;34m.\u001b[0m\u001b[0m_maybe_downcast_constants\u001b[0m\u001b[0;34m(\u001b[0m\u001b[0mleft\u001b[0m\u001b[0;34m,\u001b[0m \u001b[0mright\u001b[0m\u001b[0;34m)\u001b[0m\u001b[0;34m\u001b[0m\u001b[0;34m\u001b[0m\u001b[0m\n\u001b[1;32m    538\u001b[0m         \u001b[0;32mreturn\u001b[0m \u001b[0mself\u001b[0m\u001b[0;34m.\u001b[0m\u001b[0m_maybe_evaluate_binop\u001b[0m\u001b[0;34m(\u001b[0m\u001b[0mop\u001b[0m\u001b[0;34m,\u001b[0m \u001b[0mop_class\u001b[0m\u001b[0;34m,\u001b[0m \u001b[0mleft\u001b[0m\u001b[0;34m,\u001b[0m \u001b[0mright\u001b[0m\u001b[0;34m)\u001b[0m\u001b[0;34m\u001b[0m\u001b[0;34m\u001b[0m\u001b[0m\n",
            "\u001b[0;32m/usr/local/lib/python3.10/dist-packages/pandas/core/computation/expr.py\u001b[0m in \u001b[0;36m_maybe_transform_eq_ne\u001b[0;34m(self, node, left, right)\u001b[0m\n\u001b[1;32m    454\u001b[0m     \u001b[0;32mdef\u001b[0m \u001b[0m_maybe_transform_eq_ne\u001b[0m\u001b[0;34m(\u001b[0m\u001b[0mself\u001b[0m\u001b[0;34m,\u001b[0m \u001b[0mnode\u001b[0m\u001b[0;34m,\u001b[0m \u001b[0mleft\u001b[0m\u001b[0;34m=\u001b[0m\u001b[0;32mNone\u001b[0m\u001b[0;34m,\u001b[0m \u001b[0mright\u001b[0m\u001b[0;34m=\u001b[0m\u001b[0;32mNone\u001b[0m\u001b[0;34m)\u001b[0m\u001b[0;34m:\u001b[0m\u001b[0;34m\u001b[0m\u001b[0;34m\u001b[0m\u001b[0m\n\u001b[1;32m    455\u001b[0m         \u001b[0;32mif\u001b[0m \u001b[0mleft\u001b[0m \u001b[0;32mis\u001b[0m \u001b[0;32mNone\u001b[0m\u001b[0;34m:\u001b[0m\u001b[0;34m\u001b[0m\u001b[0;34m\u001b[0m\u001b[0m\n\u001b[0;32m--> 456\u001b[0;31m             \u001b[0mleft\u001b[0m \u001b[0;34m=\u001b[0m \u001b[0mself\u001b[0m\u001b[0;34m.\u001b[0m\u001b[0mvisit\u001b[0m\u001b[0;34m(\u001b[0m\u001b[0mnode\u001b[0m\u001b[0;34m.\u001b[0m\u001b[0mleft\u001b[0m\u001b[0;34m,\u001b[0m \u001b[0mside\u001b[0m\u001b[0;34m=\u001b[0m\u001b[0;34m\"left\"\u001b[0m\u001b[0;34m)\u001b[0m\u001b[0;34m\u001b[0m\u001b[0;34m\u001b[0m\u001b[0m\n\u001b[0m\u001b[1;32m    457\u001b[0m         \u001b[0;32mif\u001b[0m \u001b[0mright\u001b[0m \u001b[0;32mis\u001b[0m \u001b[0;32mNone\u001b[0m\u001b[0;34m:\u001b[0m\u001b[0;34m\u001b[0m\u001b[0;34m\u001b[0m\u001b[0m\n\u001b[1;32m    458\u001b[0m             \u001b[0mright\u001b[0m \u001b[0;34m=\u001b[0m \u001b[0mself\u001b[0m\u001b[0;34m.\u001b[0m\u001b[0mvisit\u001b[0m\u001b[0;34m(\u001b[0m\u001b[0mnode\u001b[0m\u001b[0;34m.\u001b[0m\u001b[0mright\u001b[0m\u001b[0;34m,\u001b[0m \u001b[0mside\u001b[0m\u001b[0;34m=\u001b[0m\u001b[0;34m\"right\"\u001b[0m\u001b[0;34m)\u001b[0m\u001b[0;34m\u001b[0m\u001b[0;34m\u001b[0m\u001b[0m\n",
            "\u001b[0;32m/usr/local/lib/python3.10/dist-packages/pandas/core/computation/expr.py\u001b[0m in \u001b[0;36mvisit\u001b[0;34m(self, node, **kwargs)\u001b[0m\n\u001b[1;32m    413\u001b[0m         \u001b[0mmethod\u001b[0m \u001b[0;34m=\u001b[0m \u001b[0;34m\"visit_\"\u001b[0m \u001b[0;34m+\u001b[0m \u001b[0mtype\u001b[0m\u001b[0;34m(\u001b[0m\u001b[0mnode\u001b[0m\u001b[0;34m)\u001b[0m\u001b[0;34m.\u001b[0m\u001b[0m__name__\u001b[0m\u001b[0;34m\u001b[0m\u001b[0;34m\u001b[0m\u001b[0m\n\u001b[1;32m    414\u001b[0m         \u001b[0mvisitor\u001b[0m \u001b[0;34m=\u001b[0m \u001b[0mgetattr\u001b[0m\u001b[0;34m(\u001b[0m\u001b[0mself\u001b[0m\u001b[0;34m,\u001b[0m \u001b[0mmethod\u001b[0m\u001b[0;34m)\u001b[0m\u001b[0;34m\u001b[0m\u001b[0;34m\u001b[0m\u001b[0m\n\u001b[0;32m--> 415\u001b[0;31m         \u001b[0;32mreturn\u001b[0m \u001b[0mvisitor\u001b[0m\u001b[0;34m(\u001b[0m\u001b[0mnode\u001b[0m\u001b[0;34m,\u001b[0m \u001b[0;34m**\u001b[0m\u001b[0mkwargs\u001b[0m\u001b[0;34m)\u001b[0m\u001b[0;34m\u001b[0m\u001b[0;34m\u001b[0m\u001b[0m\n\u001b[0m\u001b[1;32m    416\u001b[0m \u001b[0;34m\u001b[0m\u001b[0m\n\u001b[1;32m    417\u001b[0m     \u001b[0;32mdef\u001b[0m \u001b[0mvisit_Module\u001b[0m\u001b[0;34m(\u001b[0m\u001b[0mself\u001b[0m\u001b[0;34m,\u001b[0m \u001b[0mnode\u001b[0m\u001b[0;34m,\u001b[0m \u001b[0;34m**\u001b[0m\u001b[0mkwargs\u001b[0m\u001b[0;34m)\u001b[0m\u001b[0;34m:\u001b[0m\u001b[0;34m\u001b[0m\u001b[0;34m\u001b[0m\u001b[0m\n",
            "\u001b[0;32m/usr/local/lib/python3.10/dist-packages/pandas/core/computation/expr.py\u001b[0m in \u001b[0;36mvisit_Name\u001b[0;34m(self, node, **kwargs)\u001b[0m\n\u001b[1;32m    547\u001b[0m \u001b[0;34m\u001b[0m\u001b[0m\n\u001b[1;32m    548\u001b[0m     \u001b[0;32mdef\u001b[0m \u001b[0mvisit_Name\u001b[0m\u001b[0;34m(\u001b[0m\u001b[0mself\u001b[0m\u001b[0;34m,\u001b[0m \u001b[0mnode\u001b[0m\u001b[0;34m,\u001b[0m \u001b[0;34m**\u001b[0m\u001b[0mkwargs\u001b[0m\u001b[0;34m)\u001b[0m\u001b[0;34m:\u001b[0m\u001b[0;34m\u001b[0m\u001b[0;34m\u001b[0m\u001b[0m\n\u001b[0;32m--> 549\u001b[0;31m         \u001b[0;32mreturn\u001b[0m \u001b[0mself\u001b[0m\u001b[0;34m.\u001b[0m\u001b[0mterm_type\u001b[0m\u001b[0;34m(\u001b[0m\u001b[0mnode\u001b[0m\u001b[0;34m.\u001b[0m\u001b[0mid\u001b[0m\u001b[0;34m,\u001b[0m \u001b[0mself\u001b[0m\u001b[0;34m.\u001b[0m\u001b[0menv\u001b[0m\u001b[0;34m,\u001b[0m \u001b[0;34m**\u001b[0m\u001b[0mkwargs\u001b[0m\u001b[0;34m)\u001b[0m\u001b[0;34m\u001b[0m\u001b[0;34m\u001b[0m\u001b[0m\n\u001b[0m\u001b[1;32m    550\u001b[0m \u001b[0;34m\u001b[0m\u001b[0m\n\u001b[1;32m    551\u001b[0m     \u001b[0;32mdef\u001b[0m \u001b[0mvisit_NameConstant\u001b[0m\u001b[0;34m(\u001b[0m\u001b[0mself\u001b[0m\u001b[0;34m,\u001b[0m \u001b[0mnode\u001b[0m\u001b[0;34m,\u001b[0m \u001b[0;34m**\u001b[0m\u001b[0mkwargs\u001b[0m\u001b[0;34m)\u001b[0m \u001b[0;34m->\u001b[0m \u001b[0mTerm\u001b[0m\u001b[0;34m:\u001b[0m\u001b[0;34m\u001b[0m\u001b[0;34m\u001b[0m\u001b[0m\n",
            "\u001b[0;32m/usr/local/lib/python3.10/dist-packages/pandas/core/computation/ops.py\u001b[0m in \u001b[0;36m__init__\u001b[0;34m(self, name, env, side, encoding)\u001b[0m\n\u001b[1;32m     83\u001b[0m         \u001b[0mtname\u001b[0m \u001b[0;34m=\u001b[0m \u001b[0mstr\u001b[0m\u001b[0;34m(\u001b[0m\u001b[0mname\u001b[0m\u001b[0;34m)\u001b[0m\u001b[0;34m\u001b[0m\u001b[0;34m\u001b[0m\u001b[0m\n\u001b[1;32m     84\u001b[0m         \u001b[0mself\u001b[0m\u001b[0;34m.\u001b[0m\u001b[0mis_local\u001b[0m \u001b[0;34m=\u001b[0m \u001b[0mtname\u001b[0m\u001b[0;34m.\u001b[0m\u001b[0mstartswith\u001b[0m\u001b[0;34m(\u001b[0m\u001b[0mLOCAL_TAG\u001b[0m\u001b[0;34m)\u001b[0m \u001b[0;32mor\u001b[0m \u001b[0mtname\u001b[0m \u001b[0;32min\u001b[0m \u001b[0mDEFAULT_GLOBALS\u001b[0m\u001b[0;34m\u001b[0m\u001b[0;34m\u001b[0m\u001b[0m\n\u001b[0;32m---> 85\u001b[0;31m         \u001b[0mself\u001b[0m\u001b[0;34m.\u001b[0m\u001b[0m_value\u001b[0m \u001b[0;34m=\u001b[0m \u001b[0mself\u001b[0m\u001b[0;34m.\u001b[0m\u001b[0m_resolve_name\u001b[0m\u001b[0;34m(\u001b[0m\u001b[0;34m)\u001b[0m\u001b[0;34m\u001b[0m\u001b[0;34m\u001b[0m\u001b[0m\n\u001b[0m\u001b[1;32m     86\u001b[0m         \u001b[0mself\u001b[0m\u001b[0;34m.\u001b[0m\u001b[0mencoding\u001b[0m \u001b[0;34m=\u001b[0m \u001b[0mencoding\u001b[0m\u001b[0;34m\u001b[0m\u001b[0;34m\u001b[0m\u001b[0m\n\u001b[1;32m     87\u001b[0m \u001b[0;34m\u001b[0m\u001b[0m\n",
            "\u001b[0;32m/usr/local/lib/python3.10/dist-packages/pandas/core/computation/ops.py\u001b[0m in \u001b[0;36m_resolve_name\u001b[0;34m(self)\u001b[0m\n\u001b[1;32m    107\u001b[0m             \u001b[0mis_local\u001b[0m \u001b[0;34m=\u001b[0m \u001b[0;32mFalse\u001b[0m\u001b[0;34m\u001b[0m\u001b[0;34m\u001b[0m\u001b[0m\n\u001b[1;32m    108\u001b[0m \u001b[0;34m\u001b[0m\u001b[0m\n\u001b[0;32m--> 109\u001b[0;31m         \u001b[0mres\u001b[0m \u001b[0;34m=\u001b[0m \u001b[0mself\u001b[0m\u001b[0;34m.\u001b[0m\u001b[0menv\u001b[0m\u001b[0;34m.\u001b[0m\u001b[0mresolve\u001b[0m\u001b[0;34m(\u001b[0m\u001b[0mlocal_name\u001b[0m\u001b[0;34m,\u001b[0m \u001b[0mis_local\u001b[0m\u001b[0;34m=\u001b[0m\u001b[0mis_local\u001b[0m\u001b[0;34m)\u001b[0m\u001b[0;34m\u001b[0m\u001b[0;34m\u001b[0m\u001b[0m\n\u001b[0m\u001b[1;32m    110\u001b[0m         \u001b[0mself\u001b[0m\u001b[0;34m.\u001b[0m\u001b[0mupdate\u001b[0m\u001b[0;34m(\u001b[0m\u001b[0mres\u001b[0m\u001b[0;34m)\u001b[0m\u001b[0;34m\u001b[0m\u001b[0;34m\u001b[0m\u001b[0m\n\u001b[1;32m    111\u001b[0m \u001b[0;34m\u001b[0m\u001b[0m\n",
            "\u001b[0;32m/usr/local/lib/python3.10/dist-packages/pandas/core/computation/scope.py\u001b[0m in \u001b[0;36mresolve\u001b[0;34m(self, key, is_local)\u001b[0m\n\u001b[1;32m    209\u001b[0m                 \u001b[0;32mreturn\u001b[0m \u001b[0mself\u001b[0m\u001b[0;34m.\u001b[0m\u001b[0mtemps\u001b[0m\u001b[0;34m[\u001b[0m\u001b[0mkey\u001b[0m\u001b[0;34m]\u001b[0m\u001b[0;34m\u001b[0m\u001b[0;34m\u001b[0m\u001b[0m\n\u001b[1;32m    210\u001b[0m             \u001b[0;32mexcept\u001b[0m \u001b[0mKeyError\u001b[0m \u001b[0;32mas\u001b[0m \u001b[0merr\u001b[0m\u001b[0;34m:\u001b[0m\u001b[0;34m\u001b[0m\u001b[0;34m\u001b[0m\u001b[0m\n\u001b[0;32m--> 211\u001b[0;31m                 \u001b[0;32mraise\u001b[0m \u001b[0mUndefinedVariableError\u001b[0m\u001b[0;34m(\u001b[0m\u001b[0mkey\u001b[0m\u001b[0;34m,\u001b[0m \u001b[0mis_local\u001b[0m\u001b[0;34m)\u001b[0m \u001b[0;32mfrom\u001b[0m \u001b[0merr\u001b[0m\u001b[0;34m\u001b[0m\u001b[0;34m\u001b[0m\u001b[0m\n\u001b[0m\u001b[1;32m    212\u001b[0m \u001b[0;34m\u001b[0m\u001b[0m\n\u001b[1;32m    213\u001b[0m     \u001b[0;32mdef\u001b[0m \u001b[0mswapkey\u001b[0m\u001b[0;34m(\u001b[0m\u001b[0mself\u001b[0m\u001b[0;34m,\u001b[0m \u001b[0mold_key\u001b[0m\u001b[0;34m:\u001b[0m \u001b[0mstr\u001b[0m\u001b[0;34m,\u001b[0m \u001b[0mnew_key\u001b[0m\u001b[0;34m:\u001b[0m \u001b[0mstr\u001b[0m\u001b[0;34m,\u001b[0m \u001b[0mnew_value\u001b[0m\u001b[0;34m=\u001b[0m\u001b[0;32mNone\u001b[0m\u001b[0;34m)\u001b[0m \u001b[0;34m->\u001b[0m \u001b[0;32mNone\u001b[0m\u001b[0;34m:\u001b[0m\u001b[0;34m\u001b[0m\u001b[0;34m\u001b[0m\u001b[0m\n",
            "\u001b[0;31mUndefinedVariableError\u001b[0m: name 'itemid' is not defined"
          ]
        }
      ],
      "source": [
        "all_items = train.query('itemid in @test_items')['itemid'].unique()\n",
        "\n",
        "sub_10_items = all_items[train.query('itemid in @test_items').groupby('itemid')['userid'].count() <= items_quant_10]\n",
        "sub_50_items = all_items[train.query('itemid in @test_items').groupby('itemid')['userid'].count() <= items_quant_50]\n",
        "\n",
        "all_users = train.query('userid in @test_users')['userid'].unique()\n",
        "\n",
        "sub_10_users = sorted(all_users[train.query('userid in @test_users').groupby('userid')['itemid'].count() <= users_quant_10])\n",
        "sub_50_users = sorted(all_users[train.query('userid in @test_users').groupby('userid')['itemid'].count() <= users_quant_50])"
      ]
    },
    {
      "cell_type": "code",
      "execution_count": null,
      "id": "ea2b4d49",
      "metadata": {
        "colab": {
          "base_uri": "https://localhost:8080/"
        },
        "id": "ea2b4d49",
        "outputId": "7938e689-408b-4f48-f0a3-a8424eb1915c"
      },
      "outputs": [
        {
          "output_type": "execute_result",
          "data": {
            "text/plain": [
              "(3123, 300)"
            ]
          },
          "metadata": {},
          "execution_count": 136
        }
      ],
      "source": [
        "items_feats.shape"
      ]
    },
    {
      "cell_type": "code",
      "execution_count": null,
      "id": "2e36fd2b",
      "metadata": {
        "id": "2e36fd2b"
      },
      "outputs": [],
      "source": [
        "normed_mat_users = np.array(((user_embeds.T) * 1 / np.linalg.norm(user_embeds, 2, axis=1)))\n",
        "normed_mat_protos_user = np.array(((user_protos.T) * (1 / np.linalg.norm(user_protos, 2, axis=1))))\n",
        "user_to_protos = (1 + np.dot(normed_mat_users.T, normed_mat_protos_user))\n",
        "#user_scores = user_to_protos.dot(items_feats.T)\n",
        "\n",
        "normed_mat_items = np.array(((item_embeds.T) * 1 / np.linalg.norm(item_embeds, 2, axis=1)))\n",
        "normed_mat_protos_item = np.array(((item_protos.T) * (1 / np.linalg.norm(item_protos, 2, axis=1))))\n",
        "item_to_protos = (1 + np.dot(normed_mat_items.T, normed_mat_protos_item))\n",
        "#item_scores = item_to_protos.dot(user_feats.T)\n"
      ]
    },
    {
      "cell_type": "code",
      "execution_count": null,
      "id": "705913a8",
      "metadata": {
        "id": "705913a8"
      },
      "outputs": [],
      "source": [
        "normed_mat_users = np.array(((user_embeds.T) * 1 / np.linalg.norm(user_embeds, 2, axis=1)))\n",
        "normed_mat_protos = np.array(((user_protos.T) * (1 / np.linalg.norm(user_protos, 2, axis=1))))\n",
        "user_to_protos = (1 + np.dot(normed_mat_users.T, normed_mat_protos))\n",
        "scores = user_to_protos.dot(items_feats.T)\n",
        "top_20 = scores.argsort()[:, ::-1][:,:20]"
      ]
    },
    {
      "cell_type": "code",
      "execution_count": null,
      "id": "6cb3bc63",
      "metadata": {
        "id": "6cb3bc63",
        "outputId": "ceb82b91-07a3-46ce-d935-80a1fce2ca7e"
      },
      "outputs": [
        {
          "data": {
            "text/plain": [
              "array([[ 526,  222,  926, ...,   98,   48,  927],\n",
              "       [ 222,  926, 2257, ..., 2137, 2179,  930],\n",
              "       [ 926,  222, 2257, ...,   98,  944, 1254],\n",
              "       ...,\n",
              "       [ 926, 2257,  928, ..., 2137,  940, 2375],\n",
              "       [2257,  526,  222, ...,  511,    0,  944],\n",
              "       [ 526,  928,  222, ..., 2137,  864,  944]], dtype=int64)"
            ]
          },
          "execution_count": 45,
          "metadata": {},
          "output_type": "execute_result"
        }
      ],
      "source": [
        "top_20"
      ]
    },
    {
      "cell_type": "code",
      "execution_count": null,
      "id": "2cd29443",
      "metadata": {
        "scrolled": true,
        "id": "2cd29443"
      },
      "outputs": [],
      "source": [
        "valid = pd.read_excel(r'C:\\Users\\aleke\\Downloads\\KION_DATASET\\ProtoMF\\data\\ml\\valid_ml_our_split.xlsx')\n",
        "test = pd.read_excel(r'C:\\Users\\aleke\\Downloads\\KION_DATASET\\ProtoMF\\data\\ml\\test_ml_our_split.xlsx')\n",
        "train= pd.read_excel(r'C:\\Users\\aleke\\Downloads\\KION_DATASET\\ProtoMF\\data\\ml\\train_ml_our_split.xlsx')"
      ]
    },
    {
      "cell_type": "code",
      "execution_count": null,
      "id": "53f9cf50",
      "metadata": {
        "id": "53f9cf50"
      },
      "outputs": [],
      "source": [
        "def hr_score(top_n_items, real_likes):\n",
        "    mask = (top_n_items[...,None] == real_likes[:,None]).any(2)\n",
        "    return mask.any(axis=1).mean()\n",
        "\n",
        "def mrr_score(top_n_items, real_likes):\n",
        "    idx = np.arange(1, top_n_items.shape[1] + 1)[None, :]\n",
        "    mask = (top_n_items[...,None] == real_likes[:,None]).any(2)\n",
        "    return (mask / idx).max(axis=1).mean()\n",
        "\n",
        "def coverage_score(top_n_items, total_item_count):\n",
        "    return len(np.unique(top_n_items)) * 1.0 / total_item_count"
      ]
    },
    {
      "cell_type": "code",
      "execution_count": null,
      "id": "1e9ff40a",
      "metadata": {
        "id": "1e9ff40a"
      },
      "outputs": [],
      "source": [
        "max_likes = test.groupby('userid')['itemid'].apply(len).max()\n"
      ]
    },
    {
      "cell_type": "code",
      "execution_count": null,
      "id": "cf4b7c4c",
      "metadata": {
        "id": "cf4b7c4c",
        "outputId": "8831d45a-7aa7-4bea-866c-1b833e79d965"
      },
      "outputs": [
        {
          "data": {
            "text/plain": [
              "0.4154676258992806"
            ]
          },
          "execution_count": 61,
          "metadata": {},
          "output_type": "execute_result"
        }
      ],
      "source": [
        "test_likes = test.groupby('userid')['itemid'].apply(lambda x: list(np.pad(x, (0, max_likes - len(x)), 'constant', constant_values=-1)))\n",
        "\n",
        "test_users = test_likes.index\n",
        "test_likes = np.asarray(list(test_likes))\n",
        "hr_score(top_20[test_users], np.array(test_likes))"
      ]
    },
    {
      "cell_type": "markdown",
      "source": [
        "# Explanation"
      ],
      "metadata": {
        "id": "SPWRyFbTPHYs"
      },
      "id": "SPWRyFbTPHYs"
    },
    {
      "cell_type": "markdown",
      "source": [
        "##### dataIndex"
      ],
      "metadata": {
        "id": "MWiAhKHVYhkn"
      },
      "id": "MWiAhKHVYhkn"
    },
    {
      "cell_type": "code",
      "source": [
        "from polara import get_movielens_data\n",
        "from dataprep import transform_indices, leave_last_out, verify_time_split, reindex_data, generate_interactions_matrix\n",
        "\n",
        "def take_data_index():\n",
        "    def split_by_time(data, time_q=0.95, timeid='timestamp'):\n",
        "        split_timepoint = data[timeid].quantile(q=time_q, interpolation='nearest')\n",
        "        after = data.query(f'{timeid} >= @split_timepoint')\n",
        "        before = data.drop(after.index)\n",
        "        return before, after\n",
        "\n",
        "    def align_test_by_users(testset, holdout):\n",
        "        test_users = np.intersect1d(holdout['userid'].values, testset['userid'].values)\n",
        "        # only allow the same users to be present in both datasets\n",
        "        testset = testset.query('userid in @test_users').sort_values('userid')\n",
        "        holdout = holdout.query('userid in @test_users').sort_values('userid')\n",
        "        return testset, holdout\n",
        "\n",
        "    def k_core_filtering(data, k=5):\n",
        "        while True:\n",
        "            start_number = len(data)\n",
        "\n",
        "            # Item pass\n",
        "            item_counts = data.itemid.value_counts()\n",
        "            item_above = set(item_counts[item_counts >= 5].index)\n",
        "            data = data[data.itemid.isin(item_above)]\n",
        "            print('Records after item pass: ', len(data))\n",
        "\n",
        "            # User pass\n",
        "            user_counts = data.userid.value_counts()\n",
        "            user_above = set(user_counts[user_counts >= 5].index)\n",
        "            data = data[data.userid.isin(user_above)]\n",
        "            print('Records after user pass: ', len(data))\n",
        "\n",
        "            if len(data) == start_number:\n",
        "                print('Exiting...')\n",
        "                return data\n",
        "\n",
        "    def get_train_test_data_for_validation_movielens(data):\n",
        "        data = data.query('rating >= 3.5')\n",
        "\n",
        "        data = k_core_filtering(data)\n",
        "\n",
        "        train, after = split_by_time(data)\n",
        "        valid, test = split_by_time(after, time_q=0.5)\n",
        "        train_users = train.userid.unique()\n",
        "        train_items = train.itemid.unique()\n",
        "\n",
        "        valid = valid.query('userid in @train_users and itemid in @train_items')\n",
        "        test = test.query('userid in @train_users and itemid in @train_items')\n",
        "\n",
        "        train, data_index = transform_indices(train, 'userid', 'itemid')\n",
        "        valid = reindex_data(valid, data_index)\n",
        "        test = reindex_data(test, data_index)\n",
        "\n",
        "        return train, valid, test, data_index\n",
        "\n",
        "    data = get_movielens_data(include_time=True)\n",
        "    data = data.rename({'movieid': 'itemid'}, axis=1)\n",
        "\n",
        "    train, valid, test, data_index = get_train_test_data_for_validation_movielens(data)\n",
        "    return data_index"
      ],
      "metadata": {
        "id": "qtdhjKg5Vqf4"
      },
      "id": "qtdhjKg5Vqf4",
      "execution_count": 50,
      "outputs": []
    },
    {
      "cell_type": "markdown",
      "source": [
        "##### Main functions"
      ],
      "metadata": {
        "id": "zU8JjcsJYmKm"
      },
      "id": "zU8JjcsJYmKm"
    },
    {
      "cell_type": "code",
      "source": [
        "from rec_sys_folder.explanations_utils import tsne_plot, get_top_k_items, weight_visualization\n",
        "\n",
        "def load_model_trainer_torch(model_path):\n",
        "    model_trainer = trainer._build_model()\n",
        "\n",
        "    state_dict = torch.load(model_path)\n",
        "    model_trainer.state_dict().keys()\n",
        "    new_s = {}\n",
        "    for key, value in state_dict.items():\n",
        "        new_s[\"module.\" + key] = value\n",
        "\n",
        "    model_state_dict = model_trainer.state_dict()\n",
        "\n",
        "    assert set(list(model_state_dict.keys())) - set(list(new_s.keys())) == set()\n",
        "    model_trainer.eval()\n",
        "    model_trainer.load_state_dict(new_s)\n",
        "\n",
        "    model_torch = torch.load(model_path)\n",
        "\n",
        "    return model_trainer, model_torch\n",
        "\n",
        "def get_models_params(model_torch):\n",
        "    items_feats = np.array(model_torch['item_feature_extractor.model_2.embedding_layer.weight'].to('cpu'))\n",
        "    user_feats = np.array(model_torch['user_feature_extractor.model_2.embedding_layer.weight'].to('cpu'))\n",
        "    user_protos = np.array(model_torch['user_feature_extractor.model_1.prototypes'].to('cpu'))\n",
        "    user_embeds = np.array(model_torch['user_feature_extractor.model_1.embedding_ext.embedding_layer.weight'].to('cpu'))\n",
        "    item_protos = np.array(model_torch['item_feature_extractor.model_1.prototypes'].to('cpu'))\n",
        "    item_embeds = np.array(model_torch['item_feature_extractor.model_1.embedding_ext.embedding_layer.weight'].to('cpu'))\n",
        "    item_lin_feats = np.array(model_torch['item_feature_extractor.model_2.linear_layer.weight'].to('cpu'))\n",
        "    user_lin_feats = np.array(model_torch['user_feature_extractor.model_2.linear_layer.weight'].to('cpu'))\n",
        "\n",
        "    return user_feats, user_embeds, user_protos, items_feats, item_embeds, item_protos, item_lin_feats, user_lin_feats"
      ],
      "metadata": {
        "id": "bJ2FranNOc1K"
      },
      "id": "bJ2FranNOc1K",
      "execution_count": 51,
      "outputs": []
    },
    {
      "cell_type": "code",
      "source": [
        "def movie_data_preparation_for_explanation():\n",
        "    # for work with index. in movie id set new indeces\n",
        "    data_index = take_data_index() # oldindex = data_index[items][newindex] or newindex=np.where(data_index[items]==oldindex)\n",
        "    data_index_items = data_index['items'].to_numpy()\n",
        "    _, movie_df = get_movielens_data(include_time=True, get_genres=True, split_genres=True) # use old index\n",
        "    movie_df = movie_df.query('movieid in @data_index_items')\n",
        "    movie_df['movieid'] = movie_df['movieid'].apply(lambda id: np.where(data_index_items==id)[0].item())\n",
        "    movie_df = movie_df.rename(columns={\"movieid\": \"item_id\"})\n",
        "    movie_df = movie_df.groupby('item_id', as_index=False).agg({'genreid': lambda x: list(x), 'movienm':lambda x: list(x)[0]})\n",
        "\n",
        "    return movie_df, data_index"
      ],
      "metadata": {
        "id": "uZbqVq-YTae7"
      },
      "id": "uZbqVq-YTae7",
      "execution_count": 52,
      "outputs": []
    },
    {
      "cell_type": "code",
      "source": [
        "import os\n",
        "from  sklearn.metrics.pairwise import cosine_similarity\n",
        "\n",
        "def visualisation(model_path, path_save_fig=None, TSNE=False):\n",
        "    #for futurre saving files\n",
        "    if path_save_fig is None:\n",
        "        model_name = model_path[model_path.rfind('/')+1:]\n",
        "        if not os.path.exists('explanation'): os.mkdir('explanation')\n",
        "        if not os.path.exists(f'explanation/{model_name}'): os.mkdir(f'explanation/{model_name}')\n",
        "        path_save_fig = f'explanation/{model_name}/'\n",
        "\n",
        "    # download model and params\n",
        "    model_trainer, model_torch = load_model_trainer_torch(model_path)\n",
        "    user_feats, user_embeds, user_protos, items_feats, item_embeds, item_protos, item_lin_feats, user_lin_feats = get_models_params(model_torch)\n",
        "\n",
        "    # create tsne representation\n",
        "    if TSNE:\n",
        "        tsne_plot(user_embeds, prototypes=user_protos, object_legend_text='User', perplexity=5,\n",
        "                  path_save_fig = path_save_fig+'tsne_userEmb_prototypes')\n",
        "\n",
        "        tsne_plot(item_embeds, prototypes=user_protos, object_legend_text='Item', perplexity=5,\n",
        "                  path_save_fig = path_save_fig+'tsne_itemEmb_prototypes')\n",
        "\n",
        "    # movie data\n",
        "    movie_df, _ = movie_data_preparation_for_explanation()\n",
        "\n",
        "    # representation of items prototypes\n",
        "    # закидываем просто матрицу симилярити\n",
        "    item_to_protos = cosine_similarity(item_embeds, item_protos) + 1\n",
        "\n",
        "    item_ptotos_interpret = pd.DataFrame()\n",
        "    for p_id in range(item_to_protos.shape[1]):\n",
        "          item_infos_top_k = get_top_k_items(item_weights=item_to_protos, items_info=movie_df, proto_idx=p_id, top_k = 5, invert = False)\n",
        "          item_infos_top_k['proto_id'] = p_id\n",
        "          item_ptotos_interpret = pd.concat((item_ptotos_interpret, item_infos_top_k.reset_index()))\n",
        "    item_ptotos_interpret.to_csv(path_save_fig+'item_ptotos_interpret_topk.csv')\n",
        "\n",
        "    # representation of users prototypes\n",
        "    # делаем что бы юзер соотносился одному прототипу\n",
        "    user_to_protos = np.eye(user_protos.shape[0]) * 2 # [user; userproto]\n",
        "    user_proto_item_scores = user_to_protos.dot(item_lin_feats.dot(item_embeds.T)) # [user_proto; item]\n",
        "\n",
        "    user_ptotos_interpret = pd.DataFrame()\n",
        "    for p_id in range(user_to_protos.shape[1]):\n",
        "          user_infos_top_k = get_top_k_items(item_weights=user_proto_item_scores.T, items_info=movie_df, proto_idx=p_id, top_k = 5, invert = False)\n",
        "          user_infos_top_k['proto_id'] = p_id\n",
        "          user_ptotos_interpret = pd.concat((user_ptotos_interpret, user_infos_top_k.reset_index()))\n",
        "    user_ptotos_interpret.to_csv(path_save_fig+'user_ptotos_interpret_topk.csv')\n",
        "\n",
        "    return item_ptotos_interpret, user_ptotos_interpret"
      ],
      "metadata": {
        "id": "WhZTBFUHudn6"
      },
      "id": "WhZTBFUHudn6",
      "execution_count": 53,
      "outputs": []
    },
    {
      "cell_type": "code",
      "source": [
        "def take_top_interpret_proto(item_ptotos_interpret, topk=5):\n",
        "    top_proto_ids_max = item_ptotos_interpret.groupby('proto_id').agg({'item weight': 'max'}).sort_values('item weight').index[-topk:]\n",
        "    top_proto_ids_sum = item_ptotos_interpret.groupby('proto_id').agg({'item weight': 'sum'}).sort_values('item weight').index[-topk:]\n",
        "    # разницы нет\n",
        "    return item_ptotos_interpret[item_ptotos_interpret.proto_id.isin(top_proto_ids_max)], item_ptotos_interpret[item_ptotos_interpret.proto_id.isin(top_proto_ids_max)]"
      ],
      "metadata": {
        "id": "Swltfky7xGny"
      },
      "id": "Swltfky7xGny",
      "execution_count": 54,
      "outputs": []
    },
    {
      "cell_type": "code",
      "source": [
        "def take_scores_by_matrices(model_torch, test_users):\n",
        "    user_feats, user_embeds, user_protos, items_feats, item_embeds, item_protos, item_lin_feats, user_lin_feats = get_models_params(model_torch)\n",
        "    U_score = (1 + cosine_similarity(user_embeds, user_protos)).dot(item_lin_feats.dot(item_embeds.T))\n",
        "    I_score = user_embeds.dot(user_lin_feats.T).dot((1 + cosine_similarity(item_embeds, item_protos)).T)\n",
        "    ALL_score = U_score + I_score\n",
        "    return ALL_score[test_users]"
      ],
      "metadata": {
        "id": "I9Wrf59pSmUM"
      },
      "id": "I9Wrf59pSmUM",
      "execution_count": 55,
      "outputs": []
    },
    {
      "cell_type": "code",
      "source": [
        "model_path = 'experiments/full_train/12242023.150630/best_model_10.pth'\n",
        "model_trainer, model_torch = load_model_trainer_torch(model_path)\n",
        "user_feats, user_embeds, user_protos, items_feats, item_embeds, item_protos, item_lin_feats, user_lin_feats = get_models_params(model_torch)"
      ],
      "metadata": {
        "id": "nRvlpmJ20yFo"
      },
      "id": "nRvlpmJ20yFo",
      "execution_count": null,
      "outputs": []
    },
    {
      "cell_type": "code",
      "source": [
        "model_path = 'experiments/full_train/12242023.150630/best_model_10.pth'\n",
        "item_interp_df, user_interp_df = visualisation(model_path)"
      ],
      "metadata": {
        "id": "DtEIxem_VvAl"
      },
      "id": "DtEIxem_VvAl",
      "execution_count": null,
      "outputs": []
    },
    {
      "cell_type": "code",
      "source": [
        "user_interp_df[user_interp_df.proto_id==0][['genreid','movienm']].to_numpy()"
      ],
      "metadata": {
        "colab": {
          "base_uri": "https://localhost:8080/"
        },
        "id": "s6ncGbkEyxil",
        "outputId": "7ae2b3f6-c970-4954-94ac-cefb75fce49e"
      },
      "id": "s6ncGbkEyxil",
      "execution_count": 131,
      "outputs": [
        {
          "output_type": "execute_result",
          "data": {
            "text/plain": [
              "array([[list(['Drama']), 'Verdict, The (1982)'],\n",
              "       [list(['Action', 'Sci-Fi']), 'X-Men (2000)'],\n",
              "       [list(['Comedy']), 'Bull Durham (1988)'],\n",
              "       [list(['Drama', 'Thriller']), 'Frequency (2000)'],\n",
              "       [list(['Drama', 'Mystery']), 'JFK (1991)']], dtype=object)"
            ]
          },
          "metadata": {},
          "execution_count": 131
        }
      ]
    },
    {
      "cell_type": "code",
      "source": [
        "# берем какой нибудь фильм, какого ни будь пользователя и смотрим какие прототипы повлияют на их коннект\n",
        "user_id = 0\n",
        "item_id = 0\n",
        "u_sim_mtx = 1 + cosine_similarity(user_embeds, user_protos) #[user, user_prot]\n",
        "u_proj = user_embeds.dot(user_lin_feats.T) #[project, users]\n",
        "i_sim_mtx = 1 + cosine_similarity(item_embeds, item_protos) #[item, item_proto]\n",
        "i_proj = item_embeds.dot(item_lin_feats.T) #[proj, items]"
      ],
      "metadata": {
        "id": "b1RNog1iWfy2"
      },
      "id": "b1RNog1iWfy2",
      "execution_count": 93,
      "outputs": []
    },
    {
      "cell_type": "code",
      "source": [
        "import numpy as np\n",
        "import pandas as pd\n",
        "from matplotlib import pyplot as plt\n",
        "\n",
        "def weight_visualization(u_sim_mtx: np.ndarray, u_proj: np.ndarray, i_sim_mtx: np.ndarray, i_proj: np.ndarray,\n",
        "                         annotate_top_k: int = 3, item_ptotos_interpret=None, user_ptotos_interpret=None, item_id=None,\n",
        "                         verbose_proto_info=False, path_save_fig=None):\n",
        "    \"\"\"\n",
        "    Creates weight visualization plots which is used to explain the recommendation of ProtoMF\n",
        "    :param u_sim_mtx,...,i_proj: vectors that are obtained by the UI-PROTOMF model given the user and item pair.\n",
        "    :param annotate_top_k: how many of the highest logits need to be annotated\n",
        "    \"\"\"\n",
        "\n",
        "    rescale = lambda y: 1 - ((y + np.max(y)) / (np.max(y) * 2))\n",
        "\n",
        "    def compute_ylims(array):\n",
        "        y_lim_max = np.max(array) * (1 + 1 / 9)\n",
        "        y_lim_min = np.min(array) * (1 + 1 / 9)\n",
        "        return y_lim_min, y_lim_max\n",
        "\n",
        "    # Computing the logits\n",
        "\n",
        "    u_prods = u_sim_mtx * i_proj\n",
        "    i_prods = i_sim_mtx * u_proj\n",
        "\n",
        "    u_dot = u_prods.sum()\n",
        "    i_dot = i_prods.sum()\n",
        "\n",
        "    i_n_prototypes = i_sim_mtx.shape[-1]\n",
        "    u_n_prototypes = u_sim_mtx.shape[-1]\n",
        "\n",
        "    # Rescale the plots according to the number of prototypes\n",
        "    i_vis_ratio = i_n_prototypes / (i_n_prototypes + u_n_prototypes)\n",
        "    u_vis_ratio = 1 - i_vis_ratio\n",
        "\n",
        "    # Compute max and mins of the visualization of the logits\n",
        "    prods_lims = compute_ylims(np.concatenate([u_prods, i_prods]))\n",
        "    proj_lims = compute_ylims(np.concatenate([u_proj, i_proj]))\n",
        "    sim_mtx_lims = (0, compute_ylims(np.concatenate([u_sim_mtx, i_sim_mtx]))[1])\n",
        "\n",
        "    # Plotting the users\n",
        "    u_fig, u_axes = plt.subplots(3, 2, sharey='row', dpi=100, figsize=(20 * u_vis_ratio, 10))\n",
        "    u_x = np.arange(u_n_prototypes)\n",
        "\n",
        "    bars_u_prods = u_axes[0][0].bar(u_x, u_prods, color=plt.get_cmap('coolwarm')(rescale(u_prods)))\n",
        "    bars_i_proj = u_axes[1][0].bar(u_x, i_proj, color=plt.get_cmap('coolwarm')(rescale(i_proj)))\n",
        "    bars_u_sim_mtx = u_axes[2][0].bar(u_x, u_sim_mtx, color=plt.get_cmap('coolwarm')(rescale(u_sim_mtx)))\n",
        "\n",
        "    u_axes[0][0].set_ylim(prods_lims)\n",
        "    u_axes[1][0].set_ylim(proj_lims)\n",
        "    u_axes[2][0].set_ylim(sim_mtx_lims)\n",
        "\n",
        "    u_annotate_protos = np.argsort(-u_prods)[:annotate_top_k]\n",
        "    for idx, bars in enumerate([bars_u_prods, bars_i_proj, bars_u_sim_mtx]):\n",
        "        for u_annotate_idx in u_annotate_protos:\n",
        "            bar = bars[u_annotate_idx]\n",
        "            label_x = bar.get_x() - 0.8\n",
        "            label_y = bar.get_height() + (2e-2 if idx == 2 else 1e-2)\n",
        "            u_axes[idx][0].annotate(f'{u_annotate_idx}', (label_x, label_y), fontsize=11)\n",
        "\n",
        "    u_axes[0][0].set_xlabel(r'$ {\\mathbf{s}}^{\\mathrm{user}}$', fontsize=16)\n",
        "    u_axes[1][0].set_xlabel('$ \\hat{\\mathbf{t}} $', fontsize=16)\n",
        "    u_axes[2][0].set_xlabel('$ \\mathbf{u}^{*} $', fontsize=16)\n",
        "    plt.tight_layout()\n",
        "    plt.plot()\n",
        "\n",
        "    # Plotting the items\n",
        "    #i_fig, i_axes = plt.subplots(3, 1, sharey='row', dpi=100, figsize=(i_vis_ratio * 8, 8))\n",
        "    i_x = np.arange(i_n_prototypes)\n",
        "\n",
        "    bars_i_prods = u_axes[0][1].bar(i_x, i_prods, color=plt.get_cmap('coolwarm')(rescale(i_prods)))\n",
        "    bars_u_proj = u_axes[1][1].bar(i_x, u_proj, color=plt.get_cmap('coolwarm')(rescale(u_proj)))\n",
        "    bars_i_sim_mtx = u_axes[2][1].bar(i_x, i_sim_mtx, color=plt.get_cmap('coolwarm')(rescale(i_sim_mtx)))\n",
        "\n",
        "    u_axes[0][1].set_ylim(prods_lims)\n",
        "    u_axes[1][1].set_ylim(proj_lims)\n",
        "    u_axes[2][1].set_ylim(sim_mtx_lims)\n",
        "\n",
        "    # Annotations\n",
        "    i_annotate_protos = np.argsort(-i_prods)[:annotate_top_k]\n",
        "    for idx, bars in enumerate([bars_i_prods, bars_u_proj, bars_i_sim_mtx]):\n",
        "        for i_annotate_idx in i_annotate_protos:\n",
        "            bar = bars[i_annotate_idx]\n",
        "            label_x = bar.get_x() + (-0.8 if idx == 2 else +0)\n",
        "            label_y = bar.get_height() + (2e-2 if idx == 2 else 1e-2)\n",
        "            u_axes[idx][1].annotate(f'{i_annotate_idx}', (label_x, label_y), fontsize=11)\n",
        "\n",
        "    u_axes[0][1].set_xlabel('$ \\mathbf{s}^{\\mathrm{item}} $', fontsize=16)\n",
        "    u_axes[1][1].set_xlabel('$ \\hat{\\mathbf{u}} $', fontsize=16)\n",
        "    u_axes[2][1].set_xlabel('$ \\mathbf{t}^{*} $', fontsize=16)\n",
        "\n",
        "    plt.tight_layout()\n",
        "    plt.plot()\n",
        "\n",
        "\n",
        "    if item_ptotos_interpret is not None and user_ptotos_interpret is not None and verbose_proto_info==True:\n",
        "        if item_id:\n",
        "          item_data = item_ptotos_interpret[item_ptotos_interpret.item_id==item_id]\n",
        "          print(f'Film {item_id}:{item_data.movienm.item()}, ganre:{item_data.genreid.item()}\\n')\n",
        "        for i in range(annotate_top_k):\n",
        "          text = user_ptotos_interpret[user_ptotos_interpret.proto_id==u_annotate_protos[i]][['genreid','movienm']].to_numpy()\n",
        "          print(f'U-proto {u_annotate_protos[i]}: {text}\\n')\n",
        "        for i in range(annotate_top_k):\n",
        "          text = item_ptotos_interpret[item_ptotos_interpret.proto_id==i_annotate_protos[i]][['genreid','movienm']].to_numpy()\n",
        "          print(f'I-proto {i_annotate_protos[i]}: {text}\\n')\n",
        "\n",
        "    if path_save_fig:\n",
        "        plt.savefig(path_save_fig, format='pdf')\n",
        "\n",
        "weight_visualization(u_sim_mtx=u_sim_mtx[user_id], u_proj=u_proj[user_id], i_sim_mtx=i_sim_mtx[item_id], i_proj=i_proj[item_id],\n",
        "                         annotate_top_k=4, item_ptotos_interpret=item_interp_df,user_ptotos_interpret=user_interp_df, item_id=item_id, verbose_proto_info=True)"
      ],
      "metadata": {
        "colab": {
          "base_uri": "https://localhost:8080/",
          "height": 1000
        },
        "id": "aYEymWZRswgr",
        "outputId": "21c96f71-9690-45d7-c780-2d5fdbe1ca41"
      },
      "id": "aYEymWZRswgr",
      "execution_count": 148,
      "outputs": [
        {
          "output_type": "stream",
          "name": "stdout",
          "text": [
            "U-proto 41: [[list(['Animation', \"Children's\", 'Comedy']) 'Toy Story (1995)']\n",
            " [list(['Horror']) 'Exorcist, The (1973)']\n",
            " [list(['Drama']) 'Sid and Nancy (1986)']\n",
            " [list(['Comedy']) 'My Cousin Vinny (1992)']\n",
            " [list(['Action', 'Drama', 'War']) 'Saving Private Ryan (1998)']]\n",
            "\n",
            "U-proto 60: [[list(['Comedy', 'Drama']) 'Where the Heart Is (2000)']\n",
            " [list(['Action', 'Comedy', 'Drama']) 'Get Shorty (1995)']\n",
            " [list(['Drama']) 'All About Eve (1950)']\n",
            " [list(['Action', 'Drama']) 'Gladiator (2000)']\n",
            " [list(['Comedy', 'Romance']) 'Wedding Singer, The (1998)']]\n",
            "\n",
            "U-proto 5: [[list(['Comedy', 'Drama']) 'North Dallas Forty (1979)']\n",
            " [list(['Action', 'Adventure', 'Sci-Fi']) 'Stargate (1994)']\n",
            " [list(['Crime', 'Film-Noir']) 'Asphalt Jungle, The (1950)']\n",
            " [list(['Drama']) 'Wonderland (1999)']\n",
            " [list(['Action', 'Adventure']) 'Good Man in Africa, A (1994)']]\n",
            "\n",
            "U-proto 52: [[list(['Comedy', 'Drama']) 'Do the Right Thing (1989)']\n",
            " [list(['Romance']) 'Persuasion (1995)']\n",
            " [list(['Action', 'Sci-Fi']) 'Godzilla (Gojira) (1984)']\n",
            " [list(['Drama']) 'Secret of Roan Inish, The (1994)']\n",
            " [list(['Drama', 'Mystery']) 'Conversation, The (1974)']]\n",
            "\n",
            "I-proto 35: [[list(['Drama']) 'Karate Kid, The (1984)']\n",
            " [list(['Horror']) 'Urban Legends: Final Cut (2000)']\n",
            " [list(['Comedy', 'Thriller']) 'Zero Effect (1998)']\n",
            " [list(['Drama', 'War']) 'Michael Collins (1996)']\n",
            " [list(['Drama']) \"We're No Angels (1989)\"]]\n",
            "\n",
            "I-proto 39: [[list(['Comedy']) 'Waterboy, The (1998)']\n",
            " [list(['Crime', 'Drama', 'Thriller']) 'Desperate Measures (1998)']\n",
            " [list(['Drama', 'Fantasy'])\n",
            "  'Faraway, So Close (In Weiter Ferne, So Nah!) (1993)']\n",
            " [list(['Comedy', 'Western']) 'Lightning Jack (1994)']\n",
            " [list(['Drama'])\n",
            "  'Ciao, Professore! (Io speriamo che me la cavo ) (1993)']]\n",
            "\n",
            "I-proto 58: [[list(['Drama']) 'Ponette (1996)']\n",
            " [list(['Comedy', 'Romance']) 'Mickey Blue Eyes (1999)']\n",
            " [list(['Action']) 'Steel (1997)']\n",
            " [list(['Action']) 'Kid, The (1921)']\n",
            " [list(['Drama', 'Mystery']) 'Anatomy of a Murder (1959)']]\n",
            "\n",
            "I-proto 9: [[list(['Comedy']) 'Kentucky Fried Movie, The (1977)']\n",
            " [list(['Comedy', 'Thriller']) 'Homegrown (1998)']\n",
            " [list(['Thriller']) 'Deterrence (1998)']\n",
            " [list(['Comedy']) 'Pajama Party (1964)']\n",
            " [list(['Comedy', 'Drama', 'Romance']) 'Next Stop, Wonderland (1998)']]\n",
            "\n"
          ]
        },
        {
          "output_type": "display_data",
          "data": {
            "text/plain": [
              "<Figure size 1000x1000 with 6 Axes>"
            ],
            "image/png": "[encoded data removed]"
          },
          "metadata": {}
        }
      ]
    },
    {
      "cell_type": "code",
      "source": [],
      "metadata": {
        "id": "N8qYjG7j3o4k"
      },
      "id": "N8qYjG7j3o4k",
      "execution_count": null,
      "outputs": []
    }
  ],
  "metadata": {
    "kernelspec": {
      "display_name": "Python 3",
      "name": "python3"
    },
    "language_info": {
      "codemirror_mode": {
        "name": "ipython",
        "version": 3
      },
      "file_extension": ".py",
      "mimetype": "text/x-python",
      "name": "python",
      "nbconvert_exporter": "python",
      "pygments_lexer": "ipython3",
      "version": "3.11.7"
    },
    "colab": {
      "provenance": [],
      "collapsed_sections": [
        "ZZtpylKjoW1c",
        "nYyIcEKZpMs7",
        "s9YrJEzMpjlf",
        "7WcdJFQlpo9B",
        "eT18T728xSDQ",
        "MWiAhKHVYhkn"
      ],
      "gpuType": "T4"
    },
    "accelerator": "GPU"
  },
  "nbformat": 4,
  "nbformat_minor": 5
}